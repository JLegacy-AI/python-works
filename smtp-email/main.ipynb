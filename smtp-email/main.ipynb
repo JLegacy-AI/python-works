{
 "cells": [
  {
   "cell_type": "code",
   "execution_count": 1,
   "metadata": {},
   "outputs": [
    {
     "name": "stdout",
     "output_type": "stream",
     "text": [
      "{'SERVER': 'smtpout.secureserver.net', 'PORT': 587, 'USER': 'Hello@pronesting.com', 'PASSWORD': 'Pronesting20252025'}\n"
     ]
    }
   ],
   "source": [
    "import smtplib\n",
    "from smtp_credential import get_credentials\n",
    "\n",
    "smtp_credentials = get_credentials()\n",
    "\n",
    "print(smtp_credentials)"
   ]
  },
  {
   "cell_type": "code",
   "execution_count": 2,
   "metadata": {},
   "outputs": [
    {
     "name": "stdout",
     "output_type": "stream",
     "text": [
      "1\n",
      "2\n",
      "4\n",
      "5\n",
      "SMTP Error: Connection unexpectedly closed\n"
     ]
    }
   ],
   "source": [
    "import smtplib\n",
    "from email.mime.multipart import MIMEMultipart\n",
    "from email.mime.text import MIMEText\n",
    "\n",
    "testing_email = \"jamal.webdev.ai@gmail.com\"\n",
    "\n",
    "subject = \"HELLO WORLD\"\n",
    "body = \"This is a test email sent from Python. Hello, World!\"\n",
    "\n",
    "try:\n",
    "    print(\"1\")\n",
    "    message = MIMEText(body, 'plain')\n",
    "    message[\"From\"] = smtp_credentials[\"USER\"]\n",
    "    message[\"To\"] = testing_email\n",
    "    message[\"Subject\"] = \"HELLO TESTING SMTP\"\n",
    "\n",
    "    print(\"2\")\n",
    "\n",
    "    if smtp_credentials[\"PORT\"] == 465:\n",
    "        print(\"3\")\n",
    "        # SSL connection\n",
    "        server = smtplib.SMTP_SSL(smtp_credentials[\"SERVER\"], smtp_credentials[\"PORT\"])\n",
    "    else:\n",
    "        print(\"4\")\n",
    "        # TLS connection\n",
    "        server = smtplib.SMTP(smtp_credentials[\"SERVER\"], smtp_credentials[\"PORT\"])\n",
    "        server.starttls()\n",
    "    \n",
    "    print(\"5\")\n",
    "    # Login and send email\n",
    "    server.login(smtp_credentials[\"USER\"], smtp_credentials[\"PASSWORD\"])\n",
    "    print(\"6\")\n",
    "    server.sendmail(smtp_credentials[\"USER\"], testing_email, message.as_string())\n",
    "    print(\"7\")\n",
    "    print(\"Email sent successfully!\")\n",
    "except smtplib.SMTPAuthenticationError:\n",
    "    print(\"SMTP Authentication Error: Incorrect username or password.\")\n",
    "except smtplib.SMTPException as e:\n",
    "    print(f\"SMTP Error: {e}\")"
   ]
  },
  {
   "cell_type": "code",
   "execution_count": null,
   "metadata": {},
   "outputs": [],
   "source": []
  }
 ],
 "metadata": {
  "kernelspec": {
   "display_name": "steel_profile",
   "language": "python",
   "name": "python3"
  },
  "language_info": {
   "codemirror_mode": {
    "name": "ipython",
    "version": 3
   },
   "file_extension": ".py",
   "mimetype": "text/x-python",
   "name": "python",
   "nbconvert_exporter": "python",
   "pygments_lexer": "ipython3",
   "version": "3.12.7"
  }
 },
 "nbformat": 4,
 "nbformat_minor": 2
}
