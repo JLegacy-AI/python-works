{
 "cells": [
  {
   "cell_type": "code",
   "execution_count": 1,
   "metadata": {},
   "outputs": [
    {
     "name": "stdout",
     "output_type": "stream",
     "text": [
      "PDF generated successfully!\n"
     ]
    }
   ],
   "source": [
    "from xhtml2pdf import pisa\n",
    "\n",
    "# Function to convert HTML to PDF\n",
    "def convert_html_to_pdf(source_html, output_filename):\n",
    "    with open(output_filename, \"wb\") as output_file:\n",
    "        # Convert HTML to PDF\n",
    "        pisa_status = pisa.CreatePDF(source_html, dest=output_file)\n",
    "        return pisa_status.err  # Return error code (0 if successful)\n",
    "\n",
    "# Example usage\n",
    "html_content = \"\"\"\n",
    "<!DOCTYPE html>\n",
    "<html lang=\"en\">\n",
    "<head>\n",
    "    <meta charset=\"UTF-8\">\n",
    "    <title>PDF Example</title>\n",
    "</head>\n",
    "<body>\n",
    "    <h1>Hello, World!</h1>\n",
    "    <p>שלום עולם (Hello, World in Hebrew)</p>\n",
    "</body>\n",
    "</html>\n",
    "\"\"\"\n",
    "\n",
    "# Convert the HTML string to a PDF file\n",
    "result = convert_html_to_pdf(html_content, \"output.pdf\")\n",
    "\n",
    "if result == 0:\n",
    "    print(\"PDF generated successfully!\")\n",
    "else:\n",
    "    print(\"Error occurred while generating PDF.\")\n"
   ]
  },
  {
   "cell_type": "code",
   "execution_count": 6,
   "metadata": {},
   "outputs": [
    {
     "name": "stdout",
     "output_type": "stream",
     "text": [
      "PDF successfully generated!\n"
     ]
    }
   ],
   "source": [
    "import pdfkit\n",
    "from io import BytesIO\n",
    "import os\n",
    "\n",
    "# Function to convert HTML to PDF and save in-memory\n",
    "def convert_html_to_pdf(source_html):\n",
    "    # Temporary file to save the PDF\n",
    "    temp_pdf_path = \"temp_output.pdf\"\n",
    "    \n",
    "    # Generate the PDF\n",
    "    pdfkit.from_string(source_html, temp_pdf_path)\n",
    "    \n",
    "    # Read the PDF into a BytesIO buffer\n",
    "    pdf_buffer = BytesIO()\n",
    "    with open(temp_pdf_path, \"rb\") as temp_pdf_file:\n",
    "        pdf_buffer.write(temp_pdf_file.read())\n",
    "    \n",
    "    # Remove the temporary file\n",
    "    os.remove(temp_pdf_path)\n",
    "    \n",
    "    # Reset buffer position to the beginning\n",
    "    pdf_buffer.seek(0)\n",
    "    \n",
    "    return pdf_buffer\n",
    "\n",
    "# Example usage\n",
    "html_content = \"\"\"\n",
    "<!DOCTYPE html>\n",
    "<html lang=\"en\">\n",
    "<head>\n",
    "    <meta charset=\"UTF-8\">\n",
    "    <title>PDF Example</title>\n",
    "    <style>\n",
    "        *{\n",
    "            font-family: Arial, sans-serif;\n",
    "        }\n",
    "    </style>\n",
    "</head>\n",
    "<body>\n",
    "    <h1>Hello, World!</h1>\n",
    "    <p>שלום עולם (Hello, World in Hebrew)</p>\n",
    "</body>\n",
    "</html>\n",
    "\"\"\"\n",
    "\n",
    "# Convert HTML to PDF in-memory\n",
    "pdf_buffer = convert_html_to_pdf(html_content)\n",
    "\n",
    "# Save the buffer to a file for demonstration\n",
    "with open(\"output.pdf\", \"wb\") as output_file:\n",
    "    output_file.write(pdf_buffer.getvalue())\n",
    "\n",
    "print(\"PDF successfully generated!\")\n"
   ]
  },
  {
   "cell_type": "code",
   "execution_count": null,
   "metadata": {},
   "outputs": [],
   "source": []
  }
 ],
 "metadata": {
  "kernelspec": {
   "display_name": "steel_profile",
   "language": "python",
   "name": "python3"
  },
  "language_info": {
   "codemirror_mode": {
    "name": "ipython",
    "version": 3
   },
   "file_extension": ".py",
   "mimetype": "text/x-python",
   "name": "python",
   "nbconvert_exporter": "python",
   "pygments_lexer": "ipython3",
   "version": "3.12.7"
  }
 },
 "nbformat": 4,
 "nbformat_minor": 2
}
