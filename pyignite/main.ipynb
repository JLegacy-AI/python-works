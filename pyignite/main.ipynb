{
 "cells": [
  {
   "cell_type": "code",
   "execution_count": 26,
   "metadata": {},
   "outputs": [],
   "source": [
    "from pyignite import Client\n",
    "from pyignite.datatypes.cache_config import CacheMode\n",
    "from pyignite.datatypes.prop_codes import *\n",
    "from pyignite.datatypes.cluster_state import ClusterState\n",
    "from pyignite.exceptions import SocketError"
   ]
  },
  {
   "cell_type": "code",
   "execution_count": 34,
   "metadata": {},
   "outputs": [
    {
     "name": "stdout",
     "output_type": "stream",
     "text": [
      "Connected to Ignite cluster.\n",
      "Table 'StockData' created successfully or already exists.\n",
      "Data inserted successfully.\n",
      "Retrieved data: ['A', '09/25/2024', 141.97, 142.84, 139.21, 139.44, 14099]\n",
      "Retrieved data: ['A', '09/26/2024', 141.26, 146.96, 140.54, 146.74, 21469]\n",
      "Retrieved data: ['A', '09/27/2024', 147.18, 150.08, 147.18, 148.06, 22006]\n"
     ]
    }
   ],
   "source": [
    "from pyignite import Client\n",
    "from pyignite.exceptions import SocketError\n",
    "\n",
    "# SQL command to create the table if it does not exist\n",
    "create_table_query = '''\n",
    "CREATE TABLE StockData (\n",
    "    symbol VARCHAR,           -- Stock symbol\n",
    "    date VARCHAR,             -- Trade date\n",
    "    open FLOAT,             -- Open price\n",
    "    high FLOAT,             -- High price\n",
    "    low FLOAT,              -- Low price\n",
    "    close FLOAT,            -- Close price\n",
    "    volume INTEGER,           -- Volume\n",
    "    PRIMARY KEY (symbol, date)  -- Use symbol and date as composite primary key\n",
    ") WITH \"template=partitioned, backups=1\";\n",
    "'''\n",
    "\n",
    "# SQL commands to insert sample data\n",
    "insert_data_queries = [\n",
    "    \"INSERT INTO StockData (symbol, date, open, high, low, close, volume) VALUES ('A', '09/27/2024', 147.18, 150.08, 147.18, 148.06, 22006)\",\n",
    "    \"INSERT INTO StockData (symbol, date, open, high, low, close, volume) VALUES ('A', '09/26/2024', 141.26, 146.96, 140.54, 146.74, 21469)\",\n",
    "    \"INSERT INTO StockData (symbol, date, open, high, low, close, volume) VALUES ('A', '09/25/2024', 141.97, 142.84, 139.21, 139.44, 14099)\"\n",
    "]\n",
    "\n",
    "# SQL command to select data from the StockData table\n",
    "select_data_sql = \"SELECT * FROM StockData\"\n",
    "\n",
    "# Define the nodes you want to connect to\n",
    "nodes = [\n",
    "    ('127.0.0.1', 10800),  # Adjust this if your Ignite server is on a different port or IP\n",
    "]\n",
    "\n",
    "# Create a client and connect to the nodes\n",
    "client = Client(timeout=60.0)\n",
    "\n",
    "try:\n",
    "    client.connect(nodes)  # Connect to the Ignite cluster\n",
    "    print('Connected to Ignite cluster.')\n",
    "\n",
    "    # Step 1: Create the table if it does not exist\n",
    "    client.sql(create_table_query)\n",
    "    print(\"Table 'StockData' created successfully or already exists.\")\n",
    "\n",
    "    # Step 2: Insert data into the StockData table\n",
    "    for insert_query in insert_data_queries:\n",
    "        client.sql(insert_query)\n",
    "    print(\"Data inserted successfully.\")\n",
    "\n",
    "    # Step 3: Retrieve and print data from the StockData table\n",
    "    cursor = client.sql(select_data_sql)\n",
    "    for row in cursor:\n",
    "        print(f\"Retrieved data: {row}\")\n",
    "\n",
    "except SocketError as e:\n",
    "    print(f\"SocketError: {e}\")\n",
    "except Exception as e:\n",
    "    print(f\"Failed to execute SQL command: {e}\")\n",
    "finally:\n",
    "    client.close()  # Close the connection when done\n"
   ]
  },
  {
   "cell_type": "code",
   "execution_count": null,
   "metadata": {},
   "outputs": [],
   "source": []
  },
  {
   "cell_type": "code",
   "execution_count": 11,
   "metadata": {},
   "outputs": [
    {
     "ename": "ReconnectError",
     "evalue": "Can not reconnect: out of nodes.",
     "output_type": "error",
     "traceback": [
      "\u001b[1;31m---------------------------------------------------------------------------\u001b[0m",
      "\u001b[1;31mReconnectError\u001b[0m                            Traceback (most recent call last)",
      "Cell \u001b[1;32mIn[11], line 2\u001b[0m\n\u001b[0;32m      1\u001b[0m \u001b[38;5;66;03m# Execute the SQL command to create the table\u001b[39;00m\n\u001b[1;32m----> 2\u001b[0m \u001b[43mclient\u001b[49m\u001b[38;5;241;43m.\u001b[39;49m\u001b[43msql\u001b[49m\u001b[43m(\u001b[49m\u001b[43mcreate_table_sql\u001b[49m\u001b[43m)\u001b[49m\n\u001b[0;32m      4\u001b[0m \u001b[38;5;28mprint\u001b[39m(\u001b[38;5;124m\"\u001b[39m\u001b[38;5;124mTable \u001b[39m\u001b[38;5;124m'\u001b[39m\u001b[38;5;124mstocks\u001b[39m\u001b[38;5;124m'\u001b[39m\u001b[38;5;124m created successfully or already exists.\u001b[39m\u001b[38;5;124m\"\u001b[39m)\n",
      "File \u001b[1;32mc:\\Users\\jlega\\.conda\\envs\\riskaverse-env\\lib\\site-packages\\pyignite\\client.py:774\u001b[0m, in \u001b[0;36mClient.sql\u001b[1;34m(self, query_str, page_size, query_args, schema, statement_type, distributed_joins, local, replicated_only, enforce_join_order, collocated, lazy, include_field_names, max_rows, timeout, cache)\u001b[0m\n\u001b[0;32m    771\u001b[0m \u001b[38;5;28;01mif\u001b[39;00m c_info\u001b[38;5;241m.\u001b[39mcache_id:\n\u001b[0;32m    772\u001b[0m     schema \u001b[38;5;241m=\u001b[39m \u001b[38;5;28;01mNone\u001b[39;00m\n\u001b[1;32m--> 774\u001b[0m \u001b[38;5;28;01mreturn\u001b[39;00m \u001b[43mSqlFieldsCursor\u001b[49m\u001b[43m(\u001b[49m\u001b[38;5;28;43mself\u001b[39;49m\u001b[43m,\u001b[49m\u001b[43m \u001b[49m\u001b[43mc_info\u001b[49m\u001b[43m,\u001b[49m\u001b[43m \u001b[49m\u001b[43mquery_str\u001b[49m\u001b[43m,\u001b[49m\u001b[43m \u001b[49m\u001b[43mpage_size\u001b[49m\u001b[43m,\u001b[49m\u001b[43m \u001b[49m\u001b[43mquery_args\u001b[49m\u001b[43m,\u001b[49m\u001b[43m \u001b[49m\u001b[43mschema\u001b[49m\u001b[43m,\u001b[49m\u001b[43m \u001b[49m\u001b[43mstatement_type\u001b[49m\u001b[43m,\u001b[49m\n\u001b[0;32m    775\u001b[0m \u001b[43m                       \u001b[49m\u001b[43mdistributed_joins\u001b[49m\u001b[43m,\u001b[49m\u001b[43m \u001b[49m\u001b[43mlocal\u001b[49m\u001b[43m,\u001b[49m\u001b[43m \u001b[49m\u001b[43mreplicated_only\u001b[49m\u001b[43m,\u001b[49m\u001b[43m \u001b[49m\u001b[43menforce_join_order\u001b[49m\u001b[43m,\u001b[49m\u001b[43m \u001b[49m\u001b[43mcollocated\u001b[49m\u001b[43m,\u001b[49m\u001b[43m \u001b[49m\u001b[43mlazy\u001b[49m\u001b[43m,\u001b[49m\n\u001b[0;32m    776\u001b[0m \u001b[43m                       \u001b[49m\u001b[43minclude_field_names\u001b[49m\u001b[43m,\u001b[49m\u001b[43m \u001b[49m\u001b[43mmax_rows\u001b[49m\u001b[43m,\u001b[49m\u001b[43m \u001b[49m\u001b[43mtimeout\u001b[49m\u001b[43m)\u001b[49m\n",
      "File \u001b[1;32mc:\\Users\\jlega\\.conda\\envs\\riskaverse-env\\lib\\site-packages\\pyignite\\cursors.py:304\u001b[0m, in \u001b[0;36mSqlFieldsCursor.__init__\u001b[1;34m(self, client, cache_info, *args, **kwargs)\u001b[0m\n\u001b[0;32m    299\u001b[0m \u001b[38;5;250m\u001b[39m\u001b[38;5;124;03m\"\"\"\u001b[39;00m\n\u001b[0;32m    300\u001b[0m \u001b[38;5;124;03m:param client: Synchronous Apache Ignite client.\u001b[39;00m\n\u001b[0;32m    301\u001b[0m \u001b[38;5;124;03m:param cache_info: Cache meta info.\u001b[39;00m\n\u001b[0;32m    302\u001b[0m \u001b[38;5;124;03m\"\"\"\u001b[39;00m\n\u001b[0;32m    303\u001b[0m \u001b[38;5;28msuper\u001b[39m()\u001b[38;5;241m.\u001b[39m\u001b[38;5;21m__init__\u001b[39m(client, cache_info)\n\u001b[1;32m--> 304\u001b[0m \u001b[38;5;28mself\u001b[39m\u001b[38;5;241m.\u001b[39mconnection \u001b[38;5;241m=\u001b[39m \u001b[38;5;28;43mself\u001b[39;49m\u001b[38;5;241;43m.\u001b[39;49m\u001b[43mclient\u001b[49m\u001b[38;5;241;43m.\u001b[39;49m\u001b[43mrandom_node\u001b[49m\n\u001b[0;32m    305\u001b[0m \u001b[38;5;28mself\u001b[39m\u001b[38;5;241m.\u001b[39m_finalize_init(sql_fields(\u001b[38;5;28mself\u001b[39m\u001b[38;5;241m.\u001b[39mconnection, \u001b[38;5;28mself\u001b[39m\u001b[38;5;241m.\u001b[39mcache_info, \u001b[38;5;241m*\u001b[39margs, \u001b[38;5;241m*\u001b[39m\u001b[38;5;241m*\u001b[39mkwargs))\n",
      "File \u001b[1;32mc:\\Users\\jlega\\.conda\\envs\\riskaverse-env\\lib\\site-packages\\pyignite\\client.py:452\u001b[0m, in \u001b[0;36mClient.random_node\u001b[1;34m(self)\u001b[0m\n\u001b[0;32m    443\u001b[0m \u001b[38;5;250m\u001b[39m\u001b[38;5;124;03m\"\"\"\u001b[39;00m\n\u001b[0;32m    444\u001b[0m \u001b[38;5;124;03mReturns random usable node.\u001b[39;00m\n\u001b[0;32m    445\u001b[0m \n\u001b[1;32m   (...)\u001b[0m\n\u001b[0;32m    448\u001b[0m \u001b[38;5;124;03mexamining connections, et c.) you probably should not use it.\u001b[39;00m\n\u001b[0;32m    449\u001b[0m \u001b[38;5;124;03m\"\"\"\u001b[39;00m\n\u001b[0;32m    450\u001b[0m \u001b[38;5;28;01mif\u001b[39;00m \u001b[38;5;28mself\u001b[39m\u001b[38;5;241m.\u001b[39mpartition_aware:\n\u001b[0;32m    451\u001b[0m     \u001b[38;5;66;03m# if partition awareness is used just pick a random connected node\u001b[39;00m\n\u001b[1;32m--> 452\u001b[0m     \u001b[38;5;28;01mreturn\u001b[39;00m \u001b[38;5;28;43mself\u001b[39;49m\u001b[38;5;241;43m.\u001b[39;49m\u001b[43m_get_random_node\u001b[49m\u001b[43m(\u001b[49m\u001b[43m)\u001b[49m\n\u001b[0;32m    453\u001b[0m \u001b[38;5;28;01melse\u001b[39;00m:\n\u001b[0;32m    454\u001b[0m     \u001b[38;5;66;03m# if partition awareness is not used then just return the current\u001b[39;00m\n\u001b[0;32m    455\u001b[0m     \u001b[38;5;66;03m# node if it's alive or the next usable node if connection with the\u001b[39;00m\n\u001b[0;32m    456\u001b[0m     \u001b[38;5;66;03m# current is broken\u001b[39;00m\n\u001b[0;32m    457\u001b[0m     node \u001b[38;5;241m=\u001b[39m \u001b[38;5;28mself\u001b[39m\u001b[38;5;241m.\u001b[39m_nodes[\u001b[38;5;28mself\u001b[39m\u001b[38;5;241m.\u001b[39m_current_node]\n",
      "File \u001b[1;32mc:\\Users\\jlega\\.conda\\envs\\riskaverse-env\\lib\\site-packages\\pyignite\\client.py:491\u001b[0m, in \u001b[0;36mClient._get_random_node\u001b[1;34m(self, reconnect)\u001b[0m\n\u001b[0;32m    488\u001b[0m     \u001b[38;5;28;01mfor\u001b[39;00m n \u001b[38;5;129;01min\u001b[39;00m \u001b[38;5;28mself\u001b[39m\u001b[38;5;241m.\u001b[39m_nodes:\n\u001b[0;32m    489\u001b[0m         n\u001b[38;5;241m.\u001b[39mreconnect()\n\u001b[1;32m--> 491\u001b[0m     \u001b[38;5;28;01mreturn\u001b[39;00m \u001b[38;5;28;43mself\u001b[39;49m\u001b[38;5;241;43m.\u001b[39;49m\u001b[43m_get_random_node\u001b[49m\u001b[43m(\u001b[49m\u001b[43mreconnect\u001b[49m\u001b[38;5;241;43m=\u001b[39;49m\u001b[38;5;28;43;01mFalse\u001b[39;49;00m\u001b[43m)\u001b[49m\n\u001b[0;32m    492\u001b[0m \u001b[38;5;28;01melse\u001b[39;00m:\n\u001b[0;32m    493\u001b[0m     \u001b[38;5;66;03m# cannot choose from an empty sequence\u001b[39;00m\n\u001b[0;32m    494\u001b[0m     \u001b[38;5;28;01mraise\u001b[39;00m ReconnectError(\u001b[38;5;124m'\u001b[39m\u001b[38;5;124mCan not reconnect: out of nodes.\u001b[39m\u001b[38;5;124m'\u001b[39m) \u001b[38;5;28;01mfrom\u001b[39;00m \u001b[38;5;28;01mNone\u001b[39;00m\n",
      "File \u001b[1;32mc:\\Users\\jlega\\.conda\\envs\\riskaverse-env\\lib\\site-packages\\pyignite\\client.py:494\u001b[0m, in \u001b[0;36mClient._get_random_node\u001b[1;34m(self, reconnect)\u001b[0m\n\u001b[0;32m    491\u001b[0m     \u001b[38;5;28;01mreturn\u001b[39;00m \u001b[38;5;28mself\u001b[39m\u001b[38;5;241m.\u001b[39m_get_random_node(reconnect\u001b[38;5;241m=\u001b[39m\u001b[38;5;28;01mFalse\u001b[39;00m)\n\u001b[0;32m    492\u001b[0m \u001b[38;5;28;01melse\u001b[39;00m:\n\u001b[0;32m    493\u001b[0m     \u001b[38;5;66;03m# cannot choose from an empty sequence\u001b[39;00m\n\u001b[1;32m--> 494\u001b[0m     \u001b[38;5;28;01mraise\u001b[39;00m ReconnectError(\u001b[38;5;124m'\u001b[39m\u001b[38;5;124mCan not reconnect: out of nodes.\u001b[39m\u001b[38;5;124m'\u001b[39m) \u001b[38;5;28;01mfrom\u001b[39;00m \u001b[38;5;28;01mNone\u001b[39;00m\n",
      "\u001b[1;31mReconnectError\u001b[0m: Can not reconnect: out of nodes."
     ]
    }
   ],
   "source": [
    "# Execute the SQL command to create the table\n",
    "client.sql(create_table_sql)\n",
    "\n",
    "print(\"Table 'stocks' created successfully or already exists.\")"
   ]
  },
  {
   "cell_type": "code",
   "execution_count": 14,
   "metadata": {},
   "outputs": [],
   "source": [
    "client.close()"
   ]
  },
  {
   "cell_type": "code",
   "execution_count": null,
   "metadata": {},
   "outputs": [],
   "source": []
  }
 ],
 "metadata": {
  "kernelspec": {
   "display_name": "riskaverse-env",
   "language": "python",
   "name": "python3"
  },
  "language_info": {
   "codemirror_mode": {
    "name": "ipython",
    "version": 3
   },
   "file_extension": ".py",
   "mimetype": "text/x-python",
   "name": "python",
   "nbconvert_exporter": "python",
   "pygments_lexer": "ipython3",
   "version": "3.9.19"
  }
 },
 "nbformat": 4,
 "nbformat_minor": 2
}
