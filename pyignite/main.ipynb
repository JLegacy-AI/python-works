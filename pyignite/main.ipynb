{
 "cells": [
  {
   "cell_type": "code",
   "execution_count": null,
   "metadata": {},
   "outputs": [],
   "source": [
    "# from pyignite import Client\n",
    "# from pyignite.datatypes.cache_config import CacheMode\n",
    "# from pyignite.datatypes.prop_codes import *\n",
    "# from pyignite.datatypes.cluster_state import ClusterState\n",
    "# from pyignite.exceptions import SocketError"
   ]
  },
  {
   "cell_type": "code",
   "execution_count": null,
   "metadata": {},
   "outputs": [],
   "source": [
    "# from pyignite import Client\n",
    "# from pyignite.exceptions import SocketError\n",
    "\n",
    "# # SQL command to create the table if it does not exist\n",
    "# create_table_query = '''\n",
    "# CREATE TABLE StockData (\n",
    "#     symbol VARCHAR,           -- Stock symbol\n",
    "#     date VARCHAR,             -- Trade date\n",
    "#     open FLOAT,             -- Open price\n",
    "#     high FLOAT,             -- High price\n",
    "#     low FLOAT,              -- Low price\n",
    "#     close FLOAT,            -- Close price\n",
    "#     volume INTEGER,           -- Volume\n",
    "#     PRIMARY KEY (symbol, date)  -- Use symbol and date as composite primary key\n",
    "# ) WITH \"template=partitioned, backups=1\";\n",
    "# '''\n",
    "\n",
    "# # SQL commands to insert sample data\n",
    "# insert_data_queries = [\n",
    "#     \"INSERT INTO StockData (symbol, date, open, high, low, close, volume) VALUES ('A', '09/27/2024', 147.18, 150.08, 147.18, 148.06, 22006)\",\n",
    "#     \"INSERT INTO StockData (symbol, date, open, high, low, close, volume) VALUES ('A', '09/26/2024', 141.26, 146.96, 140.54, 146.74, 21469)\",\n",
    "#     \"INSERT INTO StockData (symbol, date, open, high, low, close, volume) VALUES ('A', '09/25/2024', 141.97, 142.84, 139.21, 139.44, 14099)\"\n",
    "# ]\n",
    "\n",
    "# # SQL command to select data from the StockData table\n",
    "# select_data_sql = \"SELECT * FROM StockData\"\n",
    "\n",
    "# # Define the nodes you want to connect to\n",
    "# nodes = [\n",
    "#     ('127.0.0.1', 10800),  # Adjust this if your Ignite server is on a different port or IP\n",
    "# ]\n",
    "\n",
    "# # Create a client and connect to the nodes\n",
    "# client = Client(timeout=60.0)\n",
    "\n",
    "# try:\n",
    "#     client.connect(nodes)  # Connect to the Ignite cluster\n",
    "#     print('Connected to Ignite cluster.')\n",
    "\n",
    "#     # Step 1: Create the table if it does not exist\n",
    "#     client.sql(create_table_query)\n",
    "#     print(\"Table 'StockData' created successfully or already exists.\")\n",
    "\n",
    "#     # Step 2: Insert data into the StockData table\n",
    "#     for insert_query in insert_data_queries:\n",
    "#         client.sql(insert_query)\n",
    "#     print(\"Data inserted successfully.\")\n",
    "\n",
    "#     # Step 3: Retrieve and print data from the StockData table\n",
    "#     cursor = client.sql(select_data_sql)\n",
    "#     for row in cursor:\n",
    "#         print(f\"Retrieved data: {row}\")\n",
    "\n",
    "# except SocketError as e:\n",
    "#     print(f\"SocketError: {e}\")\n",
    "# except Exception as e:\n",
    "#     print(f\"Failed to execute SQL command: {e}\")\n",
    "# finally:\n",
    "#     client.close()  # Close the connection when done\n"
   ]
  },
  {
   "cell_type": "code",
   "execution_count": null,
   "metadata": {},
   "outputs": [],
   "source": [
    "# from pyignite import Client\n",
    "# from pyignite.exceptions import SocketError\n",
    "\n",
    "# # SQL command to select data from the StockData table\n",
    "# select_data_sql = \"SELECT Symbol, Open, Low, High, Close, Volume, Date FROM stocks_data LIMIT 10000 OFFSET 1470000;\"\n",
    "\n",
    "# # Define the nodes you want to connect to\n",
    "# nodes = [\n",
    "#     ('127.0.0.1', 10800),  # Adjust this if your Ignite server is on a different port or IP\n",
    "# ]\n",
    "\n",
    "# # Create a client and connect to the nodes\n",
    "# client = Client(timeout=60.0)\n",
    "\n",
    "# try:\n",
    "#     client.connect(nodes)  # Connect to the Ignite cluster\n",
    "#     print('Connected to Ignite cluster.')\n",
    "\n",
    "#     # Step 3: Retrieve and print data from the StockData table\n",
    "#     cursor = client.sql(select_data_sql)\n",
    "#     for row in cursor:\n",
    "#         print(f\"Retrieved data: {row}\")\n",
    "\n",
    "# except SocketError as e:\n",
    "#     print(f\"SocketError: {e}\")\n",
    "# except Exception as e:\n",
    "#     print(f\"Failed to execute SQL command: {e}\")\n",
    "# finally:\n",
    "#     client.close()  # Close the connection when done\n"
   ]
  },
  {
   "cell_type": "code",
   "execution_count": null,
   "metadata": {},
   "outputs": [],
   "source": [
    "# # Execute the SQL command to create the table\n",
    "# client.sql(create_table_sql)\n",
    "\n",
    "# print(\"Table 'stocks' created successfully or already exists.\")"
   ]
  },
  {
   "cell_type": "code",
   "execution_count": null,
   "metadata": {},
   "outputs": [],
   "source": [
    "# client.close()"
   ]
  },
  {
   "cell_type": "code",
   "execution_count": null,
   "metadata": {},
   "outputs": [],
   "source": [
    "# from pyignite import Client\n",
    "# from pyignite.exceptions import SocketError\n",
    "\n",
    "# clients = []\n",
    "\n",
    "# for i in range(10):\n",
    "#     # Create a client and connect to the nodes\n",
    "#     client = Client(timeout=60.0)\n",
    "#     client.connect(\"127.0.0.1\",10800)\n",
    "#     clients.append(client)\n",
    "\n",
    "# for i in clients:\n",
    "#     i.close()\n"
   ]
  },
  {
   "cell_type": "code",
   "execution_count": null,
   "metadata": {},
   "outputs": [],
   "source": [
    "# from flask import Flask, request, jsonify\n",
    "\n",
    "# app = Flask(__name__)\n",
    "\n",
    "# # GET request with URL parameter\n",
    "# @app.route('/user/<username>', methods=['GET'])\n",
    "# def get_user(username):\n",
    "#     return jsonify({'message': f'User {username} retrieved successfully'})\n",
    "\n",
    "# # POST request to create a new user with JSON data\n",
    "# @app.route('/user', methods=['POST'])\n",
    "# def create_user():\n",
    "#     data = request.get_json()  # Get data from JSON body\n",
    "#     return jsonify({'message': f'User {data[\"username\"]} created successfully', 'data': data}), 201\n",
    "\n",
    "# # PUT request to update a user with JSON data\n",
    "# @app.route('/user/<int:user_id>', methods=['PUT'])\n",
    "# def update_user(user_id):\n",
    "#     data = request.get_json()\n",
    "#     data['id'] = user_id  # Assume we pass the user ID in the URL\n",
    "#     return jsonify({'message': f'User {user_id} updated successfully', 'data': data})\n",
    "\n",
    "# # DELETE request to delete a user\n",
    "# @app.route('/user/<int:user_id>', methods=['DELETE'])\n",
    "# def delete_user(user_id):\n",
    "#     return jsonify({'message': f'User {user_id} deleted successfully'})\n",
    "\n",
    "# if __name__ == '__main__':\n",
    "#     app.run(debug=True)\n"
   ]
  },
  {
   "cell_type": "code",
   "execution_count": null,
   "metadata": {},
   "outputs": [],
   "source": [
    "# from flask import Flask, request, jsonify\n",
    "\n",
    "# app = Flask(__name__)\n",
    "\n",
    "# @app.route('/search', methods=['GET'])\n",
    "# def search():\n",
    "#     # Access query parameters\n",
    "#     user_id = request.args.get('user_id', None)  # Returns None if not present\n",
    "#     token = request.args.get('token', None)\n",
    "    \n",
    "#     # You can also use request.args['key'] which will raise a KeyError if key is not present\n",
    "#     # or use request.args.getlist('key') if you expect multiple values for the same key\n",
    "\n",
    "#     # Create a response object or perform actions based on the query parameters\n",
    "#     if user_id and token:\n",
    "#         response = {\n",
    "#             'status': 'success',\n",
    "#             'message': f'Received user_id: {user_id} and token: {token}'\n",
    "#         }\n",
    "#     else:\n",
    "#         response = {\n",
    "#             'status': 'error',\n",
    "#             'message': 'Missing user_id or token'\n",
    "#         }\n",
    "\n",
    "#     return jsonify(response)\n",
    "\n",
    "# if __name__ == '__main__':\n",
    "#     app.run(debug=True)\n"
   ]
  },
  {
   "cell_type": "code",
   "execution_count": 3,
   "metadata": {},
   "outputs": [
    {
     "name": "stdout",
     "output_type": "stream",
     "text": [
      "11\n",
      "[START] 0\n",
      "10\n",
      "[START] 0\n",
      "[START] 1\n",
      "9\n",
      "[START] 0\n",
      "[START] 1\n",
      "[START] 2\n",
      "8\n",
      "[START] 0\n",
      "[START] 1\n",
      "[START] 2\n",
      "[START] 3\n",
      "7\n",
      "[START] 0\n",
      "[START] 1\n",
      "[START] 2\n",
      "[START] 3\n",
      "[START] 4\n",
      "6\n",
      "[START] 0\n",
      "[START] 1\n",
      "[START] 2\n",
      "[START] 3\n",
      "[START] 4\n",
      "[START] 5\n",
      "5\n",
      "[START] 0\n",
      "[START] 1\n",
      "[START] 2\n",
      "[START] 3\n",
      "[START] 4\n",
      "[START] 5\n",
      "[START] 6\n",
      "Longest Common Substring: world\n"
     ]
    }
   ],
   "source": [
    "def longest_common_substring(str1, str2):\n",
    "    # Start with the shorter string to minimize the number of checks\n",
    "    if len(str1) > len(str2):\n",
    "        str1, str2 = str2, str1\n",
    "    \n",
    "    # Check all substrings starting from the longest\n",
    "    for length in range(len(str1), 0, -1):\n",
    "        print(length)\n",
    "        for start in range(len(str1) - length + 1):\n",
    "            print(\"[START]\",start)\n",
    "            candidate = str1[start:start + length]\n",
    "            if candidate in str2:\n",
    "                return candidate\n",
    "    return \"\"  # Return an empty string if no common substring found\n",
    "\n",
    "# Example usage\n",
    "str1 = \"hello world\"\n",
    "str2 = \"world wide web\"\n",
    "print(\"Longest Common Substring:\", longest_common_substring(str1, str2))\n"
   ]
  },
  {
   "cell_type": "code",
   "execution_count": null,
   "metadata": {},
   "outputs": [
    {
     "name": "stdout",
     "output_type": "stream",
     "text": [
      "Email: info@example.com, Valid: True\n",
      "Email: john.doe@web-site123.co.uk, Valid: True\n",
      "Email: jane_doe@website, Valid: False\n",
      "Email: invalid-email@.com, Valid: False\n"
     ]
    }
   ],
   "source": [
    "# EMAIL VALIDATOR\n",
    "import re\n",
    "email = \"jamaljaa@gmail.com\"\n",
    "\n",
    "def is_valid_email(email):\n",
    "    if re.match(r'^[a-zA-Z0-9._%+-]+@[a-zA-Z0-9.-]+\\.[a-zA-Z]{2,}$', email):\n",
    "        return True\n",
    "    else:\n",
    "        return False\n",
    "\n",
    "# Test the function\n",
    "test_emails = [\"info@example.com\", \"john.doe@web-site123.co.uk\", \"jane_doe@website\", \"invalid-email@.com\"]\n",
    "for email in test_emails:\n",
    "    print(f\"Email: {email}, Valid: {is_valid_email(email)}\")"
   ]
  },
  {
   "cell_type": "code",
   "execution_count": 22,
   "metadata": {},
   "outputs": [
    {
     "name": "stdout",
     "output_type": "stream",
     "text": [
      "[COMBO] 2 , 15\n"
     ]
    }
   ],
   "source": [
    "# SUM OF TWO NUMBERS EQUAL TO TARGET\n",
    "target = 17\n",
    "nums = [2, 7, 11, 15]\n",
    "\n",
    "\n",
    "for i in range(len(nums)-1):\n",
    "    for j in range(i+1,len(nums)):\n",
    "        if nums[i] + nums[j] == target:\n",
    "            print(\"[COMBO]\",nums[i],\",\",nums[j])"
   ]
  },
  {
   "cell_type": "code",
   "execution_count": 30,
   "metadata": {},
   "outputs": [
    {
     "name": "stdout",
     "output_type": "stream",
     "text": [
      "[DESC] [5, 4, 3, 1, 1]\n",
      "[UNIQUE] [1, 3, 4, 5]\n",
      "[UNIQUE] [3, 1, 4, 5]\n"
     ]
    }
   ],
   "source": [
    "numbers = [3, 1, 4, 1, 5]\n",
    "sorted_numbers = sorted(numbers,reverse=True)  # Output: [1, 1, 3, 4, 5]\n",
    "print(\"[DESC]\",sorted_numbers)\n",
    "print(\"[UNIQUE]\",list(set(sorted_numbers)))\n",
    "\n",
    "unique = {}\n",
    "\n",
    "for i in numbers:\n",
    "    if i not in unique:\n",
    "        unique[i] = True\n",
    "\n",
    "unique_numbers = []\n",
    "for i,j in unique.items():\n",
    "    unique_numbers.append(i)\n",
    "\n",
    "print(\"[UNIQUE]\",unique_numbers)\n"
   ]
  },
  {
   "cell_type": "code",
   "execution_count": null,
   "metadata": {},
   "outputs": [],
   "source": [
    "a = (1,2,4)\n",
    "# a[0] = 3\n",
    "for i in range(len(a)):\n",
    "    print(a[i])"
   ]
  },
  {
   "cell_type": "code",
   "execution_count": 41,
   "metadata": {},
   "outputs": [
    {
     "name": "stdout",
     "output_type": "stream",
     "text": [
      "1.875\n"
     ]
    }
   ],
   "source": [
    "from functools import reduce\n",
    "numbers = [1,2,3,4,5]\n",
    "print(reduce(lambda x,y: y/x, numbers))"
   ]
  },
  {
   "cell_type": "code",
   "execution_count": null,
   "metadata": {},
   "outputs": [
    {
     "name": "stdout",
     "output_type": "stream",
     "text": [
      "17 19 2 {}\n",
      "12 19 7 {2: 0}\n",
      "8 19 11 {2: 0, 7: 1}\n",
      "2 19 17 {2: 0, 7: 1, 11: 2}\n",
      "Indices of numbers that add up to the target: [0, 3]\n"
     ]
    }
   ],
   "source": [
    "def two_sum(nums, target):\n",
    "    # Create a dictionary to store the numbers and their indices\n",
    "    num_dict = {}\n",
    "    \n",
    "    # Traverse the list of numbers\n",
    "    for i, num in enumerate(nums):\n",
    "        # Calculate the complement of the current number\n",
    "        complement = target - num\n",
    "        \n",
    "        print(complement,target,num, num_dict)\n",
    "        # Check if the complement is already in the dictionary\n",
    "        if complement in num_dict:\n",
    "            return [num_dict[complement], i]\n",
    "        \n",
    "        # If not found, add the current number and its index to the dictionary\n",
    "        num_dict[num] = i\n",
    "\n",
    "# Example usage\n",
    "nums = [2, 7, 11, 17]\n",
    "target = 19\n",
    "print(\"Indices of numbers that add up to the target:\", two_sum(nums, target))\n"
   ]
  },
  {
   "cell_type": "code",
   "execution_count": null,
   "metadata": {},
   "outputs": [],
   "source": []
  },
  {
   "cell_type": "code",
   "execution_count": null,
   "metadata": {},
   "outputs": [],
   "source": []
  }
 ],
 "metadata": {
  "kernelspec": {
   "display_name": "riskaverse-env",
   "language": "python",
   "name": "python3"
  },
  "language_info": {
   "codemirror_mode": {
    "name": "ipython",
    "version": 3
   },
   "file_extension": ".py",
   "mimetype": "text/x-python",
   "name": "python",
   "nbconvert_exporter": "python",
   "pygments_lexer": "ipython3",
   "version": "3.9.19"
  }
 },
 "nbformat": 4,
 "nbformat_minor": 2
}
