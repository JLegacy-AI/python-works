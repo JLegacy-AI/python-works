{
 "cells": [
  {
   "cell_type": "markdown",
   "metadata": {},
   "source": [
    "# CCMM - Data Format"
   ]
  },
  {
   "cell_type": "code",
   "execution_count": 2,
   "metadata": {},
   "outputs": [
    {
     "name": "stdout",
     "output_type": "stream",
     "text": [
      "2465\n"
     ]
    }
   ],
   "source": [
    "# LOADING JSON DATA\n",
    "import json\n",
    "\n",
    "file_path = \"D:\\\\Python\\\\python-works\\\\ccmm-companies-data-format\\\\ccmm-company-details.json\"\n",
    "with open(file_path,\"r\", encoding='utf-8') as file:\n",
    "    data = json.load(file)\n",
    "\n",
    "print(len(data))"
   ]
  },
  {
   "cell_type": "markdown",
   "metadata": {},
   "source": [
    "There are `2465` companies data.\n",
    "```js\n",
    "// SAMPLE DATA JSON\n",
    "{\n",
    "    name: \"\",\n",
    "    link: \"\",\n",
    "    SCIAN: \"\",\n",
    "    address_info: [],\n",
    "    main_delegate: [\n",
    "        {\n",
    "            name: \"\",\n",
    "            url: \"\",\n",
    "            position: \"\",\n",
    "            social_medias: [\"\"]\n",
    "        }\n",
    "    ],\n",
    "    secondary_delegate: [\n",
    "        {\n",
    "            name: \"\",\n",
    "            url: \"\",\n",
    "            position: \"\",\n",
    "            social_medias: [\"\"]\n",
    "        }\n",
    "    ]\n",
    "}\n",
    "\n",
    "```"
   ]
  },
  {
   "cell_type": "code",
   "execution_count": 4,
   "metadata": {},
   "outputs": [
    {
     "name": "stdout",
     "output_type": "stream",
     "text": [
      "{'Address': '74 Avenue du Dauphiné Candiac', 'Telephone': '+14504662275', 'Website': ''}\n"
     ]
    }
   ],
   "source": [
    "# FUNCTION TO RECOGNIZE WEBSITE, ADDRESS, TELEPHONE\n",
    "# FROM THE address_info LIST\n",
    "import re\n",
    "\n",
    "def extract_address_info(address_info):\n",
    "    result = {\n",
    "        \"Address\": \"\",\n",
    "        \"Telephone\": \"\",\n",
    "        \"Website\": \"\"\n",
    "    }\n",
    "    \n",
    "    for item in address_info:\n",
    "        if item.startswith('tel:'):\n",
    "            result['Telephone'] = item.replace('tel:', '')\n",
    "        elif item.startswith('http://') or item.startswith('https://'):\n",
    "            result['Website'] = item\n",
    "        else:\n",
    "            result['Address'] = item\n",
    "    \n",
    "    return result\n"
   ]
  },
  {
   "cell_type": "code",
   "execution_count": 11,
   "metadata": {},
   "outputs": [
    {
     "name": "stdout",
     "output_type": "stream",
     "text": [
      "{'name': 'Accenture', 'link': 'https://www.ccmm.ca/fr/entreprises/accenture/', 'enterprise_info': ['54161 - Services de conseils en gestion'], 'address_info': ['5 Place Ville-Marie suite 1520 Montréal', 'tel:+15148474027', 'http://www.accenture.com'], 'main_delegate': [{'name': 'Martine Lapointe', 'url': '#/', 'position': 'Directrice du Bureau de Montréal', 'social_medias': ['mailto:martine.lapointe@accenture.com']}], 'secondary_delegate': [{'name': 'Grace Ayoub', 'url': '/fr/membres/grace-ayoub/', 'position': 'Managing Director', 'social_medias': ['mailto:grace.ayoub@accenture.com']}, {'name': 'Kallia Mansour', 'url': '#/', 'position': 'Integrated Marketing Manager', 'social_medias': ['mailto:kallia.mansour@accenture.com']}, {'name': 'Souad Miloudi', 'url': '/fr/membres/souad-miloudi/', 'position': 'Assistante à la directoin', 'social_medias': ['mailto:souad.miloudi@accenture.com']}, {'name': 'Hadi Skalli', 'url': '/fr/membres/hadi-skalli/', 'position': 'Digital Business Intergrational Senior Manager', 'social_medias': ['mailto:HADI.SKALLI@ACCENTURE.COM']}, {'name': 'François Ste-Marie', 'url': '/fr/membres/francois-ste-marie/', 'position': 'Montreal Market Lead', 'social_medias': ['mailto:francois.ste-marie@accenture.com']}]}\n",
      "set()\n"
     ]
    }
   ],
   "source": [
    "# THIS CODE ONLY TO SEPARATE THE MULTIPLE\n",
    "# SCIAN's WHICH ARE COMBINED IN SCIAN KEY\n",
    "\n",
    "scian_set = set()\n",
    "\n",
    "for com in data:\n",
    "    if \"SCIAN\" in com:\n",
    "        scian_set.add(len(com[\"SCIAN\"]))\n",
    "    else:\n",
    "        print(com)\n",
    "        break;\n",
    "\n",
    "print(scian_set)\n",
    "\n"
   ]
  },
  {
   "cell_type": "code",
   "execution_count": null,
   "metadata": {},
   "outputs": [],
   "source": [
    "# SEPARATE COMPANY DETAILS\n",
    "company_data = []\n",
    "\n",
    "for com  in data:\n",
    "    \n",
    "    address_info_results = extract_address_info(com.address_info)\n",
    "\n",
    "    company_data.append({\n",
    "        \"Name\": com.name,\n",
    "        \"Webpage\": com.link,\n",
    "        \"Address\": address_info_results[\"Address\"],\n",
    "        \"Telephone\": address_info_results[\"Telephone\"],\n",
    "        \"Website\": address_info_results[\"Website\"]\n",
    "    })\n"
   ]
  },
  {
   "cell_type": "code",
   "execution_count": null,
   "metadata": {},
   "outputs": [],
   "source": []
  }
 ],
 "metadata": {
  "kernelspec": {
   "display_name": "tf_env",
   "language": "python",
   "name": "python3"
  },
  "language_info": {
   "codemirror_mode": {
    "name": "ipython",
    "version": 3
   },
   "file_extension": ".py",
   "mimetype": "text/x-python",
   "name": "python",
   "nbconvert_exporter": "python",
   "pygments_lexer": "ipython3",
   "version": "3.8.20"
  }
 },
 "nbformat": 4,
 "nbformat_minor": 2
}
