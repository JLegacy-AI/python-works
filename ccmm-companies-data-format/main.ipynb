{
 "cells": [
  {
   "cell_type": "markdown",
   "metadata": {},
   "source": [
    "# CCMM - Data Format"
   ]
  },
  {
   "cell_type": "code",
   "execution_count": 12,
   "metadata": {},
   "outputs": [
    {
     "name": "stdout",
     "output_type": "stream",
     "text": [
      "2465\n"
     ]
    }
   ],
   "source": [
    "# LOADING JSON DATA\n",
    "import json\n",
    "\n",
    "file_path = \"D:\\\\Python\\\\python-works\\\\ccmm-companies-data-format\\\\ccmm-company-details.json\"\n",
    "with open(file_path,\"r\", encoding='utf-8') as file:\n",
    "    data = json.load(file)\n",
    "\n",
    "print(len(data))"
   ]
  },
  {
   "cell_type": "markdown",
   "metadata": {},
   "source": [
    "There are `2465` companies data.\n",
    "```js\n",
    "// SAMPLE DATA JSON\n",
    "{\n",
    "    name: \"\",\n",
    "    link: \"\",\n",
    "    SCIAN: \"\",\n",
    "    address_info: [],\n",
    "    main_delegate: [\n",
    "        {\n",
    "            name: \"\",\n",
    "            url: \"\",\n",
    "            position: \"\",\n",
    "            social_medias: [\"\"]\n",
    "        }\n",
    "    ],\n",
    "    secondary_delegate: [\n",
    "        {\n",
    "            name: \"\",\n",
    "            url: \"\",\n",
    "            position: \"\",\n",
    "            social_medias: [\"\"]\n",
    "        }\n",
    "    ]\n",
    "}\n",
    "\n",
    "```"
   ]
  },
  {
   "cell_type": "code",
   "execution_count": 4,
   "metadata": {},
   "outputs": [
    {
     "name": "stdout",
     "output_type": "stream",
     "text": [
      "{'Address': '74 Avenue du Dauphiné Candiac', 'Telephone': '+14504662275', 'Website': ''}\n"
     ]
    }
   ],
   "source": [
    "# FUNCTION TO RECOGNIZE WEBSITE, ADDRESS, TELEPHONE\n",
    "# FROM THE address_info LIST\n",
    "import re\n",
    "\n",
    "def extract_address_info(address_info):\n",
    "    result = {\n",
    "        \"Address\": \"\",\n",
    "        \"Telephone\": \"\",\n",
    "        \"Website\": \"\"\n",
    "    }\n",
    "    \n",
    "    for item in address_info:\n",
    "        if item.startswith('tel:'):\n",
    "            result['Telephone'] = item.replace('tel:', '')\n",
    "        elif item.startswith('http://') or item.startswith('https://'):\n",
    "            result['Website'] = item\n",
    "        else:\n",
    "            result['Address'] = item\n",
    "    \n",
    "    return result\n"
   ]
  },
  {
   "cell_type": "code",
   "execution_count": 19,
   "metadata": {},
   "outputs": [
    {
     "name": "stdout",
     "output_type": "stream",
     "text": [
      "{0, 1, 2, 3}\n"
     ]
    }
   ],
   "source": [
    "# THIS CODE ONLY TO SEPARATE THE MULTIPLE\n",
    "# SCIAN's WHICH ARE COMBINED IN SCIAN KEY\n",
    "\n",
    "scian_set = set()\n",
    "\n",
    "for com in data:\n",
    "    if \"SCIAN\" in com:\n",
    "        scian_set.add(len(com[\"SCIAN\"]))\n",
    "    else:\n",
    "        print(com)\n",
    "        break;\n",
    "\n",
    "print(scian_set)\n"
   ]
  },
  {
   "cell_type": "code",
   "execution_count": 16,
   "metadata": {},
   "outputs": [],
   "source": [
    "# CODE TO SPLIT THE SCIAN CODES\n",
    "import re\n",
    "\n",
    "def split_scian_codes(scian_string):\n",
    "    scian_codes = re.split(r'(?<!\\d)(\\d+) - ', scian_string)\n",
    "    \n",
    "    if scian_codes[0] == '':\n",
    "        scian_codes.pop(0)\n",
    "    \n",
    "    scian_codes = [f'{code} - {desc}' for code, desc in zip(scian_codes[0::2], scian_codes[1::2])]\n",
    "    \n",
    "    return scian_codes\n"
   ]
  },
  {
   "cell_type": "code",
   "execution_count": 17,
   "metadata": {},
   "outputs": [
    {
     "name": "stdout",
     "output_type": "stream",
     "text": [
      "{1, 2, 3}\n"
     ]
    }
   ],
   "source": [
    "# THIS CODE ONLY TO COUNT THE MULTIPLE\n",
    "# SCIAN's WHICH ARE COMBINED IN SCIAN KEY\n",
    "\n",
    "scian_set = set()\n",
    "\n",
    "for com in data:\n",
    "    if \"SCIAN\" in com :\n",
    "        scian_set.add(len(split_scian_codes(com[\"SCIAN\"])))\n",
    "    else:\n",
    "        print(com)\n",
    "        break;\n",
    "\n",
    "print(scian_set)"
   ]
  },
  {
   "cell_type": "code",
   "execution_count": 18,
   "metadata": {},
   "outputs": [
    {
     "name": "stdout",
     "output_type": "stream",
     "text": [
      "{'name': 'Accenture', 'link': 'https://www.ccmm.ca/fr/entreprises/accenture/', 'SCIAN': ['54161 - Services de conseils en gestion'], 'address_info': ['5 Place Ville-Marie suite 1520 Montréal', 'tel:+15148474027', 'http://www.accenture.com'], 'main_delegate': [{'name': 'Martine Lapointe', 'url': '#/', 'position': 'Directrice du Bureau de Montréal', 'social_medias': ['mailto:martine.lapointe@accenture.com']}], 'secondary_delegate': [{'name': 'Grace Ayoub', 'url': '/fr/membres/grace-ayoub/', 'position': 'Managing Director', 'social_medias': ['mailto:grace.ayoub@accenture.com']}, {'name': 'Kallia Mansour', 'url': '#/', 'position': 'Integrated Marketing Manager', 'social_medias': ['mailto:kallia.mansour@accenture.com']}, {'name': 'Souad Miloudi', 'url': '/fr/membres/souad-miloudi/', 'position': 'Assistante à la directoin', 'social_medias': ['mailto:souad.miloudi@accenture.com']}, {'name': 'Hadi Skalli', 'url': '/fr/membres/hadi-skalli/', 'position': 'Digital Business Intergrational Senior Manager', 'social_medias': ['mailto:HADI.SKALLI@ACCENTURE.COM']}, {'name': 'François Ste-Marie', 'url': '/fr/membres/francois-ste-marie/', 'position': 'Montreal Market Lead', 'social_medias': ['mailto:francois.ste-marie@accenture.com']}]}\n"
     ]
    }
   ],
   "source": [
    "# SPLITTING & VERIFYING MODIFICAITON\n",
    "for com in data:\n",
    "    if \"SCIAN\" in com and len(com[\"SCIAN\"]) > 0:\n",
    "        com[\"SCIAN\"] = split_scian_codes(com[\"SCIAN\"][0])\n"
   ]
  },
  {
   "cell_type": "code",
   "execution_count": 32,
   "metadata": {},
   "outputs": [],
   "source": [
    "# SEPARATE COMPANY DETAILS\n",
    "company_data = []\n",
    "\n",
    "for com  in data:\n",
    "    \n",
    "    address_info_results = extract_address_info(com[\"address_info\"])\n",
    "\n",
    "    company_data.append({\n",
    "        \"Name\": com[\"name\"],\n",
    "        \"Webpage\": com[\"link\"],\n",
    "        \"Address\": address_info_results[\"Address\"],\n",
    "        \"Telephone\": address_info_results[\"Telephone\"],\n",
    "        \"Website\": address_info_results[\"Website\"],\n",
    "        \"No. Main Delegates\": len(com[\"main_delegate\"]),\n",
    "        \"No. Secondary Delegates\": len(com[\"secondary_delegate\"]),\n",
    "        \"To. Delegates\": len(com[\"main_delegate\"]) + len(com[\"secondary_delegate\"]),\n",
    "        \"SCIAN Code 1\": com[\"SCIAN\"][0] if len(com[\"SCIAN\"]) > 0 else '',\n",
    "        \"SCIAN Code 2\": com[\"SCIAN\"][1] if len(com[\"SCIAN\"]) > 1 else '',\n",
    "        \"SCIAN Code 3\": com[\"SCIAN\"][2] if len(com[\"SCIAN\"]) > 2 else '',\n",
    "        \"main_delegate\": com[\"main_delegate\"],\n",
    "        \"secondary_delegate\": com[\"secondary_delegate\"]\n",
    "    })\n"
   ]
  },
  {
   "cell_type": "code",
   "execution_count": 29,
   "metadata": {},
   "outputs": [
    {
     "name": "stdout",
     "output_type": "stream",
     "text": [
      "                                             Name  \\\n",
      "0                                       Accenture   \n",
      "1                       ALLIED PROPERTIES MGT LTD   \n",
      "2                    Alstom Transport Canada Inc.   \n",
      "3  Association de la construction du Québec - ACQ   \n",
      "4                 Autorité des marchés financiers   \n",
      "\n",
      "                                             Webpage  \\\n",
      "0      https://www.ccmm.ca/fr/entreprises/accenture/   \n",
      "1  https://www.ccmm.ca/fr/entreprises/allied-prop...   \n",
      "2  https://www.ccmm.ca/fr/entreprises/alstom-tran...   \n",
      "3  https://www.ccmm.ca/fr/entreprises/association...   \n",
      "4  https://www.ccmm.ca/fr/entreprises/autorite-de...   \n",
      "\n",
      "                                             Address     Telephone  \\\n",
      "0            5 Place Ville-Marie suite 1520 Montréal  +15148474027   \n",
      "1  7000-111 Boul Robert-Bourassa Bureau 100 Montréal  +15148689002   \n",
      "2             1101, rue Parent 18e étage Saint-Bruno  +15147641725   \n",
      "3             9200, boul. Métropolitain Est Montréal  +15143540609   \n",
      "4                2640, boul. Laurier 8e étage Québec  +14185250337   \n",
      "\n",
      "                                      Website  No. Main Delegates  \\\n",
      "0                    http://www.accenture.com                   1   \n",
      "1                   http://www.alliedreit.com                   1   \n",
      "2  https://www.alstom.com/fr/alstom-au-canada                   1   \n",
      "3                        https://www.acq.org/                   1   \n",
      "4        https://lautorite.qc.ca/grand-public                   1   \n",
      "\n",
      "   No. Secondary Delegates  To. Delegates  \\\n",
      "0                        5              6   \n",
      "1                        5              6   \n",
      "2                        3              4   \n",
      "3                       13             14   \n",
      "4                       31             32   \n",
      "\n",
      "                                        SCIAN Code 1  \\\n",
      "0            54161 - Services de conseils en gestion   \n",
      "1  52311 - Services bancaires d'investissement et...   \n",
      "2  3359 - Fabrication d'autres types de matériel ...   \n",
      "3                        81399 - Autres associations   \n",
      "4                         52 - Finance et assurances   \n",
      "\n",
      "                                        SCIAN Code 2 SCIAN Code 3  \n",
      "0                                                                  \n",
      "1                                                                  \n",
      "2  3365 - Fabrication de matériel ferroviaire rou...               \n",
      "3                                                                  \n",
      "4                                                                  \n"
     ]
    }
   ],
   "source": [
    "# CONVERT JSON LIST TO DATAFRAME\n",
    "# ADD SAVE INTO EXCEL\n",
    "import pandas as pd\n",
    "\n",
    "companies_df = pd.json_normalize(company_data)\n",
    "companies_df.to_excel(\"company_details.xlsx\",sheet_name=\"Company Detail\")\n",
    "\n",
    "print(companies_df.head())"
   ]
  },
  {
   "cell_type": "code",
   "execution_count": 61,
   "metadata": {},
   "outputs": [
    {
     "name": "stdout",
     "output_type": "stream",
     "text": [
      "[{'Name': 'Accenture', 'Address': '5 Place Ville-Marie suite 1520 Montréal', 'Telephone': '+15148474027', 'Website': 'http://www.accenture.com', 'Webpage': 'https://www.ccmm.ca/fr/entreprises/accenture/', 'SCIAN Code 1': '54161 - Services de conseils en gestion', 'SCIAN Code 2': '', 'SCIAN Code 3': '', 'No. Main Delegates': 1, 'No. Secondary Delegates': 5, 'To. Delegates': 6, 'MD1 Name': 'Martine Lapointe', 'MD1 Position': 'Directrice du Bureau de Montréal', 'MD1 Email': 'martine.lapointe@accenture.com', 'name': 'Accenture', 'link': 'https://www.ccmm.ca/fr/entreprises/accenture/', 'SCIAN': ['54161 - Services de conseils en gestion'], 'address_info': ['5 Place Ville-Marie suite 1520 Montréal', 'tel:+15148474027', 'http://www.accenture.com']}, {'Name': 'ALLIED PROPERTIES MGT LTD', 'Address': '7000-111 Boul Robert-Bourassa Bureau 100 Montréal', 'Telephone': '+15148689002', 'Website': 'http://www.alliedreit.com', 'Webpage': 'https://www.ccmm.ca/fr/entreprises/allied-properties-mgt-ltd/', 'SCIAN Code 1': \"52311 - Services bancaires d'investissement et commerce des valeurs mobilières\", 'SCIAN Code 2': '', 'SCIAN Code 3': '', 'No. Main Delegates': 1, 'No. Secondary Delegates': 5, 'To. Delegates': 6, 'MD1 Name': 'Jean-François Burdet', 'MD1 Position': 'Vice-président régional, Est du Canada', 'MD1 Email': 'jfburdet@alliedreit.com', 'name': 'ALLIED PROPERTIES MGT LTD', 'link': 'https://www.ccmm.ca/fr/entreprises/allied-properties-mgt-ltd/', 'SCIAN': [\"52311 - Services bancaires d'investissement et commerce des valeurs mobilières\"], 'address_info': ['7000-111 Boul Robert-Bourassa Bureau 100 Montréal', 'tel:+15148689002', 'http://www.alliedreit.com']}, {'Name': 'Alstom Transport Canada Inc.', 'Address': '1101, rue Parent 18e étage Saint-Bruno', 'Telephone': '+15147641725', 'Website': 'https://www.alstom.com/fr/alstom-au-canada', 'Webpage': 'https://www.ccmm.ca/fr/entreprises/alstom-transport-canada-inc-/', 'SCIAN Code 1': \"3359 - Fabrication d'autres types de matériel et de composants électriques\", 'SCIAN Code 2': '3365 - Fabrication de matériel ferroviaire roulant', 'SCIAN Code 3': '', 'No. Main Delegates': 1, 'No. Secondary Delegates': 3, 'To. Delegates': 4, 'MD1 Name': 'Olivier Marcil', 'MD1 Position': 'Vice-président affaires publiques Canada', 'MD1 Email': 'olivier.marcil@alstomgroup.com', 'name': 'Alstom Transport Canada Inc.', 'link': 'https://www.ccmm.ca/fr/entreprises/alstom-transport-canada-inc-/', 'SCIAN': [\"3359 - Fabrication d'autres types de matériel et de composants électriques\", '3365 - Fabrication de matériel ferroviaire roulant'], 'address_info': ['1101, rue Parent 18e étage Saint-Bruno', 'tel:+15147641725', 'https://www.alstom.com/fr/alstom-au-canada']}, {'Name': 'Association de la construction du Québec - ACQ', 'Address': '9200, boul. Métropolitain Est Montréal', 'Telephone': '+15143540609', 'Website': 'https://www.acq.org/', 'Webpage': 'https://www.ccmm.ca/fr/entreprises/association-de-la-construction-du-quebec---acq/', 'SCIAN Code 1': '81399 - Autres associations', 'SCIAN Code 2': '', 'SCIAN Code 3': '', 'No. Main Delegates': 1, 'No. Secondary Delegates': 13, 'To. Delegates': 14, 'MD1 Name': 'Felix Rhéaume', 'MD1 Position': 'Directeur aux affaires publiques et gouvernementales', 'MD1 Email': 'rheaumef@acq.org', 'name': 'Association de la construction du Québec - ACQ', 'link': 'https://www.ccmm.ca/fr/entreprises/association-de-la-construction-du-quebec---acq/', 'SCIAN': ['81399 - Autres associations'], 'address_info': ['9200, boul. Métropolitain Est Montréal', 'tel:+15143540609', 'https://www.acq.org/']}, {'Name': 'Autorité des marchés financiers', 'Address': '2640, boul. Laurier 8e étage Québec', 'Telephone': '+14185250337', 'Website': 'https://lautorite.qc.ca/grand-public', 'Webpage': 'https://www.ccmm.ca/fr/entreprises/autorite-des-marches-financiers/', 'SCIAN Code 1': '52 - Finance et assurances', 'SCIAN Code 2': '', 'SCIAN Code 3': '', 'No. Main Delegates': 1, 'No. Secondary Delegates': 31, 'To. Delegates': 32, 'MD1 Name': 'Yves Ouellet', 'MD1 Position': 'Président Directeur Général', 'MD1 Email': 'yves.ouellet@lautorite.qc.ca', 'name': 'Autorité des marchés financiers', 'link': 'https://www.ccmm.ca/fr/entreprises/autorite-des-marches-financiers/', 'SCIAN': ['52 - Finance et assurances'], 'address_info': ['2640, boul. Laurier 8e étage Québec', 'tel:+14185250337', 'https://lautorite.qc.ca/grand-public']}]\n"
     ]
    }
   ],
   "source": [
    "# MAIN DELEGATE\n",
    "comp_detail_delegate = []\n",
    "\n",
    "for com in data:\n",
    "\n",
    "    address_info_results = extract_address_info(com[\"address_info\"])\n",
    "\n",
    "    entry = {\n",
    "        \"Name\": com[\"name\"],\n",
    "        \"Address\": address_info_results[\"Address\"],\n",
    "        \"Telephone\": address_info_results[\"Telephone\"],\n",
    "        \"Website\": address_info_results[\"Website\"],\n",
    "        \"Webpage\": com[\"link\"],\n",
    "        \"SCIAN Code 1\": com[\"SCIAN\"][0] if len(com[\"SCIAN\"]) > 0 else '',\n",
    "        \"SCIAN Code 2\": com[\"SCIAN\"][1] if len(com[\"SCIAN\"]) > 1 else '',\n",
    "        \"SCIAN Code 3\": com[\"SCIAN\"][2] if len(com[\"SCIAN\"]) > 2 else '',\n",
    "        \"No. Main Delegates\": len(com[\"main_delegate\"]),\n",
    "        \"No. Secondary Delegates\": len(com[\"secondary_delegate\"]),\n",
    "        \"To. Delegates\": len(com[\"main_delegate\"]) + len(com[\"secondary_delegate\"]),\n",
    "    } \n",
    "    \n",
    "    i = 1\n",
    "    \n",
    "    for md in com['main_delegate']:\n",
    "            delegate_key = f'MD{i}'\n",
    "            try:\n",
    "                entry[f'{delegate_key} Name'] = md['name']\n",
    "                entry[f'{delegate_key} Position'] = md['position']\n",
    "                entry[f'{delegate_key} Email'] = next((s for s in md['social_medias'] if s.startswith('mailto:')), '').replace('mailto:', '')\n",
    "            except IndexError:\n",
    "                # Fill with empty strings if fewer than i delegates\n",
    "                entry[f'{delegate_key} Name'] = ''\n",
    "                entry[f'{delegate_key} Position'] = ''\n",
    "                entry[f'{delegate_key} Email'] = ''\n",
    "            i += 1\n",
    "    \n",
    "    entry.update(com)\n",
    "    del entry[\"main_delegate\"]\n",
    "    del entry[\"secondary_delegate\"]\n",
    "\n",
    "    comp_detail_delegate.append(entry)\n",
    "\n",
    "print(comp_detail_delegate[0:5])"
   ]
  },
  {
   "cell_type": "code",
   "execution_count": 64,
   "metadata": {},
   "outputs": [
    {
     "name": "stdout",
     "output_type": "stream",
     "text": [
      "                                             Name  \\\n",
      "0                                       Accenture   \n",
      "1                       ALLIED PROPERTIES MGT LTD   \n",
      "2                    Alstom Transport Canada Inc.   \n",
      "3  Association de la construction du Québec - ACQ   \n",
      "4                 Autorité des marchés financiers   \n",
      "\n",
      "                                             Address     Telephone  \\\n",
      "0            5 Place Ville-Marie suite 1520 Montréal  +15148474027   \n",
      "1  7000-111 Boul Robert-Bourassa Bureau 100 Montréal  +15148689002   \n",
      "2             1101, rue Parent 18e étage Saint-Bruno  +15147641725   \n",
      "3             9200, boul. Métropolitain Est Montréal  +15143540609   \n",
      "4                2640, boul. Laurier 8e étage Québec  +14185250337   \n",
      "\n",
      "                                      Website  \\\n",
      "0                    http://www.accenture.com   \n",
      "1                   http://www.alliedreit.com   \n",
      "2  https://www.alstom.com/fr/alstom-au-canada   \n",
      "3                        https://www.acq.org/   \n",
      "4        https://lautorite.qc.ca/grand-public   \n",
      "\n",
      "                                             Webpage  \\\n",
      "0      https://www.ccmm.ca/fr/entreprises/accenture/   \n",
      "1  https://www.ccmm.ca/fr/entreprises/allied-prop...   \n",
      "2  https://www.ccmm.ca/fr/entreprises/alstom-tran...   \n",
      "3  https://www.ccmm.ca/fr/entreprises/association...   \n",
      "4  https://www.ccmm.ca/fr/entreprises/autorite-de...   \n",
      "\n",
      "                                        SCIAN Code 1  \\\n",
      "0            54161 - Services de conseils en gestion   \n",
      "1  52311 - Services bancaires d'investissement et...   \n",
      "2  3359 - Fabrication d'autres types de matériel ...   \n",
      "3                        81399 - Autres associations   \n",
      "4                         52 - Finance et assurances   \n",
      "\n",
      "                                        SCIAN Code 2 SCIAN Code 3  \\\n",
      "0                                                                   \n",
      "1                                                                   \n",
      "2  3365 - Fabrication de matériel ferroviaire rou...                \n",
      "3                                                                   \n",
      "4                                                                   \n",
      "\n",
      "   No. Main Delegates  No. Secondary Delegates  ...  MD2 Email MD3 Name  \\\n",
      "0                   1                        5  ...                       \n",
      "1                   1                        5  ...                       \n",
      "2                   1                        3  ...                       \n",
      "3                   1                       13  ...                       \n",
      "4                   1                       31  ...                       \n",
      "\n",
      "  MD3 Position MD3 Email MD4 Name MD4 Position MD4 Email MD5 Name  \\\n",
      "0                                                                   \n",
      "1                                                                   \n",
      "2                                                                   \n",
      "3                                                                   \n",
      "4                                                                   \n",
      "\n",
      "  MD5 Position MD5 Email  \n",
      "0                         \n",
      "1                         \n",
      "2                         \n",
      "3                         \n",
      "4                         \n",
      "\n",
      "[5 rows x 30 columns]\n"
     ]
    }
   ],
   "source": [
    "# CONVERTING DATA WITH MD\n",
    "import pandas as pd\n",
    "\n",
    "comp_md_data = pd.json_normalize(comp_detail_delegate)\n",
    "comp_md_data.fillna('', inplace=True)\n",
    "comp_md_data.to_excel(\"company_md_details.xlsx\")\n",
    "\n",
    "print(comp_md_data.head())"
   ]
  },
  {
   "cell_type": "code",
   "execution_count": 65,
   "metadata": {},
   "outputs": [
    {
     "name": "stdout",
     "output_type": "stream",
     "text": [
      "{'www.linkedin.com', 'www.facebook.com', 'email'}\n"
     ]
    }
   ],
   "source": [
    "import urllib.parse\n",
    "\n",
    "social_media = set()\n",
    "for com in data:\n",
    "    # Iterate over main delegates\n",
    "    for md in com[\"main_delegate\"]:\n",
    "        for link in md[\"social_medias\"]:\n",
    "            if link.startswith('mailto:'):\n",
    "                social_media.add(\"email\")\n",
    "            else:\n",
    "                # Extract the domain name from the URL and add to the set\n",
    "                domain = urllib.parse.urlparse(link).netloc\n",
    "                social_media.add(domain)\n",
    "\n",
    "    # Iterate over secondary delegates\n",
    "    for sd in com[\"secondary_delegate\"]:\n",
    "        for link in sd[\"social_medias\"]:\n",
    "            if link.startswith('mailto:'):\n",
    "                social_media.add(\"email\")\n",
    "            else:\n",
    "                # Extract the domain name from the URL and add to the set\n",
    "                domain = urllib.parse.urlparse(link).netloc\n",
    "                social_media.add(domain)\n",
    "\n",
    "# Print out the unique social media types found\n",
    "print(social_media)\n"
   ]
  },
  {
   "cell_type": "code",
   "execution_count": 71,
   "metadata": {},
   "outputs": [
    {
     "name": "stdout",
     "output_type": "stream",
     "text": [
      "[{'Company Name': 'Accenture', 'Name': 'Martine Lapointe', 'Position': 'Directrice du Bureau de Montréal', 'Email': 'martine.lapointe@accenture.com', 'Facebook': '', 'Linkedin': ''}, {'Company Name': 'ALLIED PROPERTIES MGT LTD', 'Name': 'Jean-François Burdet', 'Position': 'Vice-président régional, Est du Canada', 'Email': 'jfburdet@alliedreit.com', 'Facebook': '', 'Linkedin': ''}, {'Company Name': 'Alstom Transport Canada Inc.', 'Name': 'Olivier Marcil', 'Position': 'Vice-président affaires publiques Canada', 'Email': 'olivier.marcil@alstomgroup.com', 'Facebook': '', 'Linkedin': ''}, {'Company Name': 'Association de la construction du Québec - ACQ', 'Name': 'Felix Rhéaume', 'Position': 'Directeur aux affaires publiques et gouvernementales', 'Email': 'rheaumef@acq.org', 'Facebook': '', 'Linkedin': ''}, {'Company Name': 'Autorité des marchés financiers', 'Name': 'Yves Ouellet', 'Position': 'Président Directeur Général', 'Email': 'yves.ouellet@lautorite.qc.ca', 'Facebook': '', 'Linkedin': ''}]\n"
     ]
    }
   ],
   "source": [
    "main_delegate_data = []\n",
    "\n",
    "for com in data:\n",
    "    for md in com[\"main_delegate\"]:\n",
    "        entry = {\n",
    "            \"Company Name\": com[\"name\"],\n",
    "            \"Name\": md['name'],\n",
    "            \"Position\": md['position'],\n",
    "            \"Email\": \"\",\n",
    "            \"Facebook\": \"\",\n",
    "            \"Linkedin\": \"\"\n",
    "        }\n",
    "        \n",
    "        # Loop through social media links and update entry dictionary accordingly\n",
    "        for link in md[\"social_medias\"]:\n",
    "            if link.startswith('mailto:'):\n",
    "                entry['Email'] = link.replace(\"mailto:\", '').lower()\n",
    "            elif 'facebook' in link:\n",
    "                entry[\"Facebook\"] = link.lower()\n",
    "            elif 'linkedin' in link:\n",
    "                entry[\"Linkedin\"] = link.lower()\n",
    "        \n",
    "        main_delegate_data.append(entry)\n",
    "\n",
    "# Outputting processed data\n",
    "print(main_delegate_data[:5])"
   ]
  },
  {
   "cell_type": "code",
   "execution_count": 72,
   "metadata": {},
   "outputs": [
    {
     "name": "stdout",
     "output_type": "stream",
     "text": [
      "                                     Company Name                  Name  \\\n",
      "0                                       Accenture      Martine Lapointe   \n",
      "1                       ALLIED PROPERTIES MGT LTD  Jean-François Burdet   \n",
      "2                    Alstom Transport Canada Inc.        Olivier Marcil   \n",
      "3  Association de la construction du Québec - ACQ         Felix Rhéaume   \n",
      "4                 Autorité des marchés financiers          Yves Ouellet   \n",
      "\n",
      "                                            Position  \\\n",
      "0                   Directrice du Bureau de Montréal   \n",
      "1             Vice-président régional, Est du Canada   \n",
      "2           Vice-président affaires publiques Canada   \n",
      "3  Directeur aux affaires publiques et gouverneme...   \n",
      "4                        Président Directeur Général   \n",
      "\n",
      "                            Email Facebook Linkedin  \n",
      "0  martine.lapointe@accenture.com                    \n",
      "1         jfburdet@alliedreit.com                    \n",
      "2  olivier.marcil@alstomgroup.com                    \n",
      "3                rheaumef@acq.org                    \n",
      "4    yves.ouellet@lautorite.qc.ca                    \n"
     ]
    }
   ],
   "source": [
    "import pandas as pd\n",
    "\n",
    "main_delegate_sheet = pd.json_normalize(main_delegate_data)\n",
    "\n",
    "print(main_delegate_sheet.head())"
   ]
  },
  {
   "cell_type": "code",
   "execution_count": 73,
   "metadata": {},
   "outputs": [
    {
     "name": "stdout",
     "output_type": "stream",
     "text": [
      "[{'Company Name': 'Accenture', 'Name': 'Grace Ayoub', 'Position': 'Managing Director', 'Email': 'grace.ayoub@accenture.com', 'Facebook': '', 'Linkedin': ''}, {'Company Name': 'Accenture', 'Name': 'Kallia Mansour', 'Position': 'Integrated Marketing Manager', 'Email': 'kallia.mansour@accenture.com', 'Facebook': '', 'Linkedin': ''}, {'Company Name': 'Accenture', 'Name': 'Souad Miloudi', 'Position': 'Assistante à la directoin', 'Email': 'souad.miloudi@accenture.com', 'Facebook': '', 'Linkedin': ''}, {'Company Name': 'Accenture', 'Name': 'Hadi Skalli', 'Position': 'Digital Business Intergrational Senior Manager', 'Email': 'hadi.skalli@accenture.com', 'Facebook': '', 'Linkedin': ''}, {'Company Name': 'Accenture', 'Name': 'François Ste-Marie', 'Position': 'Montreal Market Lead', 'Email': 'francois.ste-marie@accenture.com', 'Facebook': '', 'Linkedin': ''}]\n"
     ]
    }
   ],
   "source": [
    "secondary_delegate_data = []\n",
    "\n",
    "for com in data:\n",
    "    for md in com[\"secondary_delegate\"]:\n",
    "        entry = {\n",
    "            \"Company Name\": com[\"name\"],\n",
    "            \"Name\": md['name'],\n",
    "            \"Position\": md['position'],\n",
    "            \"Email\": \"\",\n",
    "            \"Facebook\": \"\",\n",
    "            \"Linkedin\": \"\"\n",
    "        }\n",
    "        \n",
    "        # Loop through social media links and update entry dictionary accordingly\n",
    "        for link in md[\"social_medias\"]:\n",
    "            if link.startswith('mailto:'):\n",
    "                entry['Email'] = link.replace(\"mailto:\", '').lower()\n",
    "            elif 'facebook' in link:\n",
    "                entry[\"Facebook\"] = link.lower()\n",
    "            elif 'linkedin' in link:\n",
    "                entry[\"Linkedin\"] = link.lower()\n",
    "        \n",
    "        secondary_delegate_data.append(entry)\n",
    "\n",
    "# Outputting processed data\n",
    "print(secondary_delegate_data[:5])"
   ]
  },
  {
   "cell_type": "code",
   "execution_count": 74,
   "metadata": {},
   "outputs": [
    {
     "name": "stdout",
     "output_type": "stream",
     "text": [
      "  Company Name                Name  \\\n",
      "0    Accenture         Grace Ayoub   \n",
      "1    Accenture      Kallia Mansour   \n",
      "2    Accenture       Souad Miloudi   \n",
      "3    Accenture         Hadi Skalli   \n",
      "4    Accenture  François Ste-Marie   \n",
      "\n",
      "                                         Position  \\\n",
      "0                               Managing Director   \n",
      "1                    Integrated Marketing Manager   \n",
      "2                       Assistante à la directoin   \n",
      "3  Digital Business Intergrational Senior Manager   \n",
      "4                            Montreal Market Lead   \n",
      "\n",
      "                              Email Facebook Linkedin  \n",
      "0         grace.ayoub@accenture.com                    \n",
      "1      kallia.mansour@accenture.com                    \n",
      "2       souad.miloudi@accenture.com                    \n",
      "3         hadi.skalli@accenture.com                    \n",
      "4  francois.ste-marie@accenture.com                    \n"
     ]
    }
   ],
   "source": [
    "import pandas as pd\n",
    "\n",
    "secondary_delegate_sheet = pd.json_normalize(secondary_delegate_data)\n",
    "\n",
    "print(secondary_delegate_sheet.head())"
   ]
  },
  {
   "cell_type": "code",
   "execution_count": 75,
   "metadata": {},
   "outputs": [
    {
     "name": "stdout",
     "output_type": "stream",
     "text": [
      "[{'Name': 'Accenture', 'Address': '5 Place Ville-Marie suite 1520 Montréal', 'Telephone': '+15148474027', 'Website': 'http://www.accenture.com', 'Webpage': 'https://www.ccmm.ca/fr/entreprises/accenture/', 'SCIAN Code 1': '54161 - Services de conseils en gestion', 'SCIAN Code 2': '', 'SCIAN Code 3': '', 'No. Main Delegates': 1, 'No. Secondary Delegates': 5, 'To. Delegates': 6}, {'Name': 'ALLIED PROPERTIES MGT LTD', 'Address': '7000-111 Boul Robert-Bourassa Bureau 100 Montréal', 'Telephone': '+15148689002', 'Website': 'http://www.alliedreit.com', 'Webpage': 'https://www.ccmm.ca/fr/entreprises/allied-properties-mgt-ltd/', 'SCIAN Code 1': \"52311 - Services bancaires d'investissement et commerce des valeurs mobilières\", 'SCIAN Code 2': '', 'SCIAN Code 3': '', 'No. Main Delegates': 1, 'No. Secondary Delegates': 5, 'To. Delegates': 6}, {'Name': 'Alstom Transport Canada Inc.', 'Address': '1101, rue Parent 18e étage Saint-Bruno', 'Telephone': '+15147641725', 'Website': 'https://www.alstom.com/fr/alstom-au-canada', 'Webpage': 'https://www.ccmm.ca/fr/entreprises/alstom-transport-canada-inc-/', 'SCIAN Code 1': \"3359 - Fabrication d'autres types de matériel et de composants électriques\", 'SCIAN Code 2': '3365 - Fabrication de matériel ferroviaire roulant', 'SCIAN Code 3': '', 'No. Main Delegates': 1, 'No. Secondary Delegates': 3, 'To. Delegates': 4}, {'Name': 'Association de la construction du Québec - ACQ', 'Address': '9200, boul. Métropolitain Est Montréal', 'Telephone': '+15143540609', 'Website': 'https://www.acq.org/', 'Webpage': 'https://www.ccmm.ca/fr/entreprises/association-de-la-construction-du-quebec---acq/', 'SCIAN Code 1': '81399 - Autres associations', 'SCIAN Code 2': '', 'SCIAN Code 3': '', 'No. Main Delegates': 1, 'No. Secondary Delegates': 13, 'To. Delegates': 14}, {'Name': 'Autorité des marchés financiers', 'Address': '2640, boul. Laurier 8e étage Québec', 'Telephone': '+14185250337', 'Website': 'https://lautorite.qc.ca/grand-public', 'Webpage': 'https://www.ccmm.ca/fr/entreprises/autorite-des-marches-financiers/', 'SCIAN Code 1': '52 - Finance et assurances', 'SCIAN Code 2': '', 'SCIAN Code 3': '', 'No. Main Delegates': 1, 'No. Secondary Delegates': 31, 'To. Delegates': 32}]\n"
     ]
    }
   ],
   "source": [
    "# MAIN DELEGATE\n",
    "comp_detail_data = []\n",
    "\n",
    "for com in data:\n",
    "\n",
    "    address_info_results = extract_address_info(com[\"address_info\"])\n",
    "\n",
    "    entry = {\n",
    "        \"Name\": com[\"name\"],\n",
    "        \"Address\": address_info_results[\"Address\"],\n",
    "        \"Telephone\": address_info_results[\"Telephone\"],\n",
    "        \"Website\": address_info_results[\"Website\"],\n",
    "        \"Webpage\": com[\"link\"],\n",
    "        \"SCIAN Code 1\": com[\"SCIAN\"][0] if len(com[\"SCIAN\"]) > 0 else '',\n",
    "        \"SCIAN Code 2\": com[\"SCIAN\"][1] if len(com[\"SCIAN\"]) > 1 else '',\n",
    "        \"SCIAN Code 3\": com[\"SCIAN\"][2] if len(com[\"SCIAN\"]) > 2 else '',\n",
    "        \"No. Main Delegates\": len(com[\"main_delegate\"]),\n",
    "        \"No. Secondary Delegates\": len(com[\"secondary_delegate\"]),\n",
    "        \"To. Delegates\": len(com[\"main_delegate\"]) + len(com[\"secondary_delegate\"]),\n",
    "    } \n",
    "\n",
    "    comp_detail_data.append(entry)\n",
    "\n",
    "print(comp_detail_data[0:5])"
   ]
  },
  {
   "cell_type": "code",
   "execution_count": 76,
   "metadata": {},
   "outputs": [],
   "source": [
    "import pandas as pd\n",
    "\n",
    "comp_info_sheet = pd.json_normalize(comp_detail_data)"
   ]
  },
  {
   "cell_type": "code",
   "execution_count": 77,
   "metadata": {},
   "outputs": [],
   "source": [
    "# Specify the Excel file path\n",
    "file_path = 'ccmm_company_details.xlsx'\n",
    "\n",
    "# Using ExcelWriter to write to multiple sheets\n",
    "with pd.ExcelWriter(file_path, engine='openpyxl') as writer:\n",
    "    comp_info_sheet.to_excel(writer, sheet_name='Company Info', index=False)\n",
    "    main_delegate_sheet.to_excel(writer, sheet_name='Main Delegates', index=False)\n",
    "    secondary_delegate_sheet.to_excel(writer, sheet_name='Secondary Delegates', index=False)"
   ]
  },
  {
   "cell_type": "code",
   "execution_count": null,
   "metadata": {},
   "outputs": [],
   "source": []
  }
 ],
 "metadata": {
  "kernelspec": {
   "display_name": "tf_env",
   "language": "python",
   "name": "python3"
  },
  "language_info": {
   "codemirror_mode": {
    "name": "ipython",
    "version": 3
   },
   "file_extension": ".py",
   "mimetype": "text/x-python",
   "name": "python",
   "nbconvert_exporter": "python",
   "pygments_lexer": "ipython3",
   "version": "3.8.20"
  }
 },
 "nbformat": 4,
 "nbformat_minor": 2
}
