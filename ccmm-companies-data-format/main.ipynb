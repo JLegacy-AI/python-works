{
 "cells": [
  {
   "cell_type": "markdown",
   "metadata": {},
   "source": [
    "# CCMM - Data Format"
   ]
  },
  {
   "cell_type": "code",
   "execution_count": 1,
   "metadata": {},
   "outputs": [
    {
     "name": "stdout",
     "output_type": "stream",
     "text": [
      "2465\n"
     ]
    }
   ],
   "source": [
    "# LOADING JSON DATA\n",
    "import json\n",
    "\n",
    "file_path = \"D:\\\\Python\\\\python-works\\\\ccmm-companies-data-format\\\\ccmm-company-details.json\"\n",
    "with open(file_path,\"r\", encoding='utf-8') as file:\n",
    "    data = json.load(file)\n",
    "\n",
    "print(len(data))"
   ]
  },
  {
   "cell_type": "markdown",
   "metadata": {},
   "source": [
    "There are `2465` companies data.\n",
    "```js\n",
    "// SAMPLE DATA JSON\n",
    "{\n",
    "    name: \"\",\n",
    "    link: \"\",\n",
    "    SCIAN: \"\",\n",
    "    address_info: [],\n",
    "    main_delegate: [\n",
    "        {\n",
    "            name: \"\",\n",
    "            url: \"\",\n",
    "            position: \"\",\n",
    "            social_medias: [\"\"]\n",
    "        }\n",
    "    ],\n",
    "    secondary_delegate: [\n",
    "        {\n",
    "            name: \"\",\n",
    "            url: \"\",\n",
    "            position: \"\",\n",
    "            social_medias: [\"\"]\n",
    "        }\n",
    "    ]\n",
    "}\n",
    "\n",
    "```"
   ]
  },
  {
   "cell_type": "code",
   "execution_count": 2,
   "metadata": {},
   "outputs": [],
   "source": [
    "# FUNCTION TO RECOGNIZE WEBSITE, ADDRESS, TELEPHONE\n",
    "# FROM THE address_info LIST\n",
    "import re\n",
    "\n",
    "def extract_address_info(address_info):\n",
    "    result = {\n",
    "        \"Address\": \"\",\n",
    "        \"Telephone\": \"\",\n",
    "        \"Website\": \"\"\n",
    "    }\n",
    "    \n",
    "    for item in address_info:\n",
    "        if item.startswith('tel:'):\n",
    "            result['Telephone'] = item.replace('tel:', '')\n",
    "        elif item.startswith('http://') or item.startswith('https://'):\n",
    "            result['Website'] = item\n",
    "        else:\n",
    "            result['Address'] = item\n",
    "    \n",
    "    return result\n"
   ]
  },
  {
   "cell_type": "code",
   "execution_count": 19,
   "metadata": {},
   "outputs": [
    {
     "name": "stdout",
     "output_type": "stream",
     "text": [
      "{0, 1, 2, 3}\n"
     ]
    }
   ],
   "source": [
    "# THIS CODE ONLY TO SEPARATE THE MULTIPLE\n",
    "# SCIAN's WHICH ARE COMBINED IN SCIAN KEY\n",
    "\n",
    "scian_set = set()\n",
    "\n",
    "for com in data:\n",
    "    if \"SCIAN\" in com:\n",
    "        scian_set.add(len(com[\"SCIAN\"]))\n",
    "    else:\n",
    "        print(com)\n",
    "        break;\n",
    "\n",
    "print(scian_set)\n"
   ]
  },
  {
   "cell_type": "code",
   "execution_count": 16,
   "metadata": {},
   "outputs": [],
   "source": [
    "# CODE TO SPLIT THE SCIAN CODES\n",
    "import re\n",
    "\n",
    "def split_scian_codes(scian_string):\n",
    "    scian_codes = re.split(r'(?<!\\d)(\\d+) - ', scian_string)\n",
    "    \n",
    "    if scian_codes[0] == '':\n",
    "        scian_codes.pop(0)\n",
    "    \n",
    "    scian_codes = [f'{code} - {desc}' for code, desc in zip(scian_codes[0::2], scian_codes[1::2])]\n",
    "    \n",
    "    return scian_codes\n"
   ]
  },
  {
   "cell_type": "code",
   "execution_count": 17,
   "metadata": {},
   "outputs": [
    {
     "name": "stdout",
     "output_type": "stream",
     "text": [
      "{1, 2, 3}\n"
     ]
    }
   ],
   "source": [
    "# THIS CODE ONLY TO COUNT THE MULTIPLE\n",
    "# SCIAN's WHICH ARE COMBINED IN SCIAN KEY\n",
    "\n",
    "scian_set = set()\n",
    "\n",
    "for com in data:\n",
    "    if \"SCIAN\" in com :\n",
    "        scian_set.add(len(split_scian_codes(com[\"SCIAN\"])))\n",
    "    else:\n",
    "        print(com)\n",
    "        break;\n",
    "\n",
    "print(scian_set)"
   ]
  },
  {
   "cell_type": "code",
   "execution_count": 18,
   "metadata": {},
   "outputs": [
    {
     "name": "stdout",
     "output_type": "stream",
     "text": [
      "{'name': 'Accenture', 'link': 'https://www.ccmm.ca/fr/entreprises/accenture/', 'SCIAN': ['54161 - Services de conseils en gestion'], 'address_info': ['5 Place Ville-Marie suite 1520 Montréal', 'tel:+15148474027', 'http://www.accenture.com'], 'main_delegate': [{'name': 'Martine Lapointe', 'url': '#/', 'position': 'Directrice du Bureau de Montréal', 'social_medias': ['mailto:martine.lapointe@accenture.com']}], 'secondary_delegate': [{'name': 'Grace Ayoub', 'url': '/fr/membres/grace-ayoub/', 'position': 'Managing Director', 'social_medias': ['mailto:grace.ayoub@accenture.com']}, {'name': 'Kallia Mansour', 'url': '#/', 'position': 'Integrated Marketing Manager', 'social_medias': ['mailto:kallia.mansour@accenture.com']}, {'name': 'Souad Miloudi', 'url': '/fr/membres/souad-miloudi/', 'position': 'Assistante à la directoin', 'social_medias': ['mailto:souad.miloudi@accenture.com']}, {'name': 'Hadi Skalli', 'url': '/fr/membres/hadi-skalli/', 'position': 'Digital Business Intergrational Senior Manager', 'social_medias': ['mailto:HADI.SKALLI@ACCENTURE.COM']}, {'name': 'François Ste-Marie', 'url': '/fr/membres/francois-ste-marie/', 'position': 'Montreal Market Lead', 'social_medias': ['mailto:francois.ste-marie@accenture.com']}]}\n"
     ]
    }
   ],
   "source": [
    "# SPLITTING & VERIFYING MODIFICAITON\n",
    "for com in data:\n",
    "    if \"SCIAN\" in com and len(com[\"SCIAN\"]) > 0:\n",
    "        com[\"SCIAN\"] = split_scian_codes(com[\"SCIAN\"][0])\n"
   ]
  },
  {
   "cell_type": "code",
   "execution_count": 32,
   "metadata": {},
   "outputs": [],
   "source": [
    "# SEPARATE COMPANY DETAILS\n",
    "company_data = []\n",
    "\n",
    "for com  in data:\n",
    "    \n",
    "    address_info_results = extract_address_info(com[\"address_info\"])\n",
    "\n",
    "    company_data.append({\n",
    "        \"Name\": com[\"name\"],\n",
    "        \"Webpage\": com[\"link\"],\n",
    "        \"Address\": address_info_results[\"Address\"],\n",
    "        \"Telephone\": address_info_results[\"Telephone\"],\n",
    "        \"Website\": address_info_results[\"Website\"],\n",
    "        \"No. Main Delegates\": len(com[\"main_delegate\"]),\n",
    "        \"No. Secondary Delegates\": len(com[\"secondary_delegate\"]),\n",
    "        \"To. Delegates\": len(com[\"main_delegate\"]) + len(com[\"secondary_delegate\"]),\n",
    "        \"SCIAN Code 1\": com[\"SCIAN\"][0] if len(com[\"SCIAN\"]) > 0 else '',\n",
    "        \"SCIAN Code 2\": com[\"SCIAN\"][1] if len(com[\"SCIAN\"]) > 1 else '',\n",
    "        \"SCIAN Code 3\": com[\"SCIAN\"][2] if len(com[\"SCIAN\"]) > 2 else '',\n",
    "        \"main_delegate\": com[\"main_delegate\"],\n",
    "        \"secondary_delegate\": com[\"secondary_delegate\"]\n",
    "    })\n"
   ]
  },
  {
   "cell_type": "code",
   "execution_count": 29,
   "metadata": {},
   "outputs": [
    {
     "name": "stdout",
     "output_type": "stream",
     "text": [
      "                                             Name  \\\n",
      "0                                       Accenture   \n",
      "1                       ALLIED PROPERTIES MGT LTD   \n",
      "2                    Alstom Transport Canada Inc.   \n",
      "3  Association de la construction du Québec - ACQ   \n",
      "4                 Autorité des marchés financiers   \n",
      "\n",
      "                                             Webpage  \\\n",
      "0      https://www.ccmm.ca/fr/entreprises/accenture/   \n",
      "1  https://www.ccmm.ca/fr/entreprises/allied-prop...   \n",
      "2  https://www.ccmm.ca/fr/entreprises/alstom-tran...   \n",
      "3  https://www.ccmm.ca/fr/entreprises/association...   \n",
      "4  https://www.ccmm.ca/fr/entreprises/autorite-de...   \n",
      "\n",
      "                                             Address     Telephone  \\\n",
      "0            5 Place Ville-Marie suite 1520 Montréal  +15148474027   \n",
      "1  7000-111 Boul Robert-Bourassa Bureau 100 Montréal  +15148689002   \n",
      "2             1101, rue Parent 18e étage Saint-Bruno  +15147641725   \n",
      "3             9200, boul. Métropolitain Est Montréal  +15143540609   \n",
      "4                2640, boul. Laurier 8e étage Québec  +14185250337   \n",
      "\n",
      "                                      Website  No. Main Delegates  \\\n",
      "0                    http://www.accenture.com                   1   \n",
      "1                   http://www.alliedreit.com                   1   \n",
      "2  https://www.alstom.com/fr/alstom-au-canada                   1   \n",
      "3                        https://www.acq.org/                   1   \n",
      "4        https://lautorite.qc.ca/grand-public                   1   \n",
      "\n",
      "   No. Secondary Delegates  To. Delegates  \\\n",
      "0                        5              6   \n",
      "1                        5              6   \n",
      "2                        3              4   \n",
      "3                       13             14   \n",
      "4                       31             32   \n",
      "\n",
      "                                        SCIAN Code 1  \\\n",
      "0            54161 - Services de conseils en gestion   \n",
      "1  52311 - Services bancaires d'investissement et...   \n",
      "2  3359 - Fabrication d'autres types de matériel ...   \n",
      "3                        81399 - Autres associations   \n",
      "4                         52 - Finance et assurances   \n",
      "\n",
      "                                        SCIAN Code 2 SCIAN Code 3  \n",
      "0                                                                  \n",
      "1                                                                  \n",
      "2  3365 - Fabrication de matériel ferroviaire rou...               \n",
      "3                                                                  \n",
      "4                                                                  \n"
     ]
    }
   ],
   "source": [
    "# CONVERT JSON LIST TO DATAFRAME\n",
    "# ADD SAVE INTO EXCEL\n",
    "import pandas as pd\n",
    "\n",
    "companies_df = pd.json_normalize(company_data)\n",
    "companies_df.to_excel(\"company_details.xlsx\",sheet_name=\"Company Detail\")\n",
    "\n",
    "print(companies_df.head())"
   ]
  },
  {
   "cell_type": "code",
   "execution_count": 61,
   "metadata": {},
   "outputs": [
    {
     "name": "stdout",
     "output_type": "stream",
     "text": [
      "[{'Name': 'Accenture', 'Address': '5 Place Ville-Marie suite 1520 Montréal', 'Telephone': '+15148474027', 'Website': 'http://www.accenture.com', 'Webpage': 'https://www.ccmm.ca/fr/entreprises/accenture/', 'SCIAN Code 1': '54161 - Services de conseils en gestion', 'SCIAN Code 2': '', 'SCIAN Code 3': '', 'No. Main Delegates': 1, 'No. Secondary Delegates': 5, 'To. Delegates': 6, 'MD1 Name': 'Martine Lapointe', 'MD1 Position': 'Directrice du Bureau de Montréal', 'MD1 Email': 'martine.lapointe@accenture.com', 'name': 'Accenture', 'link': 'https://www.ccmm.ca/fr/entreprises/accenture/', 'SCIAN': ['54161 - Services de conseils en gestion'], 'address_info': ['5 Place Ville-Marie suite 1520 Montréal', 'tel:+15148474027', 'http://www.accenture.com']}, {'Name': 'ALLIED PROPERTIES MGT LTD', 'Address': '7000-111 Boul Robert-Bourassa Bureau 100 Montréal', 'Telephone': '+15148689002', 'Website': 'http://www.alliedreit.com', 'Webpage': 'https://www.ccmm.ca/fr/entreprises/allied-properties-mgt-ltd/', 'SCIAN Code 1': \"52311 - Services bancaires d'investissement et commerce des valeurs mobilières\", 'SCIAN Code 2': '', 'SCIAN Code 3': '', 'No. Main Delegates': 1, 'No. Secondary Delegates': 5, 'To. Delegates': 6, 'MD1 Name': 'Jean-François Burdet', 'MD1 Position': 'Vice-président régional, Est du Canada', 'MD1 Email': 'jfburdet@alliedreit.com', 'name': 'ALLIED PROPERTIES MGT LTD', 'link': 'https://www.ccmm.ca/fr/entreprises/allied-properties-mgt-ltd/', 'SCIAN': [\"52311 - Services bancaires d'investissement et commerce des valeurs mobilières\"], 'address_info': ['7000-111 Boul Robert-Bourassa Bureau 100 Montréal', 'tel:+15148689002', 'http://www.alliedreit.com']}, {'Name': 'Alstom Transport Canada Inc.', 'Address': '1101, rue Parent 18e étage Saint-Bruno', 'Telephone': '+15147641725', 'Website': 'https://www.alstom.com/fr/alstom-au-canada', 'Webpage': 'https://www.ccmm.ca/fr/entreprises/alstom-transport-canada-inc-/', 'SCIAN Code 1': \"3359 - Fabrication d'autres types de matériel et de composants électriques\", 'SCIAN Code 2': '3365 - Fabrication de matériel ferroviaire roulant', 'SCIAN Code 3': '', 'No. Main Delegates': 1, 'No. Secondary Delegates': 3, 'To. Delegates': 4, 'MD1 Name': 'Olivier Marcil', 'MD1 Position': 'Vice-président affaires publiques Canada', 'MD1 Email': 'olivier.marcil@alstomgroup.com', 'name': 'Alstom Transport Canada Inc.', 'link': 'https://www.ccmm.ca/fr/entreprises/alstom-transport-canada-inc-/', 'SCIAN': [\"3359 - Fabrication d'autres types de matériel et de composants électriques\", '3365 - Fabrication de matériel ferroviaire roulant'], 'address_info': ['1101, rue Parent 18e étage Saint-Bruno', 'tel:+15147641725', 'https://www.alstom.com/fr/alstom-au-canada']}, {'Name': 'Association de la construction du Québec - ACQ', 'Address': '9200, boul. Métropolitain Est Montréal', 'Telephone': '+15143540609', 'Website': 'https://www.acq.org/', 'Webpage': 'https://www.ccmm.ca/fr/entreprises/association-de-la-construction-du-quebec---acq/', 'SCIAN Code 1': '81399 - Autres associations', 'SCIAN Code 2': '', 'SCIAN Code 3': '', 'No. Main Delegates': 1, 'No. Secondary Delegates': 13, 'To. Delegates': 14, 'MD1 Name': 'Felix Rhéaume', 'MD1 Position': 'Directeur aux affaires publiques et gouvernementales', 'MD1 Email': 'rheaumef@acq.org', 'name': 'Association de la construction du Québec - ACQ', 'link': 'https://www.ccmm.ca/fr/entreprises/association-de-la-construction-du-quebec---acq/', 'SCIAN': ['81399 - Autres associations'], 'address_info': ['9200, boul. Métropolitain Est Montréal', 'tel:+15143540609', 'https://www.acq.org/']}, {'Name': 'Autorité des marchés financiers', 'Address': '2640, boul. Laurier 8e étage Québec', 'Telephone': '+14185250337', 'Website': 'https://lautorite.qc.ca/grand-public', 'Webpage': 'https://www.ccmm.ca/fr/entreprises/autorite-des-marches-financiers/', 'SCIAN Code 1': '52 - Finance et assurances', 'SCIAN Code 2': '', 'SCIAN Code 3': '', 'No. Main Delegates': 1, 'No. Secondary Delegates': 31, 'To. Delegates': 32, 'MD1 Name': 'Yves Ouellet', 'MD1 Position': 'Président Directeur Général', 'MD1 Email': 'yves.ouellet@lautorite.qc.ca', 'name': 'Autorité des marchés financiers', 'link': 'https://www.ccmm.ca/fr/entreprises/autorite-des-marches-financiers/', 'SCIAN': ['52 - Finance et assurances'], 'address_info': ['2640, boul. Laurier 8e étage Québec', 'tel:+14185250337', 'https://lautorite.qc.ca/grand-public']}]\n"
     ]
    }
   ],
   "source": [
    "# MAIN DELEGATE\n",
    "comp_detail_delegate = []\n",
    "\n",
    "for com in data:\n",
    "\n",
    "    address_info_results = extract_address_info(com[\"address_info\"])\n",
    "\n",
    "    entry = {\n",
    "        \"Name\": com[\"name\"],\n",
    "        \"Address\": address_info_results[\"Address\"],\n",
    "        \"Telephone\": address_info_results[\"Telephone\"],\n",
    "        \"Website\": address_info_results[\"Website\"],\n",
    "        \"Webpage\": com[\"link\"],\n",
    "        \"SCIAN Code 1\": com[\"SCIAN\"][0] if len(com[\"SCIAN\"]) > 0 else '',\n",
    "        \"SCIAN Code 2\": com[\"SCIAN\"][1] if len(com[\"SCIAN\"]) > 1 else '',\n",
    "        \"SCIAN Code 3\": com[\"SCIAN\"][2] if len(com[\"SCIAN\"]) > 2 else '',\n",
    "        \"No. Main Delegates\": len(com[\"main_delegate\"]),\n",
    "        \"No. Secondary Delegates\": len(com[\"secondary_delegate\"]),\n",
    "        \"To. Delegates\": len(com[\"main_delegate\"]) + len(com[\"secondary_delegate\"]),\n",
    "    } \n",
    "    \n",
    "    i = 1\n",
    "    \n",
    "    for md in com['main_delegate']:\n",
    "            delegate_key = f'MD{i}'\n",
    "            try:\n",
    "                entry[f'{delegate_key} Name'] = md['name']\n",
    "                entry[f'{delegate_key} Position'] = md['position']\n",
    "                entry[f'{delegate_key} Email'] = next((s for s in md['social_medias'] if s.startswith('mailto:')), '').replace('mailto:', '')\n",
    "            except IndexError:\n",
    "                # Fill with empty strings if fewer than i delegates\n",
    "                entry[f'{delegate_key} Name'] = ''\n",
    "                entry[f'{delegate_key} Position'] = ''\n",
    "                entry[f'{delegate_key} Email'] = ''\n",
    "            i += 1\n",
    "    \n",
    "    entry.update(com)\n",
    "    del entry[\"main_delegate\"]\n",
    "    del entry[\"secondary_delegate\"]\n",
    "\n",
    "    comp_detail_delegate.append(entry)\n",
    "\n",
    "print(comp_detail_delegate[0:5])"
   ]
  },
  {
   "cell_type": "code",
   "execution_count": 64,
   "metadata": {},
   "outputs": [
    {
     "name": "stdout",
     "output_type": "stream",
     "text": [
      "                                             Name  \\\n",
      "0                                       Accenture   \n",
      "1                       ALLIED PROPERTIES MGT LTD   \n",
      "2                    Alstom Transport Canada Inc.   \n",
      "3  Association de la construction du Québec - ACQ   \n",
      "4                 Autorité des marchés financiers   \n",
      "\n",
      "                                             Address     Telephone  \\\n",
      "0            5 Place Ville-Marie suite 1520 Montréal  +15148474027   \n",
      "1  7000-111 Boul Robert-Bourassa Bureau 100 Montréal  +15148689002   \n",
      "2             1101, rue Parent 18e étage Saint-Bruno  +15147641725   \n",
      "3             9200, boul. Métropolitain Est Montréal  +15143540609   \n",
      "4                2640, boul. Laurier 8e étage Québec  +14185250337   \n",
      "\n",
      "                                      Website  \\\n",
      "0                    http://www.accenture.com   \n",
      "1                   http://www.alliedreit.com   \n",
      "2  https://www.alstom.com/fr/alstom-au-canada   \n",
      "3                        https://www.acq.org/   \n",
      "4        https://lautorite.qc.ca/grand-public   \n",
      "\n",
      "                                             Webpage  \\\n",
      "0      https://www.ccmm.ca/fr/entreprises/accenture/   \n",
      "1  https://www.ccmm.ca/fr/entreprises/allied-prop...   \n",
      "2  https://www.ccmm.ca/fr/entreprises/alstom-tran...   \n",
      "3  https://www.ccmm.ca/fr/entreprises/association...   \n",
      "4  https://www.ccmm.ca/fr/entreprises/autorite-de...   \n",
      "\n",
      "                                        SCIAN Code 1  \\\n",
      "0            54161 - Services de conseils en gestion   \n",
      "1  52311 - Services bancaires d'investissement et...   \n",
      "2  3359 - Fabrication d'autres types de matériel ...   \n",
      "3                        81399 - Autres associations   \n",
      "4                         52 - Finance et assurances   \n",
      "\n",
      "                                        SCIAN Code 2 SCIAN Code 3  \\\n",
      "0                                                                   \n",
      "1                                                                   \n",
      "2  3365 - Fabrication de matériel ferroviaire rou...                \n",
      "3                                                                   \n",
      "4                                                                   \n",
      "\n",
      "   No. Main Delegates  No. Secondary Delegates  ...  MD2 Email MD3 Name  \\\n",
      "0                   1                        5  ...                       \n",
      "1                   1                        5  ...                       \n",
      "2                   1                        3  ...                       \n",
      "3                   1                       13  ...                       \n",
      "4                   1                       31  ...                       \n",
      "\n",
      "  MD3 Position MD3 Email MD4 Name MD4 Position MD4 Email MD5 Name  \\\n",
      "0                                                                   \n",
      "1                                                                   \n",
      "2                                                                   \n",
      "3                                                                   \n",
      "4                                                                   \n",
      "\n",
      "  MD5 Position MD5 Email  \n",
      "0                         \n",
      "1                         \n",
      "2                         \n",
      "3                         \n",
      "4                         \n",
      "\n",
      "[5 rows x 30 columns]\n"
     ]
    }
   ],
   "source": [
    "# CONVERTING DATA WITH MD\n",
    "import pandas as pd\n",
    "\n",
    "comp_md_data = pd.json_normalize(comp_detail_delegate)\n",
    "comp_md_data.fillna('', inplace=True)\n",
    "comp_md_data.to_excel(\"company_md_details.xlsx\")\n",
    "\n",
    "print(comp_md_data.head())"
   ]
  },
  {
   "cell_type": "code",
   "execution_count": 65,
   "metadata": {},
   "outputs": [
    {
     "name": "stdout",
     "output_type": "stream",
     "text": [
      "{'www.linkedin.com', 'www.facebook.com', 'email'}\n"
     ]
    }
   ],
   "source": [
    "import urllib.parse\n",
    "\n",
    "social_media = set()\n",
    "for com in data:\n",
    "    # Iterate over main delegates\n",
    "    for md in com[\"main_delegate\"]:\n",
    "        for link in md[\"social_medias\"]:\n",
    "            if link.startswith('mailto:'):\n",
    "                social_media.add(\"email\")\n",
    "            else:\n",
    "                # Extract the domain name from the URL and add to the set\n",
    "                domain = urllib.parse.urlparse(link).netloc\n",
    "                social_media.add(domain)\n",
    "\n",
    "    # Iterate over secondary delegates\n",
    "    for sd in com[\"secondary_delegate\"]:\n",
    "        for link in sd[\"social_medias\"]:\n",
    "            if link.startswith('mailto:'):\n",
    "                social_media.add(\"email\")\n",
    "            else:\n",
    "                # Extract the domain name from the URL and add to the set\n",
    "                domain = urllib.parse.urlparse(link).netloc\n",
    "                social_media.add(domain)\n",
    "\n",
    "# Print out the unique social media types found\n",
    "print(social_media)\n"
   ]
  },
  {
   "cell_type": "code",
   "execution_count": 71,
   "metadata": {},
   "outputs": [
    {
     "name": "stdout",
     "output_type": "stream",
     "text": [
      "[{'Company Name': 'Accenture', 'Name': 'Martine Lapointe', 'Position': 'Directrice du Bureau de Montréal', 'Email': 'martine.lapointe@accenture.com', 'Facebook': '', 'Linkedin': ''}, {'Company Name': 'ALLIED PROPERTIES MGT LTD', 'Name': 'Jean-François Burdet', 'Position': 'Vice-président régional, Est du Canada', 'Email': 'jfburdet@alliedreit.com', 'Facebook': '', 'Linkedin': ''}, {'Company Name': 'Alstom Transport Canada Inc.', 'Name': 'Olivier Marcil', 'Position': 'Vice-président affaires publiques Canada', 'Email': 'olivier.marcil@alstomgroup.com', 'Facebook': '', 'Linkedin': ''}, {'Company Name': 'Association de la construction du Québec - ACQ', 'Name': 'Felix Rhéaume', 'Position': 'Directeur aux affaires publiques et gouvernementales', 'Email': 'rheaumef@acq.org', 'Facebook': '', 'Linkedin': ''}, {'Company Name': 'Autorité des marchés financiers', 'Name': 'Yves Ouellet', 'Position': 'Président Directeur Général', 'Email': 'yves.ouellet@lautorite.qc.ca', 'Facebook': '', 'Linkedin': ''}]\n"
     ]
    }
   ],
   "source": [
    "main_delegate_data = []\n",
    "\n",
    "for com in data:\n",
    "    for md in com[\"main_delegate\"]:\n",
    "        entry = {\n",
    "            \"Company Name\": com[\"name\"],\n",
    "            \"Name\": md['name'],\n",
    "            \"Position\": md['position'],\n",
    "            \"Email\": \"\",\n",
    "            \"Facebook\": \"\",\n",
    "            \"Linkedin\": \"\"\n",
    "        }\n",
    "        \n",
    "        # Loop through social media links and update entry dictionary accordingly\n",
    "        for link in md[\"social_medias\"]:\n",
    "            if link.startswith('mailto:'):\n",
    "                entry['Email'] = link.replace(\"mailto:\", '').lower()\n",
    "            elif 'facebook' in link:\n",
    "                entry[\"Facebook\"] = link.lower()\n",
    "            elif 'linkedin' in link:\n",
    "                entry[\"Linkedin\"] = link.lower()\n",
    "        \n",
    "        main_delegate_data.append(entry)\n",
    "\n",
    "# Outputting processed data\n",
    "print(main_delegate_data[:5])"
   ]
  },
  {
   "cell_type": "code",
   "execution_count": 72,
   "metadata": {},
   "outputs": [
    {
     "name": "stdout",
     "output_type": "stream",
     "text": [
      "                                     Company Name                  Name  \\\n",
      "0                                       Accenture      Martine Lapointe   \n",
      "1                       ALLIED PROPERTIES MGT LTD  Jean-François Burdet   \n",
      "2                    Alstom Transport Canada Inc.        Olivier Marcil   \n",
      "3  Association de la construction du Québec - ACQ         Felix Rhéaume   \n",
      "4                 Autorité des marchés financiers          Yves Ouellet   \n",
      "\n",
      "                                            Position  \\\n",
      "0                   Directrice du Bureau de Montréal   \n",
      "1             Vice-président régional, Est du Canada   \n",
      "2           Vice-président affaires publiques Canada   \n",
      "3  Directeur aux affaires publiques et gouverneme...   \n",
      "4                        Président Directeur Général   \n",
      "\n",
      "                            Email Facebook Linkedin  \n",
      "0  martine.lapointe@accenture.com                    \n",
      "1         jfburdet@alliedreit.com                    \n",
      "2  olivier.marcil@alstomgroup.com                    \n",
      "3                rheaumef@acq.org                    \n",
      "4    yves.ouellet@lautorite.qc.ca                    \n"
     ]
    }
   ],
   "source": [
    "import pandas as pd\n",
    "\n",
    "main_delegate_sheet = pd.json_normalize(main_delegate_data)\n",
    "\n",
    "print(main_delegate_sheet.head())"
   ]
  },
  {
   "cell_type": "code",
   "execution_count": 73,
   "metadata": {},
   "outputs": [
    {
     "name": "stdout",
     "output_type": "stream",
     "text": [
      "[{'Company Name': 'Accenture', 'Name': 'Grace Ayoub', 'Position': 'Managing Director', 'Email': 'grace.ayoub@accenture.com', 'Facebook': '', 'Linkedin': ''}, {'Company Name': 'Accenture', 'Name': 'Kallia Mansour', 'Position': 'Integrated Marketing Manager', 'Email': 'kallia.mansour@accenture.com', 'Facebook': '', 'Linkedin': ''}, {'Company Name': 'Accenture', 'Name': 'Souad Miloudi', 'Position': 'Assistante à la directoin', 'Email': 'souad.miloudi@accenture.com', 'Facebook': '', 'Linkedin': ''}, {'Company Name': 'Accenture', 'Name': 'Hadi Skalli', 'Position': 'Digital Business Intergrational Senior Manager', 'Email': 'hadi.skalli@accenture.com', 'Facebook': '', 'Linkedin': ''}, {'Company Name': 'Accenture', 'Name': 'François Ste-Marie', 'Position': 'Montreal Market Lead', 'Email': 'francois.ste-marie@accenture.com', 'Facebook': '', 'Linkedin': ''}]\n"
     ]
    }
   ],
   "source": [
    "secondary_delegate_data = []\n",
    "\n",
    "for com in data:\n",
    "    for md in com[\"secondary_delegate\"]:\n",
    "        entry = {\n",
    "            \"Company Name\": com[\"name\"],\n",
    "            \"Name\": md['name'],\n",
    "            \"Position\": md['position'],\n",
    "            \"Email\": \"\",\n",
    "            \"Facebook\": \"\",\n",
    "            \"Linkedin\": \"\"\n",
    "        }\n",
    "        \n",
    "        # Loop through social media links and update entry dictionary accordingly\n",
    "        for link in md[\"social_medias\"]:\n",
    "            if link.startswith('mailto:'):\n",
    "                entry['Email'] = link.replace(\"mailto:\", '').lower()\n",
    "            elif 'facebook' in link:\n",
    "                entry[\"Facebook\"] = link.lower()\n",
    "            elif 'linkedin' in link:\n",
    "                entry[\"Linkedin\"] = link.lower()\n",
    "        \n",
    "        secondary_delegate_data.append(entry)\n",
    "\n",
    "# Outputting processed data\n",
    "print(secondary_delegate_data[:5])"
   ]
  },
  {
   "cell_type": "code",
   "execution_count": 74,
   "metadata": {},
   "outputs": [
    {
     "name": "stdout",
     "output_type": "stream",
     "text": [
      "  Company Name                Name  \\\n",
      "0    Accenture         Grace Ayoub   \n",
      "1    Accenture      Kallia Mansour   \n",
      "2    Accenture       Souad Miloudi   \n",
      "3    Accenture         Hadi Skalli   \n",
      "4    Accenture  François Ste-Marie   \n",
      "\n",
      "                                         Position  \\\n",
      "0                               Managing Director   \n",
      "1                    Integrated Marketing Manager   \n",
      "2                       Assistante à la directoin   \n",
      "3  Digital Business Intergrational Senior Manager   \n",
      "4                            Montreal Market Lead   \n",
      "\n",
      "                              Email Facebook Linkedin  \n",
      "0         grace.ayoub@accenture.com                    \n",
      "1      kallia.mansour@accenture.com                    \n",
      "2       souad.miloudi@accenture.com                    \n",
      "3         hadi.skalli@accenture.com                    \n",
      "4  francois.ste-marie@accenture.com                    \n"
     ]
    }
   ],
   "source": [
    "import pandas as pd\n",
    "\n",
    "secondary_delegate_sheet = pd.json_normalize(secondary_delegate_data)\n",
    "\n",
    "print(secondary_delegate_sheet.head())"
   ]
  },
  {
   "cell_type": "code",
   "execution_count": 75,
   "metadata": {},
   "outputs": [
    {
     "name": "stdout",
     "output_type": "stream",
     "text": [
      "[{'Name': 'Accenture', 'Address': '5 Place Ville-Marie suite 1520 Montréal', 'Telephone': '+15148474027', 'Website': 'http://www.accenture.com', 'Webpage': 'https://www.ccmm.ca/fr/entreprises/accenture/', 'SCIAN Code 1': '54161 - Services de conseils en gestion', 'SCIAN Code 2': '', 'SCIAN Code 3': '', 'No. Main Delegates': 1, 'No. Secondary Delegates': 5, 'To. Delegates': 6}, {'Name': 'ALLIED PROPERTIES MGT LTD', 'Address': '7000-111 Boul Robert-Bourassa Bureau 100 Montréal', 'Telephone': '+15148689002', 'Website': 'http://www.alliedreit.com', 'Webpage': 'https://www.ccmm.ca/fr/entreprises/allied-properties-mgt-ltd/', 'SCIAN Code 1': \"52311 - Services bancaires d'investissement et commerce des valeurs mobilières\", 'SCIAN Code 2': '', 'SCIAN Code 3': '', 'No. Main Delegates': 1, 'No. Secondary Delegates': 5, 'To. Delegates': 6}, {'Name': 'Alstom Transport Canada Inc.', 'Address': '1101, rue Parent 18e étage Saint-Bruno', 'Telephone': '+15147641725', 'Website': 'https://www.alstom.com/fr/alstom-au-canada', 'Webpage': 'https://www.ccmm.ca/fr/entreprises/alstom-transport-canada-inc-/', 'SCIAN Code 1': \"3359 - Fabrication d'autres types de matériel et de composants électriques\", 'SCIAN Code 2': '3365 - Fabrication de matériel ferroviaire roulant', 'SCIAN Code 3': '', 'No. Main Delegates': 1, 'No. Secondary Delegates': 3, 'To. Delegates': 4}, {'Name': 'Association de la construction du Québec - ACQ', 'Address': '9200, boul. Métropolitain Est Montréal', 'Telephone': '+15143540609', 'Website': 'https://www.acq.org/', 'Webpage': 'https://www.ccmm.ca/fr/entreprises/association-de-la-construction-du-quebec---acq/', 'SCIAN Code 1': '81399 - Autres associations', 'SCIAN Code 2': '', 'SCIAN Code 3': '', 'No. Main Delegates': 1, 'No. Secondary Delegates': 13, 'To. Delegates': 14}, {'Name': 'Autorité des marchés financiers', 'Address': '2640, boul. Laurier 8e étage Québec', 'Telephone': '+14185250337', 'Website': 'https://lautorite.qc.ca/grand-public', 'Webpage': 'https://www.ccmm.ca/fr/entreprises/autorite-des-marches-financiers/', 'SCIAN Code 1': '52 - Finance et assurances', 'SCIAN Code 2': '', 'SCIAN Code 3': '', 'No. Main Delegates': 1, 'No. Secondary Delegates': 31, 'To. Delegates': 32}]\n"
     ]
    }
   ],
   "source": [
    "# MAIN DELEGATE\n",
    "comp_detail_data = []\n",
    "\n",
    "for com in data:\n",
    "\n",
    "    address_info_results = extract_address_info(com[\"address_info\"])\n",
    "\n",
    "    entry = {\n",
    "        \"Name\": com[\"name\"],\n",
    "        \"Address\": address_info_results[\"Address\"],\n",
    "        \"Telephone\": address_info_results[\"Telephone\"],\n",
    "        \"Website\": address_info_results[\"Website\"],\n",
    "        \"Webpage\": com[\"link\"],\n",
    "        \"SCIAN Code 1\": com[\"SCIAN\"][0] if len(com[\"SCIAN\"]) > 0 else '',\n",
    "        \"SCIAN Code 2\": com[\"SCIAN\"][1] if len(com[\"SCIAN\"]) > 1 else '',\n",
    "        \"SCIAN Code 3\": com[\"SCIAN\"][2] if len(com[\"SCIAN\"]) > 2 else '',\n",
    "        \"No. Main Delegates\": len(com[\"main_delegate\"]),\n",
    "        \"No. Secondary Delegates\": len(com[\"secondary_delegate\"]),\n",
    "        \"To. Delegates\": len(com[\"main_delegate\"]) + len(com[\"secondary_delegate\"]),\n",
    "    } \n",
    "\n",
    "    comp_detail_data.append(entry)\n",
    "\n",
    "print(comp_detail_data[0:5])"
   ]
  },
  {
   "cell_type": "code",
   "execution_count": 76,
   "metadata": {},
   "outputs": [],
   "source": [
    "import pandas as pd\n",
    "\n",
    "comp_info_sheet = pd.json_normalize(comp_detail_data)"
   ]
  },
  {
   "cell_type": "code",
   "execution_count": 77,
   "metadata": {},
   "outputs": [],
   "source": [
    "# Specify the Excel file path\n",
    "file_path = 'ccmm_company_details.xlsx'\n",
    "\n",
    "# Using ExcelWriter to write to multiple sheets\n",
    "with pd.ExcelWriter(file_path, engine='openpyxl') as writer:\n",
    "    comp_info_sheet.to_excel(writer, sheet_name='Company Info', index=False)\n",
    "    main_delegate_sheet.to_excel(writer, sheet_name='Main Delegates', index=False)\n",
    "    secondary_delegate_sheet.to_excel(writer, sheet_name='Secondary Delegates', index=False)"
   ]
  },
  {
   "cell_type": "code",
   "execution_count": null,
   "metadata": {},
   "outputs": [],
   "source": [
    "# NEXT CODE ONLY SEPARATE TWO DETAILS\n",
    "# ADDRESS & NAME"
   ]
  },
  {
   "cell_type": "code",
   "execution_count": 5,
   "metadata": {},
   "outputs": [
    {
     "name": "stdout",
     "output_type": "stream",
     "text": [
      "Data saved to address_name_data.json\n"
     ]
    }
   ],
   "source": [
    "import json\n",
    "\n",
    "address_name_data = []\n",
    "for comp in data:\n",
    "    address_info_results = extract_address_info(comp[\"address_info\"])\n",
    "    entry = {\n",
    "        \"name\": comp[\"name\"],\n",
    "        \"address\": address_info_results[\"Address\"]\n",
    "    }\n",
    "    address_name_data.append(entry)\n",
    "\n",
    "# Save the JSON data to a file\n",
    "with open(\"address_name_data.json\", \"w\") as json_file:\n",
    "    json.dump(address_name_data, json_file, indent=4)\n",
    "\n",
    "print(\"Data saved to address_name_data.json\")"
   ]
  },
  {
   "cell_type": "code",
   "execution_count": 1,
   "metadata": {},
   "outputs": [
    {
     "name": "stdout",
     "output_type": "stream",
     "text": [
      "75\n"
     ]
    }
   ],
   "source": [
    "# LOADING JSON DATA\n",
    "import json\n",
    "\n",
    "file_path = \"D:\\\\Python\\\\python-works\\\\ccmm-companies-data-format\\\\entreprises_data.json\"\n",
    "with open(file_path,\"r\", encoding='utf-8') as file:\n",
    "    data = json.load(file)\n",
    "\n",
    "print(len(data))"
   ]
  },
  {
   "cell_type": "code",
   "execution_count": null,
   "metadata": {},
   "outputs": [
    {
     "name": "stdout",
     "output_type": "stream",
     "text": [
      "{'search_company_name': 'Accenture', 'card_info': \"ACCENTURE INC.\\n3000-40 King Street West Toronto Ontario M5H3Y2 Canada\\nNuméro de l'entreprise (NEQ)\\n1160211034\\nStatut de l'entreprise\\nImmatriculée\\nDate de mise à jour du statut\\n2001-07-10\\n3000-40 King Street West Toronto Ontario M5H3Y2 Canada\\nNuméro de l'entreprise (NEQ)\\n1160211034\\nStatut de l'entreprise\\nImmatriculée\\nDate de mise à jour du statut\\n2001-07-10\\nStatut du nom\\nEn vigueur\\nDate de début du nom\\n2001-05-24\\nDate de fin du nom\\nConsulter Consulter\\nConsulter Consulter\", 'address': '3000-40 King Street West  Toronto (Ontario) M5H3Y2 Canada', 'neq': '1160211034', 'status': 'Société par actions ou compagnie', 'date_of_incorporation': '2001-05-24 Fusion', 'cae': '7771', 'activity': 'Bureaux de conseillers en gestion', 'details': 'Conseil aux entreprises', 'employees': 'De 500 à 749'}\n",
      "{'search_company_name': 'Accenture', 'card_info': \"ACCENTURE INC.\\n3000-40 King Street West Toronto Ontario M5H3Y2 Canada\\nNuméro de l'entreprise (NEQ)\\n1160211034\\nStatut de l'entreprise\\nImmatriculée\\nDate de mise à jour du statut\\n2001-07-10\\n3000-40 King Street West Toronto Ontario M5H3Y2 Canada\\nNuméro de l'entreprise (NEQ)\\n1160211034\\nStatut de l'entreprise\\nImmatriculée\\nDate de mise à jour du statut\\n2001-07-10\\nStatut du nom\\nAntérieur\\nDate de début du nom\\n2007-06-01\\nDate de fin du nom\\n2009-11-30\\nConsulter Consulter\\nConsulter Consulter\", 'address': '3000-40 King Street West  Toronto (Ontario) M5H3Y2 Canada', 'neq': '1160211034', 'status': 'Société par actions ou compagnie', 'date_of_incorporation': '2001-05-24 Fusion', 'cae': '7771', 'activity': 'Bureaux de conseillers en gestion', 'details': 'Conseil aux entreprises', 'employees': 'De 500 à 749'}\n",
      "{'search_company_name': 'Accenture', 'card_info': \"Accenture Song ™\\n3000-40 King Street West Toronto Ontario M5H3Y2 Canada\\nNuméro de l'entreprise (NEQ)\\n1177990240\\nStatut de l'entreprise\\nImmatriculée\\nDate de mise à jour du statut\\n2022-09-15\\n3000-40 King Street West Toronto Ontario M5H3Y2 Canada\\nNuméro de l'entreprise (NEQ)\\n1177990240\\nStatut de l'entreprise\\nImmatriculée\\nDate de mise à jour du statut\\n2022-09-15\\nStatut du nom\\nEn vigueur\\nDate de début du nom\\n2023-02-17\\nDate de fin du nom\\nConsulter Consulter\\nConsulter Consulter\", 'address': '3000-40 King Street West  Toronto (Ontario) M5H3Y2 Canada', 'neq': '1177990240', 'status': 'Société par actions ou compagnie', 'date_of_incorporation': '2022-09-01 Constitution', 'cae': '9611', 'activity': 'Production de films et de matériel visuel', 'details': 'Publicité télévisée', 'employees': 'Aucun'}\n",
      "{'search_company_name': 'Accenture', 'card_info': \"Accenture Song ™ Canada\\n3000-40 King Street West Toronto Ontario M5H3Y2 Canada\\nNuméro de l'entreprise (NEQ)\\n1177990240\\nStatut de l'entreprise\\nImmatriculée\\nDate de mise à jour du statut\\n2022-09-15\\n3000-40 King Street West Toronto Ontario M5H3Y2 Canada\\nNuméro de l'entreprise (NEQ)\\n1177990240\\nStatut de l'entreprise\\nImmatriculée\\nDate de mise à jour du statut\\n2022-09-15\\nStatut du nom\\nEn vigueur\\nDate de début du nom\\n2023-02-17\\nDate de fin du nom\\nConsulter Consulter\\nConsulter Consulter\", 'address': '3000-40 King Street West  Toronto (Ontario) M5H3Y2 Canada', 'neq': '1177990240', 'status': 'Société par actions ou compagnie', 'date_of_incorporation': '2022-09-01 Constitution', 'cae': '9611', 'activity': 'Production de films et de matériel visuel', 'details': 'Publicité télévisée', 'employees': 'Aucun'}\n",
      "{'search_company_name': 'Accenture', 'card_info': \"Accenture Song Canada Inc.\\n3000-40 King Street West Toronto Ontario M5H3Y2 Canada\\nNuméro de l'entreprise (NEQ)\\n1177990240\\nStatut de l'entreprise\\nImmatriculée\\nDate de mise à jour du statut\\n2022-09-15\\n3000-40 King Street West Toronto Ontario M5H3Y2 Canada\\nNuméro de l'entreprise (NEQ)\\n1177990240\\nStatut de l'entreprise\\nImmatriculée\\nDate de mise à jour du statut\\n2022-09-15\\nStatut du nom\\nEn vigueur\\nDate de début du nom\\n2023-02-17\\nDate de fin du nom\\nConsulter Consulter\\nConsulter Consulter\", 'address': '3000-40 King Street West  Toronto (Ontario) M5H3Y2 Canada', 'neq': '1177990240', 'status': 'Société par actions ou compagnie', 'date_of_incorporation': '2022-09-01 Constitution', 'cae': '9611', 'activity': 'Production de films et de matériel visuel', 'details': 'Publicité télévisée', 'employees': 'Aucun'}\n",
      "{'search_company_name': 'Accenture', 'card_info': \"La Marque Accenture Song Canada\\n3000-40 King Street West Toronto Ontario M5H3Y2 Canada\\nNuméro de l'entreprise (NEQ)\\n1177990240\\nStatut de l'entreprise\\nImmatriculée\\nDate de mise à jour du statut\\n2022-09-15\\n3000-40 King Street West Toronto Ontario M5H3Y2 Canada\\nNuméro de l'entreprise (NEQ)\\n1177990240\\nStatut de l'entreprise\\nImmatriculée\\nDate de mise à jour du statut\\n2022-09-15\\nStatut du nom\\nEn vigueur\\nDate de début du nom\\n2023-02-17\\nDate de fin du nom\\nConsulter Consulter\\nConsulter Consulter\", 'address': '3000-40 King Street West  Toronto (Ontario) M5H3Y2 Canada', 'neq': '1177990240', 'status': 'Société par actions ou compagnie', 'date_of_incorporation': '2022-09-01 Constitution', 'cae': '9611', 'activity': 'Production de films et de matériel visuel', 'details': 'Publicité télévisée', 'employees': 'Aucun'}\n",
      "{'search_company_name': 'Alstom Transport Canada Inc.', 'card_info': \"ALSTOM Transport Canada Inc.\\n1101 rue Parent Saint-Bruno-de-Montarville (Québec) J3V6E6 Canada\\nNuméro de l'entreprise (NEQ)\\n1178311404\\nStatut de l'entreprise\\nImmatriculée\\nDate de mise à jour du statut\\n2023-01-06\\n1101 rue Parent Saint-Bruno-de-Montarville (Québec) J3V6E6 Cana ...\\nNuméro de l'entreprise (NEQ)\\n1178311404\\nStatut de l'entreprise\\nImmatriculée\\nDate de mise à jour du statut\\n2023-01-06\\nStatut du nom\\nEn vigueur\\nDate de début du nom\\n2023-01-06\\nDate de fin du nom\\nConsulter Consulter\\nConsulter Consulter\", 'address': '1101 rue Parent Saint-Bruno-de-Montarville (Québec) J3V6E6 Canada', 'neq': '1178311404', 'status': 'Société par actions ou compagnie', 'date_of_incorporation': '2023-01-02 Fusion', 'cae': '3261', 'activity': 'Industrie du matériel ferroviaire roulant', 'details': '-', 'employees': 'De 1000 à 2499'}\n",
      "{'search_company_name': 'Alstom Transport Canada Inc.', 'card_info': \"Alstom Transport Canada Participation Inc.\\n1101 rue Parent Saint-Bruno-de-Montarville (Québec) J3V6E6 Canada\\nNuméro de l'entreprise (NEQ)\\n1164098585\\nStatut de l'entreprise\\nImmatriculée\\nDate de mise à jour du statut\\n2006-11-27\\n1101 rue Parent Saint-Bruno-de-Montarville (Québec) J3V6E6 Cana ...\\nNuméro de l'entreprise (NEQ)\\n1164098585\\nStatut de l'entreprise\\nImmatriculée\\nDate de mise à jour du statut\\n2006-11-27\\nStatut du nom\\nEn vigueur\\nDate de début du nom\\n2024-04-03\\nDate de fin du nom\\nConsulter Consulter\\nConsulter Consulter\", 'address': '1101 rue Parent Saint-Bruno-de-Montarville (Québec) J3V6E6 Canada', 'neq': '1164098585', 'status': 'Société par actions ou compagnie', 'date_of_incorporation': '2006-11-17 Constitution', 'cae': '7215', 'activity': 'Sociétés de portefeuille (holdings)', 'details': 'SOCIÉTÉ DE GESTION', 'employees': 'Aucun'}\n",
      "{'search_company_name': 'Alstom Transport Canada Inc.', 'card_info': \"ALSTOM POWER & TRANSPORT CANADA INC.\\n6000-5005 BOUL. Lapinière Brossard Québec J4Z0N5 Canada\\nNuméro de l'entreprise (NEQ)\\n1163602452\\nStatut de l'entreprise\\nImmatriculée\\nDate de mise à jour du statut\\n2006-03-23\\n6000-5005 BOUL. Lapinière Brossard Québec J4Z0N5 Canada\\nNuméro de l'entreprise (NEQ)\\n1163602452\\nStatut de l'entreprise\\nImmatriculée\\nDate de mise à jour du statut\\n2006-03-23\\nStatut du nom\\nAntérieur\\nDate de début du nom\\n2010-04-28\\nDate de fin du nom\\n2014-04-04\\nConsulter Consulter\\nConsulter Consulter\", 'address': '6000-5005 BOUL. Lapinière  Brossard (Québec) J4Z0N5 Canada', 'neq': '1163602452', 'status': 'Société par actions ou compagnie', 'date_of_incorporation': '2006-03-14 Constitution', 'cae': '3194', 'activity': \"Industrie des turbines et du matériel de transmission d'énergie mécanique\", 'details': 'CONCEPTION,FABRICATION,INSTALLATION ET MISE EN ROUTE DE TURBINE & ALTERNA..', 'employees': 'De 250 à 499'}\n",
      "{'search_company_name': 'Alstom Transport Canada Inc.', 'card_info': \"ALSTOM ÉNERGIE & TRANSPORT CANADA INC.\\n6000-5005 BOUL. Lapinière Brossard Québec J4Z0N5 Canada\\nNuméro de l'entreprise (NEQ)\\n1163602452\\nStatut de l'entreprise\\nImmatriculée\\nDate de mise à jour du statut\\n2006-03-23\\n6000-5005 BOUL. Lapinière Brossard Québec J4Z0N5 Canada\\nNuméro de l'entreprise (NEQ)\\n1163602452\\nStatut de l'entreprise\\nImmatriculée\\nDate de mise à jour du statut\\n2006-03-23\\nStatut du nom\\nAntérieur\\nDate de début du nom\\n2010-04-28\\nDate de fin du nom\\n2014-04-04\\nConsulter Consulter\\nConsulter Consulter\", 'address': '6000-5005 BOUL. Lapinière  Brossard (Québec) J4Z0N5 Canada', 'neq': '1163602452', 'status': 'Société par actions ou compagnie', 'date_of_incorporation': '2006-03-14 Constitution', 'cae': '3194', 'activity': \"Industrie des turbines et du matériel de transmission d'énergie mécanique\", 'details': 'CONCEPTION,FABRICATION,INSTALLATION ET MISE EN ROUTE DE TURBINE & ALTERNA..', 'employees': 'De 250 à 499'}\n",
      "{'search_company_name': 'Autorité des marchés financiers', 'card_info': 'No results found for company: Autorité des marchés financiers'}\n",
      "{'search_company_name': 'Banque Nationale', 'card_info': \"BANQUE-NATIONALE-DU-CANADA.CA\\n800 rue Saint-Jacques Montréal (Québec) H3C1A3 Canada\\nNuméro de l'entreprise (NEQ)\\n1141418286\\nStatut de l'entreprise\\nImmatriculée\\nDate de mise à jour du statut\\n1994-11-16\\n800 rue Saint-Jacques Montréal (Québec) H3C1A3 Canada\\nNuméro de l'entreprise (NEQ)\\n1141418286\\nStatut de l'entreprise\\nImmatriculée\\nDate de mise à jour du statut\\n1994-11-16\\nStatut du nom\\nAntérieur\\nDate de début du nom\\n2005-05-17\\nDate de fin du nom\\n2012-04-16\\nConsulter Consulter\\nConsulter Consulter\", 'address': '800 rue Saint-Jacques Montréal (Québec) H3C1A3 Canada', 'neq': '1141418286', 'status': 'Société par actions ou compagnie', 'date_of_incorporation': '1992-11-01 Fusion', 'cae': '7021', 'activity': 'Banques à charte', 'details': 'SERVICES BANCAIRES', 'employees': 'Plus de 5000'}\n",
      "{'search_company_name': 'Banque Nationale', 'card_info': \"BANQUE-NATIONALE-DU-CANADA.COM\\n800 rue Saint-Jacques Montréal (Québec) H3C1A3 Canada\\nNuméro de l'entreprise (NEQ)\\n1141418286\\nStatut de l'entreprise\\nImmatriculée\\nDate de mise à jour du statut\\n1994-11-16\\n800 rue Saint-Jacques Montréal (Québec) H3C1A3 Canada\\nNuméro de l'entreprise (NEQ)\\n1141418286\\nStatut de l'entreprise\\nImmatriculée\\nDate de mise à jour du statut\\n1994-11-16\\nStatut du nom\\nAntérieur\\nDate de début du nom\\n2006-04-21\\nDate de fin du nom\\n2012-04-16\\nConsulter Consulter\\nConsulter Consulter\", 'address': '800 rue Saint-Jacques Montréal (Québec) H3C1A3 Canada', 'neq': '1141418286', 'status': 'Société par actions ou compagnie', 'date_of_incorporation': '1992-11-01 Fusion', 'cae': '7021', 'activity': 'Banques à charte', 'details': 'SERVICES BANCAIRES', 'employees': 'Plus de 5000'}\n",
      "{'search_company_name': 'Banque Nationale', 'card_info': \"BANQUE-NATIONALE-DU-CANADA.ORG\\n800 rue Saint-Jacques Montréal (Québec) H3C1A3 Canada\\nNuméro de l'entreprise (NEQ)\\n1141418286\\nStatut de l'entreprise\\nImmatriculée\\nDate de mise à jour du statut\\n1994-11-16\\n800 rue Saint-Jacques Montréal (Québec) H3C1A3 Canada\\nNuméro de l'entreprise (NEQ)\\n1141418286\\nStatut de l'entreprise\\nImmatriculée\\nDate de mise à jour du statut\\n1994-11-16\\nStatut du nom\\nAntérieur\\nDate de début du nom\\n2008-08-25\\nDate de fin du nom\\n2012-04-16\\nConsulter Consulter\\nConsulter Consulter\", 'address': '800 rue Saint-Jacques Montréal (Québec) H3C1A3 Canada', 'neq': '1141418286', 'status': 'Société par actions ou compagnie', 'date_of_incorporation': '1992-11-01 Fusion', 'cae': '7021', 'activity': 'Banques à charte', 'details': 'SERVICES BANCAIRES', 'employees': 'Plus de 5000'}\n",
      "{'search_company_name': 'Banque Nationale', 'card_info': \"BANQUE-NATIONALE-DU-CANADA.NET\\n800 rue Saint-Jacques Montréal (Québec) H3C1A3 Canada\\nNuméro de l'entreprise (NEQ)\\n1141418286\\nStatut de l'entreprise\\nImmatriculée\\nDate de mise à jour du statut\\n1994-11-16\\n800 rue Saint-Jacques Montréal (Québec) H3C1A3 Canada\\nNuméro de l'entreprise (NEQ)\\n1141418286\\nStatut de l'entreprise\\nImmatriculée\\nDate de mise à jour du statut\\n1994-11-16\\nStatut du nom\\nAntérieur\\nDate de début du nom\\n2008-08-25\\nDate de fin du nom\\n2012-04-16\\nConsulter Consulter\\nConsulter Consulter\", 'address': '800 rue Saint-Jacques Montréal (Québec) H3C1A3 Canada', 'neq': '1141418286', 'status': 'Société par actions ou compagnie', 'date_of_incorporation': '1992-11-01 Fusion', 'cae': '7021', 'activity': 'Banques à charte', 'details': 'SERVICES BANCAIRES', 'employees': 'Plus de 5000'}\n",
      "{'search_company_name': 'Banque Nationale', 'card_info': \"BANQUE-NATIONALE-DU-CANADA.BIZ\\n800 rue Saint-Jacques Montréal (Québec) H3C1A3 Canada\\nNuméro de l'entreprise (NEQ)\\n1141418286\\nStatut de l'entreprise\\nImmatriculée\\nDate de mise à jour du statut\\n1994-11-16\\n800 rue Saint-Jacques Montréal (Québec) H3C1A3 Canada\\nNuméro de l'entreprise (NEQ)\\n1141418286\\nStatut de l'entreprise\\nImmatriculée\\nDate de mise à jour du statut\\n1994-11-16\\nStatut du nom\\nAntérieur\\nDate de début du nom\\n2008-08-25\\nDate de fin du nom\\n2012-04-16\\nConsulter Consulter\\nConsulter Consulter\", 'address': '800 rue Saint-Jacques Montréal (Québec) H3C1A3 Canada', 'neq': '1141418286', 'status': 'Société par actions ou compagnie', 'date_of_incorporation': '1992-11-01 Fusion', 'cae': '7021', 'activity': 'Banques à charte', 'details': 'SERVICES BANCAIRES', 'employees': 'Plus de 5000'}\n",
      "{'search_company_name': 'Banque Nationale', 'card_info': \"BANQUE-NATIONALE-DU-CANADA.INFO\\n800 rue Saint-Jacques Montréal (Québec) H3C1A3 Canada\\nNuméro de l'entreprise (NEQ)\\n1141418286\\nStatut de l'entreprise\\nImmatriculée\\nDate de mise à jour du statut\\n1994-11-16\\n800 rue Saint-Jacques Montréal (Québec) H3C1A3 Canada\\nNuméro de l'entreprise (NEQ)\\n1141418286\\nStatut de l'entreprise\\nImmatriculée\\nDate de mise à jour du statut\\n1994-11-16\\nStatut du nom\\nAntérieur\\nDate de début du nom\\n2008-08-25\\nDate de fin du nom\\n2012-04-16\\nConsulter Consulter\\nConsulter Consulter\", 'address': '800 rue Saint-Jacques Montréal (Québec) H3C1A3 Canada', 'neq': '1141418286', 'status': 'Société par actions ou compagnie', 'date_of_incorporation': '1992-11-01 Fusion', 'cae': '7021', 'activity': 'Banques à charte', 'details': 'SERVICES BANCAIRES', 'employees': 'Plus de 5000'}\n",
      "{'search_company_name': 'Banque Nationale', 'card_info': \"BANQUE-NATIONALE-DU-CANADA.US ®\\n800 rue Saint-Jacques Montréal (Québec) H3C1A3 Canada\\nNuméro de l'entreprise (NEQ)\\n1141418286\\nStatut de l'entreprise\\nImmatriculée\\nDate de mise à jour du statut\\n1994-11-16\\n800 rue Saint-Jacques Montréal (Québec) H3C1A3 Canada\\nNuméro de l'entreprise (NEQ)\\n1141418286\\nStatut de l'entreprise\\nImmatriculée\\nDate de mise à jour du statut\\n1994-11-16\\nStatut du nom\\nAntérieur\\nDate de début du nom\\n2005-05-17\\nDate de fin du nom\\n2008-08-25\\nConsulter Consulter\\nConsulter Consulter\", 'address': '800 rue Saint-Jacques Montréal (Québec) H3C1A3 Canada', 'neq': '1141418286', 'status': 'Société par actions ou compagnie', 'date_of_incorporation': '1992-11-01 Fusion', 'cae': '7021', 'activity': 'Banques à charte', 'details': 'SERVICES BANCAIRES', 'employees': 'Plus de 5000'}\n",
      "{'search_company_name': 'Banque Nationale', 'card_info': \"BANQUE-NATIONALE-DU-CANADA.CN ®\\n800 rue Saint-Jacques Montréal (Québec) H3C1A3 Canada\\nNuméro de l'entreprise (NEQ)\\n1141418286\\nStatut de l'entreprise\\nImmatriculée\\nDate de mise à jour du statut\\n1994-11-16\\n800 rue Saint-Jacques Montréal (Québec) H3C1A3 Canada\\nNuméro de l'entreprise (NEQ)\\n1141418286\\nStatut de l'entreprise\\nImmatriculée\\nDate de mise à jour du statut\\n1994-11-16\\nStatut du nom\\nAntérieur\\nDate de début du nom\\n2005-05-17\\nDate de fin du nom\\n2007-09-19\\nConsulter Consulter\\nConsulter Consulter\", 'address': '800 rue Saint-Jacques Montréal (Québec) H3C1A3 Canada', 'neq': '1141418286', 'status': 'Société par actions ou compagnie', 'date_of_incorporation': '1992-11-01 Fusion', 'cae': '7021', 'activity': 'Banques à charte', 'details': 'SERVICES BANCAIRES', 'employees': 'Plus de 5000'}\n",
      "{'search_company_name': 'Banque Nationale', 'card_info': \"BANQUE-NATIONALE-DU-CANADA.BIZ ®\\n800 rue Saint-Jacques Montréal (Québec) H3C1A3 Canada\\nNuméro de l'entreprise (NEQ)\\n1141418286\\nStatut de l'entreprise\\nImmatriculée\\nDate de mise à jour du statut\\n1994-11-16\\n800 rue Saint-Jacques Montréal (Québec) H3C1A3 Canada\\nNuméro de l'entreprise (NEQ)\\n1141418286\\nStatut de l'entreprise\\nImmatriculée\\nDate de mise à jour du statut\\n1994-11-16\\nStatut du nom\\nAntérieur\\nDate de début du nom\\n2005-05-17\\nDate de fin du nom\\n2008-08-25\\nConsulter Consulter\\nConsulter Consulter\", 'address': '800 rue Saint-Jacques Montréal (Québec) H3C1A3 Canada', 'neq': '1141418286', 'status': 'Société par actions ou compagnie', 'date_of_incorporation': '1992-11-01 Fusion', 'cae': '7021', 'activity': 'Banques à charte', 'details': 'SERVICES BANCAIRES', 'employees': 'Plus de 5000'}\n",
      "{'search_company_name': 'Banque Nationale', 'card_info': \"BANQUE-NATIONALE-DU-CANADA.COM ®\\n800 rue Saint-Jacques Montréal (Québec) H3C1A3 Canada\\nNuméro de l'entreprise (NEQ)\\n1141418286\\nStatut de l'entreprise\\nImmatriculée\\nDate de mise à jour du statut\\n1994-11-16\\n800 rue Saint-Jacques Montréal (Québec) H3C1A3 Canada\\nNuméro de l'entreprise (NEQ)\\n1141418286\\nStatut de l'entreprise\\nImmatriculée\\nDate de mise à jour du statut\\n1994-11-16\\nStatut du nom\\nAntérieur\\nDate de début du nom\\n2005-05-17\\nDate de fin du nom\\n2008-08-25\\nConsulter Consulter\\nConsulter Consulter\", 'address': '800 rue Saint-Jacques Montréal (Québec) H3C1A3 Canada', 'neq': '1141418286', 'status': 'Société par actions ou compagnie', 'date_of_incorporation': '1992-11-01 Fusion', 'cae': '7021', 'activity': 'Banques à charte', 'details': 'SERVICES BANCAIRES', 'employees': 'Plus de 5000'}\n",
      "{'search_company_name': 'Banque Nationale', 'card_info': \"BANQUE-NATIONALE-DU-CANADA.NET ®\\n800 rue Saint-Jacques Montréal (Québec) H3C1A3 Canada\\nNuméro de l'entreprise (NEQ)\\n1141418286\\nStatut de l'entreprise\\nImmatriculée\\nDate de mise à jour du statut\\n1994-11-16\\n800 rue Saint-Jacques Montréal (Québec) H3C1A3 Canada\\nNuméro de l'entreprise (NEQ)\\n1141418286\\nStatut de l'entreprise\\nImmatriculée\\nDate de mise à jour du statut\\n1994-11-16\\nStatut du nom\\nAntérieur\\nDate de début du nom\\n2005-05-17\\nDate de fin du nom\\n2008-08-25\\nConsulter Consulter\\nConsulter Consulter\", 'address': '800 rue Saint-Jacques Montréal (Québec) H3C1A3 Canada', 'neq': '1141418286', 'status': 'Société par actions ou compagnie', 'date_of_incorporation': '1992-11-01 Fusion', 'cae': '7021', 'activity': 'Banques à charte', 'details': 'SERVICES BANCAIRES', 'employees': 'Plus de 5000'}\n",
      "{'search_company_name': 'Banque Nationale', 'card_info': \"BANQUE-NATIONALE-DU-CANADA.ORG ®\\n800 rue Saint-Jacques Montréal (Québec) H3C1A3 Canada\\nNuméro de l'entreprise (NEQ)\\n1141418286\\nStatut de l'entreprise\\nImmatriculée\\nDate de mise à jour du statut\\n1994-11-16\\n800 rue Saint-Jacques Montréal (Québec) H3C1A3 Canada\\nNuméro de l'entreprise (NEQ)\\n1141418286\\nStatut de l'entreprise\\nImmatriculée\\nDate de mise à jour du statut\\n1994-11-16\\nStatut du nom\\nAntérieur\\nDate de début du nom\\n2005-05-17\\nDate de fin du nom\\n2008-08-25\\nConsulter Consulter\\nConsulter Consulter\", 'address': '800 rue Saint-Jacques Montréal (Québec) H3C1A3 Canada', 'neq': '1141418286', 'status': 'Société par actions ou compagnie', 'date_of_incorporation': '1992-11-01 Fusion', 'cae': '7021', 'activity': 'Banques à charte', 'details': 'SERVICES BANCAIRES', 'employees': 'Plus de 5000'}\n",
      "{'search_company_name': 'Banque Nationale', 'card_info': \"BANQUE-NATIONALE-DU-CANADA.INFO ®\\n800 rue Saint-Jacques Montréal (Québec) H3C1A3 Canada\\nNuméro de l'entreprise (NEQ)\\n1141418286\\nStatut de l'entreprise\\nImmatriculée\\nDate de mise à jour du statut\\n1994-11-16\\n800 rue Saint-Jacques Montréal (Québec) H3C1A3 Canada\\nNuméro de l'entreprise (NEQ)\\n1141418286\\nStatut de l'entreprise\\nImmatriculée\\nDate de mise à jour du statut\\n1994-11-16\\nStatut du nom\\nAntérieur\\nDate de début du nom\\n2005-05-17\\nDate de fin du nom\\n2008-08-25\\nConsulter Consulter\\nConsulter Consulter\", 'address': '800 rue Saint-Jacques Montréal (Québec) H3C1A3 Canada', 'neq': '1141418286', 'status': 'Société par actions ou compagnie', 'date_of_incorporation': '1992-11-01 Fusion', 'cae': '7021', 'activity': 'Banques à charte', 'details': 'SERVICES BANCAIRES', 'employees': 'Plus de 5000'}\n",
      "{'search_company_name': 'Banque Nationale', 'card_info': \"BANQUE NATIONALE ®\\n800 rue Saint-Jacques Montréal (Québec) H3C1A3 Canada\\nNuméro de l'entreprise (NEQ)\\n1141418286\\nStatut de l'entreprise\\nImmatriculée\\nDate de mise à jour du statut\\n1994-11-16\\n800 rue Saint-Jacques Montréal (Québec) H3C1A3 Canada\\nNuméro de l'entreprise (NEQ)\\n1141418286\\nStatut de l'entreprise\\nImmatriculée\\nDate de mise à jour du statut\\n1994-11-16\\nStatut du nom\\nEn vigueur\\nDate de début du nom\\n2004-02-02\\nDate de fin du nom\\nConsulter Consulter\\nConsulter Consulter\", 'address': '800 rue Saint-Jacques Montréal (Québec) H3C1A3 Canada', 'neq': '1141418286', 'status': 'Société par actions ou compagnie', 'date_of_incorporation': '1992-11-01 Fusion', 'cae': '7021', 'activity': 'Banques à charte', 'details': 'SERVICES BANCAIRES', 'employees': 'Plus de 5000'}\n",
      "{'search_company_name': 'Bell Canada', 'card_info': \"TACO BELL CANADA\\n1741 Lower Water Street, Suite 600 Halifax, Nova Scotia B3J0J2 Canada\\nNuméro de l'entreprise (NEQ)\\n1170490156\\nStatut de l'entreprise\\nImmatriculée\\nDate de mise à jour du statut\\n2014-11-07\\n1741 Lower Water Street, Suite 600 Halifax, Nova Scotia B3J0J2 ...\\nNuméro de l'entreprise (NEQ)\\n1170490156\\nStatut de l'entreprise\\nImmatriculée\\nDate de mise à jour du statut\\n2014-11-07\\nStatut du nom\\nEn vigueur\\nDate de début du nom\\n2014-12-18\\nDate de fin du nom\\nConsulter Consulter\\nConsulter Consulter\", 'address': '1741 Lower Water Street, Suite 600  Halifax, (Nova Scotia) B3J0J2 Canada', 'neq': '1170490156', 'status': 'Société par actions ou compagnie', 'date_of_incorporation': '2010-10-06 Constitution', 'cae': '9999', 'activity': 'Autres services', 'details': 'Franchise business', 'employees': 'Aucun'}\n",
      "{'search_company_name': 'Bell Canada', 'card_info': \"BEL CANADA CHEESE\\n2095-500 place d'Armes Montréal (Québec) H2Y2W2 Canada\\nNuméro de l'entreprise (NEQ)\\n1163405492\\nStatut de l'entreprise\\nImmatriculée\\nDate de mise à jour du statut\\n2005-12-19\\n2095-500 place d'Armes Montréal (Québec) H2Y2W2 Canada\\nNuméro de l'entreprise (NEQ)\\n1163405492\\nStatut de l'entreprise\\nImmatriculée\\nDate de mise à jour du statut\\n2005-12-19\\nStatut du nom\\nEn vigueur\\nDate de début du nom\\n2023-02-09\\nDate de fin du nom\\nConsulter Consulter\\nConsulter Consulter\", 'address': \"2095-500 place d'Armes Montréal (Québec) H2Y2W2 Canada\", 'neq': '1163405492', 'status': 'Société par actions ou compagnie', 'date_of_incorporation': '2005-12-16 Constitution', 'cae': '1049', 'activity': 'Autres industries de produits laitiers', 'details': 'PRODUCTION DE PRODUITS FROMAGERS ET AUTRES PRODUITS LAITIERS ET... PLUS GÉNÉRALEMENT DE PRODUITS AGRO-ALIMENTAIRES.', 'employees': 'De 100 à 249'}\n",
      "{'search_company_name': 'Bell Canada', 'card_info': \"FROMAGERIES BEL CANADA\\n2095-500 place d'Armes Montréal (Québec) H2Y2W2 Canada\\nNuméro de l'entreprise (NEQ)\\n1163405492\\nStatut de l'entreprise\\nImmatriculée\\nDate de mise à jour du statut\\n2005-12-19\\n2095-500 place d'Armes Montréal (Québec) H2Y2W2 Canada\\nNuméro de l'entreprise (NEQ)\\n1163405492\\nStatut de l'entreprise\\nImmatriculée\\nDate de mise à jour du statut\\n2005-12-19\\nStatut du nom\\nEn vigueur\\nDate de début du nom\\n2023-02-09\\nDate de fin du nom\\nConsulter Consulter\\nConsulter Consulter\", 'address': \"2095-500 place d'Armes Montréal (Québec) H2Y2W2 Canada\", 'neq': '1163405492', 'status': 'Société par actions ou compagnie', 'date_of_incorporation': '2005-12-16 Constitution', 'cae': '1049', 'activity': 'Autres industries de produits laitiers', 'details': 'PRODUCTION DE PRODUITS FROMAGERS ET AUTRES PRODUITS LAITIERS ET... PLUS GÉNÉRALEMENT DE PRODUITS AGRO-ALIMENTAIRES.', 'employees': 'De 100 à 249'}\n",
      "{'search_company_name': 'Bell Canada', 'card_info': \"BELL CANADA ENTERPRISES\\nA-7-1 Carrefour Alexander-Graham-Bell Verdun Québec H3E3B3 Canada\\nNuméro de l'entreprise (NEQ)\\n1142821256\\nStatut de l'entreprise\\nImmatriculée\\nDate de mise à jour du statut\\n1995-02-21\\nA-7-1 Carrefour Alexander-Graham-Bell Verdun Québec H3E3B3 Cana ...\\nNuméro de l'entreprise (NEQ)\\n1142821256\\nStatut de l'entreprise\\nImmatriculée\\nDate de mise à jour du statut\\n1995-02-21\\nStatut du nom\\nEn vigueur\\nDate de début du nom\\n1999-03-22\\nDate de fin du nom\\nConsulter Consulter\\nConsulter Consulter\", 'address': 'A-7-1 Carrefour Alexander-Graham-Bell  Verdun (Québec) H3E3B3 Canada', 'neq': '1142821256', 'status': 'Société par actions ou compagnie', 'date_of_incorporation': '1970-02-25 Constitution', 'cae': '7215', 'activity': 'Sociétés de portefeuille (holdings)', 'details': 'HOLDINGS', 'employees': 'Aucun'}\n",
      "{'search_company_name': 'Bell Canada', 'card_info': \"BELL CANADA ENTREPRISES\\nA-7-1 Carrefour Alexander-Graham-Bell Verdun Québec H3E3B3 Canada\\nNuméro de l'entreprise (NEQ)\\n1142821256\\nStatut de l'entreprise\\nImmatriculée\\nDate de mise à jour du statut\\n1995-02-21\\nA-7-1 Carrefour Alexander-Graham-Bell Verdun Québec H3E3B3 Cana ...\\nNuméro de l'entreprise (NEQ)\\n1142821256\\nStatut de l'entreprise\\nImmatriculée\\nDate de mise à jour du statut\\n1995-02-21\\nStatut du nom\\nEn vigueur\\nDate de début du nom\\n1999-03-22\\nDate de fin du nom\\nConsulter Consulter\\nConsulter Consulter\", 'address': 'A-7-1 Carrefour Alexander-Graham-Bell  Verdun (Québec) H3E3B3 Canada', 'neq': '1142821256', 'status': 'Société par actions ou compagnie', 'date_of_incorporation': '1970-02-25 Constitution', 'cae': '7215', 'activity': 'Sociétés de portefeuille (holdings)', 'details': 'HOLDINGS', 'employees': 'Aucun'}\n",
      "{'search_company_name': 'Bell Canada', 'card_info': \"BELL CANADA ENTERPRISES\\nA-7-1 Carrefour Alexander-Graham-Bell Verdun Québec H3E3B3 Canada\\nNuméro de l'entreprise (NEQ)\\n1142821256\\nStatut de l'entreprise\\nImmatriculée\\nDate de mise à jour du statut\\n1995-02-21\\nA-7-1 Carrefour Alexander-Graham-Bell Verdun Québec H3E3B3 Cana ...\\nNuméro de l'entreprise (NEQ)\\n1142821256\\nStatut de l'entreprise\\nImmatriculée\\nDate de mise à jour du statut\\n1995-02-21\\nStatut du nom\\nAntérieur\\nDate de début du nom\\n1999-03-22\\nDate de fin du nom\\n2003-02-25\\nConsulter Consulter\\nConsulter Consulter\", 'address': 'A-7-1 Carrefour Alexander-Graham-Bell  Verdun (Québec) H3E3B3 Canada', 'neq': '1142821256', 'status': 'Société par actions ou compagnie', 'date_of_incorporation': '1970-02-25 Constitution', 'cae': '7215', 'activity': 'Sociétés de portefeuille (holdings)', 'details': 'HOLDINGS', 'employees': 'Aucun'}\n",
      "{'search_company_name': 'Bombardier inc.', 'card_info': \"BOMBARDIER\\n400 ch. de la Côte-Vertu Dorval (Québec) H4S1Y9 Canada\\nNuméro de l'entreprise (NEQ)\\n1143920115\\nStatut de l'entreprise\\nImmatriculée\\nDate de mise à jour du statut\\n1995-03-21\\n400 ch. de la Côte-Vertu Dorval (Québec) H4S1Y9 Canada\\nNuméro de l'entreprise (NEQ)\\n1143920115\\nStatut de l'entreprise\\nImmatriculée\\nDate de mise à jour du statut\\n1995-03-21\\nStatut du nom\\nAntérieur\\nDate de début du nom\\n1996-01-16\\nDate de fin du nom\\n1997-12-19\\nConsulter Consulter\\nConsulter Consulter\", 'address': '400 ch. de la Côte-Vertu Dorval (Québec) H4S1Y9 Canada', 'neq': '1143920115', 'status': 'Société par actions ou compagnie', 'date_of_incorporation': '1902-06-19 Constitution', 'cae': '3211', 'activity': \"Industrie des aéronefs et des pièces d'aéronefs\", 'details': \"INDUSTRIE DES AÉRONEFS ET DES PIÈCES D'AÉRONEFS\", 'employees': 'Plus de 5000'}\n",
      "{'search_company_name': 'Bombardier inc.', 'card_info': \"BOMBARDIER INC.\\n400 ch. de la Côte-Vertu Dorval (Québec) H4S1Y9 Canada\\nNuméro de l'entreprise (NEQ)\\n1143920115\\nStatut de l'entreprise\\nImmatriculée\\nDate de mise à jour du statut\\n1995-03-21\\n400 ch. de la Côte-Vertu Dorval (Québec) H4S1Y9 Canada\\nNuméro de l'entreprise (NEQ)\\n1143920115\\nStatut de l'entreprise\\nImmatriculée\\nDate de mise à jour du statut\\n1995-03-21\\nStatut du nom\\nEn vigueur\\nDate de début du nom\\n2008-12-17\\nDate de fin du nom\\nConsulter Consulter\\nConsulter Consulter\", 'address': '400 ch. de la Côte-Vertu Dorval (Québec) H4S1Y9 Canada', 'neq': '1143920115', 'status': 'Société par actions ou compagnie', 'date_of_incorporation': '1902-06-19 Constitution', 'cae': '3211', 'activity': \"Industrie des aéronefs et des pièces d'aéronefs\", 'details': \"INDUSTRIE DES AÉRONEFS ET DES PIÈCES D'AÉRONEFS\", 'employees': 'Plus de 5000'}\n",
      "{'search_company_name': 'Bombardier inc.', 'card_info': \"BOMBARDIER INC.\\n400 ch. de la Côte-Vertu Dorval (Québec) H4S1Y9 Canada\\nNuméro de l'entreprise (NEQ)\\n1143920115\\nStatut de l'entreprise\\nImmatriculée\\nDate de mise à jour du statut\\n1995-03-21\\n400 ch. de la Côte-Vertu Dorval (Québec) H4S1Y9 Canada\\nNuméro de l'entreprise (NEQ)\\n1143920115\\nStatut de l'entreprise\\nImmatriculée\\nDate de mise à jour du statut\\n1995-03-21\\nStatut du nom\\nAntérieur\\nDate de début du nom\\n1995-03-21\\nDate de fin du nom\\n1996-01-17\\nConsulter Consulter\\nConsulter Consulter\", 'address': '400 ch. de la Côte-Vertu Dorval (Québec) H4S1Y9 Canada', 'neq': '1143920115', 'status': 'Société par actions ou compagnie', 'date_of_incorporation': '1902-06-19 Constitution', 'cae': '3211', 'activity': \"Industrie des aéronefs et des pièces d'aéronefs\", 'details': \"INDUSTRIE DES AÉRONEFS ET DES PIÈCES D'AÉRONEFS\", 'employees': 'Plus de 5000'}\n",
      "{'search_company_name': 'Bombardier inc.', 'card_info': \"BOMBARDIER INC.\\n400 ch. de la Côte-Vertu Dorval (Québec) H4S1Y9 Canada\\nNuméro de l'entreprise (NEQ)\\n1143920115\\nStatut de l'entreprise\\nImmatriculée\\nDate de mise à jour du statut\\n1995-03-21\\n400 ch. de la Côte-Vertu Dorval (Québec) H4S1Y9 Canada\\nNuméro de l'entreprise (NEQ)\\n1143920115\\nStatut de l'entreprise\\nImmatriculée\\nDate de mise à jour du statut\\n1995-03-21\\nStatut du nom\\nEn vigueur\\nDate de début du nom\\n1988-08-05\\nDate de fin du nom\\nConsulter Consulter\\nConsulter Consulter\", 'address': '400 ch. de la Côte-Vertu Dorval (Québec) H4S1Y9 Canada', 'neq': '1143920115', 'status': 'Société par actions ou compagnie', 'date_of_incorporation': '1902-06-19 Constitution', 'cae': '3211', 'activity': \"Industrie des aéronefs et des pièces d'aéronefs\", 'details': \"INDUSTRIE DES AÉRONEFS ET DES PIÈCES D'AÉRONEFS\", 'employees': 'Plus de 5000'}\n",
      "{'search_company_name': 'Bombardier inc.', 'card_info': \"BOMBARDIER GROUP\\n40 boul. Jean-Leman Candiac (Québec) J5R4B4 Canada\\nNuméro de l'entreprise (NEQ)\\n1166524455\\nStatut de l'entreprise\\nImmatriculée\\nDate de mise à jour du statut\\n2010-04-15\\n40 boul. Jean-Leman Candiac (Québec) J5R4B4 Canada\\nNuméro de l'entreprise (NEQ)\\n1166524455\\nStatut de l'entreprise\\nImmatriculée\\nDate de mise à jour du statut\\n2010-04-15\\nStatut du nom\\nEn vigueur\\nDate de début du nom\\n2010-09-17\\nDate de fin du nom\\nConsulter Consulter\\nConsulter Consulter\", 'address': '40 boul. Jean-Leman Candiac (Québec) J5R4B4 Canada', 'neq': '1166524455', 'status': 'Société par actions ou compagnie', 'date_of_incorporation': '2010-03-31 Constitution', 'cae': '7799', 'activity': 'Autres services aux entreprises', 'details': 'AUTRES SERVICES DE CONSULTATION', 'employees': 'De 1 à 5'}\n",
      "{'search_company_name': 'Bombardier inc.', 'card_info': \"Musée Bombardier\\n1000, RUE J. ARMAND BOMBARDIER VALCOURT (QUÉBEC) J0E2L0\\nNuméro de l'entreprise (NEQ)\\n1143594662\\nStatut de l'entreprise\\nImmatriculée\\nDate de mise à jour du statut\\n1995-03-14\\n1000, RUE J. ARMAND BOMBARDIER VALCOURT (QUÉBEC) J0E2L0\\nNuméro de l'entreprise (NEQ)\\n1143594662\\nStatut de l'entreprise\\nImmatriculée\\nDate de mise à jour du statut\\n1995-03-14\\nStatut du nom\\nEn vigueur\\nDate de début du nom\\n2011-07-11\\nDate de fin du nom\\nConsulter Consulter\\nConsulter Consulter\", 'address': '1000, RUE J. ARMAND BOMBARDIER VALCOURT (QUÉBEC) J0E2L0', 'neq': '1143594662', 'status': 'Personne morale sans but lucratif', 'date_of_incorporation': '1965-03-17 Constitution', 'cae': '9999', 'activity': 'Autres services', 'details': 'Fondation privée. Organisme de bienfaisance. Octroyant de l’aide financière à partir de fonds en fiducie pour soutenir un éventail d’activités ayant trait à la santé, à l’éducation, à la science, à la culture ou à d’autres aspects sociaux.', 'employees': 'De 26 à 49'}\n",
      "{'search_company_name': 'Borden Ladner Gervais S.E.N.C.R.L., S.R.L.', 'card_info': \"BORDEN LADNER GERVAIS S.E.N.C.R.L., S.R.L.\\n3400-22 Adelaide Street W Toronto Ontario M5H4E3 Canada\\nNuméro de l'entreprise (NEQ)\\n3349163793\\nStatut de l'entreprise\\nImmatriculée\\nDate de mise à jour du statut\\n2000-03-01\\n3400-22 Adelaide Street W Toronto Ontario M5H4E3 Canada\\nNuméro de l'entreprise (NEQ)\\n3349163793\\nStatut de l'entreprise\\nImmatriculée\\nDate de mise à jour du statut\\n2000-03-01\\nStatut du nom\\nEn vigueur\\nDate de début du nom\\n2010-11-11\\nDate de fin du nom\\nConsulter Consulter\\nConsulter Consulter\", 'address': '3400-22 Adelaide Street W  Toronto (Ontario) M5H4E3 Canada', 'neq': '3349163793', 'status': 'Société non constituée au Québec', 'date_of_incorporation': '', 'cae': '7761', 'activity': \"Études d'avocats ou de notaires, conseillers en loi, conseillers juridiques, membres du Barreau du Québec, procureurs, membres de la Chambre des notaires du Québec, notaires publics\", 'details': 'Avocats', 'employees': 'De 250 à 499'}\n",
      "{'search_company_name': 'Brivia Management Inc.', 'card_info': \"MANAGEMENT BRIVIA INC.\\n503-1425 boul. René-Lévesque O Montréal (Québec) H3G1T7 Canada\\nNuméro de l'entreprise (NEQ)\\n1168483726\\nStatut de l'entreprise\\nImmatriculée\\nDate de mise à jour du statut\\n2012-08-23\\n503-1425 boul. René-Lévesque O Montréal (Québec) H3G1T7 Canada\\nNuméro de l'entreprise (NEQ)\\n1168483726\\nStatut de l'entreprise\\nImmatriculée\\nDate de mise à jour du statut\\n2012-08-23\\nStatut du nom\\nEn vigueur\\nDate de début du nom\\n2012-08-22\\nDate de fin du nom\\nConsulter Consulter\\nConsulter Consulter\", 'address': '503-1425 boul. René-Lévesque O Montréal (Québec) H3G1T7 Canada', 'neq': '1168483726', 'status': 'Société par actions ou compagnie', 'date_of_incorporation': '2012-08-22 Constitution', 'cae': '7771', 'activity': 'Bureaux de conseillers en gestion', 'details': '-', 'employees': 'Aucun'}\n",
      "{'search_company_name': 'Brivia Management Inc.', 'card_info': \"BRIVIA MANAGEMENT INC.\\n503-1425 boul. René-Lévesque O Montréal (Québec) H3G1T7 Canada\\nNuméro de l'entreprise (NEQ)\\n1168483726\\nStatut de l'entreprise\\nImmatriculée\\nDate de mise à jour du statut\\n2012-08-23\\n503-1425 boul. René-Lévesque O Montréal (Québec) H3G1T7 Canada\\nNuméro de l'entreprise (NEQ)\\n1168483726\\nStatut de l'entreprise\\nImmatriculée\\nDate de mise à jour du statut\\n2012-08-23\\nStatut du nom\\nEn vigueur\\nDate de début du nom\\n2012-08-22\\nDate de fin du nom\\nConsulter Consulter\\nConsulter Consulter\", 'address': '503-1425 boul. René-Lévesque O Montréal (Québec) H3G1T7 Canada', 'neq': '1168483726', 'status': 'Société par actions ou compagnie', 'date_of_incorporation': '2012-08-22 Constitution', 'cae': '7771', 'activity': 'Bureaux de conseillers en gestion', 'details': '-', 'employees': 'Aucun'}\n",
      "{'search_company_name': 'Broccolini Construction inc.', 'card_info': \"CONSTRUCTION BROCCOLINI INC.\\n500-16766 route Transcanadienne Kirkland Québec H9H4M7 Canada\\nNuméro de l'entreprise (NEQ)\\n1143930650\\nStatut de l'entreprise\\nImmatriculée\\nDate de mise à jour du statut\\n1995-03-21\\n500-16766 route Transcanadienne Kirkland Québec H9H4M7 Canada\\nNuméro de l'entreprise (NEQ)\\n1143930650\\nStatut de l'entreprise\\nImmatriculée\\nDate de mise à jour du statut\\n1995-03-21\\nStatut du nom\\nEn vigueur\\nDate de début du nom\\n1993-03-01\\nDate de fin du nom\\nConsulter Consulter\\nConsulter Consulter\", 'address': '500-16766 route Transcanadienne  Kirkland (Québec) H9H4M7 Canada', 'neq': '1143930650', 'status': 'Société par actions ou compagnie', 'date_of_incorporation': '1955-11-17 Constitution', 'cae': '4012', 'activity': \"Promotion et construction d'autres types de constructions résidentielles\", 'details': '-', 'employees': 'De 100 à 249'}\n",
      "{'search_company_name': 'Broccolini Construction inc.', 'card_info': \"BROCCOLINI CONSTRUCTION INC.\\n500-16766 route Transcanadienne Kirkland Québec H9H4M7 Canada\\nNuméro de l'entreprise (NEQ)\\n1143930650\\nStatut de l'entreprise\\nImmatriculée\\nDate de mise à jour du statut\\n1995-03-21\\n500-16766 route Transcanadienne Kirkland Québec H9H4M7 Canada\\nNuméro de l'entreprise (NEQ)\\n1143930650\\nStatut de l'entreprise\\nImmatriculée\\nDate de mise à jour du statut\\n1995-03-21\\nStatut du nom\\nEn vigueur\\nDate de début du nom\\n1993-03-01\\nDate de fin du nom\\nConsulter Consulter\\nConsulter Consulter\", 'address': '500-16766 route Transcanadienne  Kirkland (Québec) H9H4M7 Canada', 'neq': '1143930650', 'status': 'Société par actions ou compagnie', 'date_of_incorporation': '1955-11-17 Constitution', 'cae': '4012', 'activity': \"Promotion et construction d'autres types de constructions résidentielles\", 'details': '-', 'employees': 'De 100 à 249'}\n",
      "{'search_company_name': 'Broccolini Construction inc.', 'card_info': \"CONSTRUCTION BROCCOLINI (OTTAWA)\\n500-16766 route Transcanadienne Kirkland Québec H9H4M7 Canada\\nNuméro de l'entreprise (NEQ)\\n1143930650\\nStatut de l'entreprise\\nImmatriculée\\nDate de mise à jour du statut\\n1995-03-21\\n500-16766 route Transcanadienne Kirkland Québec H9H4M7 Canada\\nNuméro de l'entreprise (NEQ)\\n1143930650\\nStatut de l'entreprise\\nImmatriculée\\nDate de mise à jour du statut\\n1995-03-21\\nStatut du nom\\nEn vigueur\\nDate de début du nom\\n2018-01-08\\nDate de fin du nom\\nConsulter Consulter\\nConsulter Consulter\", 'address': '500-16766 route Transcanadienne  Kirkland (Québec) H9H4M7 Canada', 'neq': '1143930650', 'status': 'Société par actions ou compagnie', 'date_of_incorporation': '1955-11-17 Constitution', 'cae': '4012', 'activity': \"Promotion et construction d'autres types de constructions résidentielles\", 'details': '-', 'employees': 'De 100 à 249'}\n",
      "{'search_company_name': 'Broccolini Construction inc.', 'card_info': \"BROCCOLINI CONSTRUCTION (OTTAWA)\\n500-16766 route Transcanadienne Kirkland Québec H9H4M7 Canada\\nNuméro de l'entreprise (NEQ)\\n1143930650\\nStatut de l'entreprise\\nImmatriculée\\nDate de mise à jour du statut\\n1995-03-21\\n500-16766 route Transcanadienne Kirkland Québec H9H4M7 Canada\\nNuméro de l'entreprise (NEQ)\\n1143930650\\nStatut de l'entreprise\\nImmatriculée\\nDate de mise à jour du statut\\n1995-03-21\\nStatut du nom\\nEn vigueur\\nDate de début du nom\\n2018-01-08\\nDate de fin du nom\\nConsulter Consulter\\nConsulter Consulter\", 'address': '500-16766 route Transcanadienne  Kirkland (Québec) H9H4M7 Canada', 'neq': '1143930650', 'status': 'Société par actions ou compagnie', 'date_of_incorporation': '1955-11-17 Constitution', 'cae': '4012', 'activity': \"Promotion et construction d'autres types de constructions résidentielles\", 'details': '-', 'employees': 'De 100 à 249'}\n",
      "{'search_company_name': 'Cascades', 'card_info': 'No results found for company: Cascades'}\n",
      "{'search_company_name': 'CIMA+ S.E.N.C', 'card_info': \"CIMA\\n300-1145 boul. Lebourgneuf Québec (Québec) G2K2K8 Canada\\nNuméro de l'entreprise (NEQ)\\n3347757984\\nStatut de l'entreprise\\nImmatriculée\\nDate de mise à jour du statut\\n1998-06-03\\n300-1145 boul. Lebourgneuf Québec (Québec) G2K2K8 Canada\\nNuméro de l'entreprise (NEQ)\\n3347757984\\nStatut de l'entreprise\\nImmatriculée\\nDate de mise à jour du statut\\n1998-06-03\\nStatut du nom\\nEn vigueur\\nDate de début du nom\\n1998-06-04\\nDate de fin du nom\\nConsulter Consulter\\nConsulter Consulter\", 'address': '300-1145 boul. Lebourgneuf Québec (Québec) G2K2K8 Canada', 'neq': '3347757984', 'status': 'Société en nom collectif', 'date_of_incorporation': '', 'cae': '7752', 'activity': \"Bureaux d'ingénieurs\", 'details': '-', 'employees': 'Aucun'}\n",
      "{'search_company_name': 'CIMA+ S.E.N.C', 'card_info': \"CIMA\\n86 51e Avenue Saint-Hippolyte (Québec) J8A1N4 Canada\\nNuméro de l'entreprise (NEQ)\\n1142336180\\nStatut de l'entreprise\\nImmatriculée\\nDate de mise à jour du statut\\n1995-02-06\\n86 51e Avenue Saint-Hippolyte (Québec) J8A1N4 Canada\\nNuméro de l'entreprise (NEQ)\\n1142336180\\nStatut de l'entreprise\\nImmatriculée\\nDate de mise à jour du statut\\n1995-02-06\\nStatut du nom\\nEn vigueur\\nDate de début du nom\\n2013-10-15\\nDate de fin du nom\\nConsulter Consulter\\nConsulter Consulter\", 'address': '86 51e Avenue Saint-Hippolyte (Québec) J8A1N4 Canada', 'neq': '1142336180', 'status': 'Personne morale sans but lucratif', 'date_of_incorporation': '1989-12-06 Constitution', 'cae': '8694', 'activity': 'Organismes de planification et de soutien des services sociaux', 'details': 'FONDATION DE CHARITÉ PRIVÉE', 'employees': 'Aucun'}\n",
      "{'search_company_name': 'CIMA+ S.E.N.C', 'card_info': \"CIMA\\n600-3400 boul. du Souvenir Laval (Québec) H7V3Z2 Canada\\nNuméro de l'entreprise (NEQ)\\n3340563140\\nStatut de l'entreprise\\nImmatriculée\\nDate de mise à jour du statut\\n1994-06-08\\n600-3400 boul. du Souvenir Laval (Québec) H7V3Z2 Canada\\nNuméro de l'entreprise (NEQ)\\n3340563140\\nStatut de l'entreprise\\nImmatriculée\\nDate de mise à jour du statut\\n1994-06-08\\nStatut du nom\\nAntérieur\\nDate de début du nom\\n1994-06-08\\nDate de fin du nom\\n1994-09-20\\nConsulter Consulter\\nConsulter Consulter\", 'address': '600-3400 boul. du Souvenir Laval (Québec) H7V3Z2 Canada', 'neq': '3340563140', 'status': 'Société en nom collectif', 'date_of_incorporation': '', 'cae': '7752', 'activity': \"Bureaux d'ingénieurs\", 'details': 'Cabinet de consultation des ingénieurs', 'employees': 'De 1000 à 2499'}\n",
      "{'search_company_name': 'CIMA+ S.E.N.C', 'card_info': \"CYMA\\n24 boul. de la Seigneurie E Blainville (Québec) J7C3V5 Canada\\nNuméro de l'entreprise (NEQ)\\n1163229496\\nStatut de l'entreprise\\nImmatriculée\\nDate de mise à jour du statut\\n2005-09-15\\n24 boul. de la Seigneurie E Blainville (Québec) J7C3V5 Canada\\nNuméro de l'entreprise (NEQ)\\n1163229496\\nStatut de l'entreprise\\nImmatriculée\\nDate de mise à jour du statut\\n2005-09-15\\nStatut du nom\\nAntérieur\\nDate de début du nom\\n2012-01-17\\nDate de fin du nom\\n2013-06-28\\nConsulter Consulter\\nConsulter Consulter\", 'address': '24 boul. de la Seigneurie E Blainville (Québec) J7C3V5 Canada', 'neq': '1163229496', 'status': 'Société par actions ou compagnie', 'date_of_incorporation': '2005-09-08 Constitution', 'cae': '9999', 'activity': 'Autres services', 'details': 'service de signalisation routière', 'employees': 'De 50 à 99'}\n",
      "{'search_company_name': 'CIMA+ S.E.N.C', 'card_info': \"CIMA+\\n300-1145 boul. Lebourgneuf Québec (Québec) G2K2K8 Canada\\nNuméro de l'entreprise (NEQ)\\n3347757984\\nStatut de l'entreprise\\nImmatriculée\\nDate de mise à jour du statut\\n1998-06-03\\n300-1145 boul. Lebourgneuf Québec (Québec) G2K2K8 Canada\\nNuméro de l'entreprise (NEQ)\\n3347757984\\nStatut de l'entreprise\\nImmatriculée\\nDate de mise à jour du statut\\n1998-06-03\\nStatut du nom\\nEn vigueur\\nDate de début du nom\\n1998-06-04\\nDate de fin du nom\\nConsulter Consulter\\nConsulter Consulter\", 'address': '300-1145 boul. Lebourgneuf Québec (Québec) G2K2K8 Canada', 'neq': '3347757984', 'status': 'Société en nom collectif', 'date_of_incorporation': '', 'cae': '7752', 'activity': \"Bureaux d'ingénieurs\", 'details': '-', 'employees': 'Aucun'}\n",
      "{'search_company_name': 'CIMA+ S.E.N.C', 'card_info': \"CYMMA\\n13 rue des Cortinaires Blainville (Québec) J7C5W3 Canada\\nNuméro de l'entreprise (NEQ)\\n2273147621\\nStatut de l'entreprise\\nImmatriculée\\nDate de mise à jour du statut\\n2017-10-12\\n13 rue des Cortinaires Blainville (Québec) J7C5W3 Canada\\nNuméro de l'entreprise (NEQ)\\n2273147621\\nStatut de l'entreprise\\nImmatriculée\\nDate de mise à jour du statut\\n2017-10-12\\nStatut du nom\\nEn vigueur\\nDate de début du nom\\n2018-01-09\\nDate de fin du nom\\nConsulter Consulter\\nConsulter Consulter\", 'address': '13 rue des Cortinaires Blainville (Québec) J7C5W3 Canada', 'neq': '2273147621', 'status': 'Entreprise individuelle', 'date_of_incorporation': None, 'cae': '9714', 'activity': 'Autres services de soins personnels', 'details': 'Entraineur sportif', 'employees': 'Aucun'}\n",
      "{'search_company_name': 'CIMA+ S.E.N.C', 'card_info': \"SDK/Cima+\\n2120-1751 rue Richardson Montréal (Québec) H3K1G6 Canada\\nNuméro de l'entreprise (NEQ)\\n3378773983\\nStatut de l'entreprise\\nImmatriculée\\nDate de mise à jour du statut\\n2023-05-29\\n2120-1751 rue Richardson Montréal (Québec) H3K1G6 Canada\\nNuméro de l'entreprise (NEQ)\\n3378773983\\nStatut de l'entreprise\\nImmatriculée\\nDate de mise à jour du statut\\n2023-05-29\\nStatut du nom\\nEn vigueur\\nDate de début du nom\\n2023-05-29\\nDate de fin du nom\\nConsulter Consulter\\nConsulter Consulter\", 'address': '2120-1751 rue Richardson Montréal (Québec) H3K1G6 Canada', 'neq': '3378773983', 'status': 'Autre groupement', 'date_of_incorporation': '2023-02-01', 'cae': '7752', 'activity': \"Bureaux d'ingénieurs\", 'details': 'Services professionnels - Projet Établissement de détention pour femmes - Montréal - Reconstruction', 'employees': 'Aucun'}\n",
      "{'search_company_name': 'CIMA+ S.E.N.C', 'card_info': \"CIMA-INFO\\n600-3400 boul. du Souvenir Laval (Québec) H7V3Z2 Canada\\nNuméro de l'entreprise (NEQ)\\n3340563140\\nStatut de l'entreprise\\nImmatriculée\\nDate de mise à jour du statut\\n1994-06-08\\n600-3400 boul. du Souvenir Laval (Québec) H7V3Z2 Canada\\nNuméro de l'entreprise (NEQ)\\n3340563140\\nStatut de l'entreprise\\nImmatriculée\\nDate de mise à jour du statut\\n1994-06-08\\nStatut du nom\\nEn vigueur\\nDate de début du nom\\n1997-03-12\\nDate de fin du nom\\nConsulter Consulter\\nConsulter Consulter\", 'address': '600-3400 boul. du Souvenir Laval (Québec) H7V3Z2 Canada', 'neq': '3340563140', 'status': 'Société en nom collectif', 'date_of_incorporation': '', 'cae': '7752', 'activity': \"Bureaux d'ingénieurs\", 'details': 'Cabinet de consultation des ingénieurs', 'employees': 'De 1000 à 2499'}\n",
      "{'search_company_name': 'CIMA+ S.E.N.C', 'card_info': \"Dessau/Cima+\\n300-10220 103 Avenue NW Edmonton Alberta T5J0K4 Canada\\nNuméro de l'entreprise (NEQ)\\n1170241336\\nStatut de l'entreprise\\nImmatriculée\\nDate de mise à jour du statut\\n2014-07-28\\n300-10220 103 Avenue NW Edmonton Alberta T5J0K4 Canada\\nNuméro de l'entreprise (NEQ)\\n1170241336\\nStatut de l'entreprise\\nImmatriculée\\nDate de mise à jour du statut\\n2014-07-28\\nStatut du nom\\nAntérieur\\nDate de début du nom\\n2015-02-11\\nDate de fin du nom\\n2024-09-20\\nConsulter Consulter\\nConsulter Consulter\", 'address': '300-10220 103 Avenue NW  Edmonton (Alberta) T5J0K4 Canada', 'neq': '1170241336', 'status': 'Société par actions ou compagnie', 'date_of_incorporation': '2014-01-01 Fusion', 'cae': '7799', 'activity': 'Autres services aux entreprises', 'details': 'Engineering and environmental consulting', 'employees': 'De 1000 à 2499'}\n",
      "{'search_company_name': 'Complexe X Inc.', 'card_info': \"Complexe X inc.\\n247D rue Sainte-Catherine Saint-Constant (Québec) J5A2J6 Canada\\nNuméro de l'entreprise (NEQ)\\n1173062374\\nStatut de l'entreprise\\nImmatriculée\\nDate de mise à jour du statut\\n2017-09-07\\n247D rue Sainte-Catherine Saint-Constant (Québec) J5A2J6 Canada\\nNuméro de l'entreprise (NEQ)\\n1173062374\\nStatut de l'entreprise\\nImmatriculée\\nDate de mise à jour du statut\\n2017-09-07\\nStatut du nom\\nEn vigueur\\nDate de début du nom\\n2017-09-06\\nDate de fin du nom\\nConsulter Consulter\\nConsulter Consulter\", 'address': '247D rue Sainte-Catherine Saint-Constant (Québec) J5A2J6 Canada', 'neq': '1173062374', 'status': 'Société par actions ou compagnie', 'date_of_incorporation': '2017-09-06 Constitution', 'cae': '8541', 'activity': 'Enseignement de formation personnelle et populaire', 'details': '-', 'employees': 'De 11 à 25'}\n",
      "{'search_company_name': 'Complexe X Inc.', 'card_info': \"Complexe X Junior\\n247D rue Sainte-Catherine Saint-Constant (Québec) J5A2J6 Canada\\nNuméro de l'entreprise (NEQ)\\n1177826741\\nStatut de l'entreprise\\nImmatriculée\\nDate de mise à jour du statut\\n2022-07-13\\n247D rue Sainte-Catherine Saint-Constant (Québec) J5A2J6 Canada\\nNuméro de l'entreprise (NEQ)\\n1177826741\\nStatut de l'entreprise\\nImmatriculée\\nDate de mise à jour du statut\\n2022-07-13\\nStatut du nom\\nEn vigueur\\nDate de début du nom\\n2022-07-13\\nDate de fin du nom\\nConsulter Consulter\\nConsulter Consulter\", 'address': '247D rue Sainte-Catherine Saint-Constant (Québec) J5A2J6 Canada', 'neq': '1177826741', 'status': 'Personne morale sans but lucratif', 'date_of_incorporation': '2022-07-13 Constitution', 'cae': '8648', 'activity': \"Services d'aide de nature affective ou psychologique\", 'details': \"Notre mission est d'accompagner les familles et les enfants à s'outiller pour se reconnecter à la conscience de soi et développer les aptitudes nécessaires pour bien évaluer à travers les étapes de l'enfances et de l'adolescence.\", 'employees': 'Aucun'}\n",
      "{'search_company_name': 'Complexe X Inc.', 'card_info': \"Complexe X Sérénité\\n247D rue Sainte-Catherine Saint-Constant (Québec) J5A2J6 Canada\\nNuméro de l'entreprise (NEQ)\\n1177769065\\nStatut de l'entreprise\\nImmatriculée\\nDate de mise à jour du statut\\n2022-06-21\\n247D rue Sainte-Catherine Saint-Constant (Québec) J5A2J6 Canada\\nNuméro de l'entreprise (NEQ)\\n1177769065\\nStatut de l'entreprise\\nImmatriculée\\nDate de mise à jour du statut\\n2022-06-21\\nStatut du nom\\nEn vigueur\\nDate de début du nom\\n2022-06-21\\nDate de fin du nom\\nConsulter Consulter\\nConsulter Consulter\", 'address': '247D rue Sainte-Catherine Saint-Constant (Québec) J5A2J6 Canada', 'neq': '1177769065', 'status': 'Personne morale sans but lucratif', 'date_of_incorporation': '2022-06-21 Constitution', 'cae': '8699', 'activity': 'Autres associations et organismes des domaines de la santé et des services sociaux', 'details': \"Notre mission est d'accompagner les individus ayant vécu de la détresse psychologique (violence, deuil, problèmes de santé mentales) par une offre de services d’ateliers, de coaching et de retraites fermées.\", 'employees': 'Aucun'}\n",
      "{'search_company_name': 'Complexe X Inc.', 'card_info': \"Complexe X Immigration\\n247D rue Sainte-Catherine Saint-Constant (Québec) J5A2J6 Canada\\nNuméro de l'entreprise (NEQ)\\n1177877595\\nStatut de l'entreprise\\nImmatriculée\\nDate de mise à jour du statut\\n2022-08-02\\n247D rue Sainte-Catherine Saint-Constant (Québec) J5A2J6 Canada\\nNuméro de l'entreprise (NEQ)\\n1177877595\\nStatut de l'entreprise\\nImmatriculée\\nDate de mise à jour du statut\\n2022-08-02\\nStatut du nom\\nEn vigueur\\nDate de début du nom\\n2022-08-02\\nDate de fin du nom\\nConsulter Consulter\\nConsulter Consulter\", 'address': '247D rue Sainte-Catherine Saint-Constant (Québec) J5A2J6 Canada', 'neq': '1177877595', 'status': 'Personne morale sans but lucratif', 'date_of_incorporation': '2022-08-02 Constitution', 'cae': '8648', 'activity': \"Services d'aide de nature affective ou psychologique\", 'details': 'A pour mission d’offrir des services d’intégration à la société québécoise par l’appropriation des valeurs et de la langue, notamment par des activités de socialisation, d’intégration et de francisation.', 'employees': 'De 1 à 5'}\n",
      "{'search_company_name': 'Complexe X Inc.', 'card_info': \"COMPLEXE EX-CENTRIS INC.\\n357 rue de la Commune O Montréal (Québec) H2Y2E2 Canada\\nNuméro de l'entreprise (NEQ)\\n1147499488\\nStatut de l'entreprise\\nImmatriculée\\nDate de mise à jour du statut\\n1998-03-04\\n357 rue de la Commune O Montréal (Québec) H2Y2E2 Canada\\nNuméro de l'entreprise (NEQ)\\n1147499488\\nStatut de l'entreprise\\nImmatriculée\\nDate de mise à jour du statut\\n1998-03-04\\nStatut du nom\\nEn vigueur\\nDate de début du nom\\n2000-05-10\\nDate de fin du nom\\nConsulter Consulter\\nConsulter Consulter\", 'address': '357 rue de la Commune O Montréal (Québec) H2Y2E2 Canada', 'neq': '1147499488', 'status': 'Société par actions ou compagnie', 'date_of_incorporation': '1996-02-22 Constitution', 'cae': '7215', 'activity': 'Sociétés de portefeuille (holdings)', 'details': 'HOLDING COMPANIES', 'employees': 'Aucun'}\n",
      "{'search_company_name': 'Complexe X Inc.', 'card_info': \"COPROPRIÉTÉ DU COMPLEXE EX-CENTRIS\\n7000-111 boul. Robert-Bourassa Montréal Québec H3C2M1 Canada\\nNuméro de l'entreprise (NEQ)\\n1148097158\\nStatut de l'entreprise\\nImmatriculée\\nDate de mise à jour du statut\\n1998-10-26\\n7000-111 boul. Robert-Bourassa Montréal Québec H3C2M1 Canada\\nNuméro de l'entreprise (NEQ)\\n1148097158\\nStatut de l'entreprise\\nImmatriculée\\nDate de mise à jour du statut\\n1998-10-26\\nStatut du nom\\nAntérieur\\nDate de début du nom\\n2000-07-27\\nDate de fin du nom\\n2002-01-28\\nConsulter Consulter\\nConsulter Consulter\", 'address': '7000-111 boul. Robert-Bourassa  Montréal (Québec) H3C2M1 Canada', 'neq': '1148097158', 'status': 'Syndicat de copropriété', 'date_of_incorporation': '1998-10-07 Constitution', 'cae': '7511', 'activity': 'Exploitants de bâtiments résidentiels et de logements', 'details': \"ADMINISTRATION DES PARTIES COMMUNES ET DES INTÉRÊTS DE LA COPROPRIÉTÉ EXPLOITATION D'UN STATIONNEMENT\", 'employees': 'Aucun'}\n",
      "{'search_company_name': 'Complexe X Inc.', 'card_info': \"SYNDICAT DE LA COPROPRIÉTÉ DU COMPLEXE EX-CENTRIS\\n7000-111 boul. Robert-Bourassa Montréal Québec H3C2M1 Canada\\nNuméro de l'entreprise (NEQ)\\n1148097158\\nStatut de l'entreprise\\nImmatriculée\\nDate de mise à jour du statut\\n1998-10-26\\n7000-111 boul. Robert-Bourassa Montréal Québec H3C2M1 Canada\\nNuméro de l'entreprise (NEQ)\\n1148097158\\nStatut de l'entreprise\\nImmatriculée\\nDate de mise à jour du statut\\n1998-10-26\\nStatut du nom\\nEn vigueur\\nDate de début du nom\\n2002-01-28\\nDate de fin du nom\\nConsulter Consulter\\nConsulter Consulter\", 'address': '7000-111 boul. Robert-Bourassa  Montréal (Québec) H3C2M1 Canada', 'neq': '1148097158', 'status': 'Syndicat de copropriété', 'date_of_incorporation': '1998-10-07 Constitution', 'cae': '7511', 'activity': 'Exploitants de bâtiments résidentiels et de logements', 'details': \"ADMINISTRATION DES PARTIES COMMUNES ET DES INTÉRÊTS DE LA COPROPRIÉTÉ EXPLOITATION D'UN STATIONNEMENT\", 'employees': 'Aucun'}\n",
      "{'search_company_name': 'Complexe X Inc.', 'card_info': \"Le Syndicat de la Copropriété du Complexe Ex-Centris/I\\n7000-111 boulevard Robert-Bourassa Montréal Québec H3C2M1 Canada\\nNuméro de l'entreprise (NEQ)\\n1168465210\\nStatut de l'entreprise\\nImmatriculée\\nDate de mise à jour du statut\\n2012-08-15\\n7000-111 boulevard Robert-Bourassa Montréal Québec H3C2M1 Canad ...\\nNuméro de l'entreprise (NEQ)\\n1168465210\\nStatut de l'entreprise\\nImmatriculée\\nDate de mise à jour du statut\\n2012-08-15\\nStatut du nom\\nEn vigueur\\nDate de début du nom\\n2021-12-22\\nDate de fin du nom\\nConsulter Consulter\\nConsulter Consulter\", 'address': '7000-111 boulevard Robert-Bourassa  Montréal (Québec) H3C2M1 Canada', 'neq': '1168465210', 'status': 'Syndicat de copropriété', 'date_of_incorporation': '2011-09-15 Constitution', 'cae': '7512', 'activity': 'Exploitants de bâtiments non résidentiels', 'details': 'CONSERVATION, ENTRETIEN ET ADMINISTRATION DES PARTIES COMMUNES ET DES INTÉRÊTS DE LA COPROPRIÉTÉ', 'employees': 'Aucun'}\n",
      "{'search_company_name': 'Complexe X Inc.', 'card_info': \"Complexe De La Trente\\n1670 crois. Rougemont Brossard (Québec) J4X2V2 Canada\\nNuméro de l'entreprise (NEQ)\\n1172337215\\nStatut de l'entreprise\\nImmatriculée\\nDate de mise à jour du statut\\n2016-11-29\\n1670 crois. Rougemont Brossard (Québec) J4X2V2 Canada\\nNuméro de l'entreprise (NEQ)\\n1172337215\\nStatut de l'entreprise\\nImmatriculée\\nDate de mise à jour du statut\\n2016-11-29\\nStatut du nom\\nEn vigueur\\nDate de début du nom\\n2017-01-19\\nDate de fin du nom\\nConsulter Consulter\\nConsulter Consulter\", 'address': '1670 crois. Rougemont Brossard (Québec) J4X2V2 Canada', 'neq': '1172337215', 'status': 'Société par actions ou compagnie', 'date_of_incorporation': '2016-11-29 Constitution', 'cae': '7599', 'activity': 'Autres exploitants immobiliers', 'details': '-', 'employees': 'De 1 à 5'}\n",
      "{'search_company_name': 'Complexe X Inc.', 'card_info': \"COMPLEXE INDUSTRIEL DE LA TRENTE\\n160 rue du Roi Sorel-Tracy (Québec) J3P4N5 Canada\\nNuméro de l'entreprise (NEQ)\\n1147896105\\nStatut de l'entreprise\\nImmatriculée\\nDate de mise à jour du statut\\n1998-08-05\\n160 rue du Roi Sorel-Tracy (Québec) J3P4N5 Canada\\nNuméro de l'entreprise (NEQ)\\n1147896105\\nStatut de l'entreprise\\nImmatriculée\\nDate de mise à jour du statut\\n1998-08-05\\nStatut du nom\\nAntérieur\\nDate de début du nom\\n2000-01-13\\nDate de fin du nom\\n2006-07-10\\nConsulter Consulter\\nConsulter Consulter\", 'address': '160 rue du Roi Sorel-Tracy (Québec) J3P4N5 Canada', 'neq': '1147896105', 'status': 'Société par actions ou compagnie', 'date_of_incorporation': '1998-06-30 Constitution', 'cae': '7511', 'activity': 'Exploitants de bâtiments résidentiels et de logements', 'details': 'IMMEUBLE COMMERCIAL LOCATIF', 'employees': 'Aucun'}\n",
      "{'search_company_name': 'Complexe X Inc.', 'card_info': \"Complexe Industriel De La Trente\\n1670 crois. Rougemont Brossard (Québec) J4X2V2 Canada\\nNuméro de l'entreprise (NEQ)\\n1172337215\\nStatut de l'entreprise\\nImmatriculée\\nDate de mise à jour du statut\\n2016-11-29\\n1670 crois. Rougemont Brossard (Québec) J4X2V2 Canada\\nNuméro de l'entreprise (NEQ)\\n1172337215\\nStatut de l'entreprise\\nImmatriculée\\nDate de mise à jour du statut\\n2016-11-29\\nStatut du nom\\nEn vigueur\\nDate de début du nom\\n2017-01-06\\nDate de fin du nom\\nConsulter Consulter\\nConsulter Consulter\", 'address': '1670 crois. Rougemont Brossard (Québec) J4X2V2 Canada', 'neq': '1172337215', 'status': 'Société par actions ou compagnie', 'date_of_incorporation': '2016-11-29 Constitution', 'cae': '7599', 'activity': 'Autres exploitants immobiliers', 'details': '-', 'employees': 'De 1 à 5'}\n",
      "{'search_company_name': 'Complexe X Inc.', 'card_info': \"Complexe Industriel de la Trente\\n160 rue du Roi Sorel-Tracy (Québec) J3P4N5 Canada\\nNuméro de l'entreprise (NEQ)\\n1147896105\\nStatut de l'entreprise\\nImmatriculée\\nDate de mise à jour du statut\\n1998-08-05\\n160 rue du Roi Sorel-Tracy (Québec) J3P4N5 Canada\\nNuméro de l'entreprise (NEQ)\\n1147896105\\nStatut de l'entreprise\\nImmatriculée\\nDate de mise à jour du statut\\n1998-08-05\\nStatut du nom\\nAntérieur\\nDate de début du nom\\n2022-06-20\\nDate de fin du nom\\n2022-06-22\\nConsulter Consulter\\nConsulter Consulter\", 'address': '160 rue du Roi Sorel-Tracy (Québec) J3P4N5 Canada', 'neq': '1147896105', 'status': 'Société par actions ou compagnie', 'date_of_incorporation': '1998-06-30 Constitution', 'cae': '7511', 'activity': 'Exploitants de bâtiments résidentiels et de logements', 'details': 'IMMEUBLE COMMERCIAL LOCATIF', 'employees': 'Aucun'}\n",
      "{'search_company_name': 'Complexe X Inc.', 'card_info': \"COMPLEXE INDUSTRIEL DE LA TRENTE INC.\\n160 rue du Roi Sorel-Tracy (Québec) J3P4N5 Canada\\nNuméro de l'entreprise (NEQ)\\n1147896105\\nStatut de l'entreprise\\nImmatriculée\\nDate de mise à jour du statut\\n1998-08-05\\n160 rue du Roi Sorel-Tracy (Québec) J3P4N5 Canada\\nNuméro de l'entreprise (NEQ)\\n1147896105\\nStatut de l'entreprise\\nImmatriculée\\nDate de mise à jour du statut\\n1998-08-05\\nStatut du nom\\nAntérieur\\nDate de début du nom\\n2006-06-28\\nDate de fin du nom\\n2017-02-01\\nConsulter Consulter\\nConsulter Consulter\", 'address': '160 rue du Roi Sorel-Tracy (Québec) J3P4N5 Canada', 'neq': '1147896105', 'status': 'Société par actions ou compagnie', 'date_of_incorporation': '1998-06-30 Constitution', 'cae': '7511', 'activity': 'Exploitants de bâtiments résidentiels et de logements', 'details': 'IMMEUBLE COMMERCIAL LOCATIF', 'employees': 'Aucun'}\n",
      "{'search_company_name': 'Conseillers en gestion et informatique Inc. - CGI', 'card_info': 'No results found for company: Conseillers en gestion et informatique Inc. - CGI'}\n",
      "{'search_company_name': 'EY (Ernst & Young LLP)', 'card_info': \"ERNST & YOUNG S.E.C.\\n3900-100 Adelaide St. W. EY Tower CP 1 Toronto Ontario M5H0B3 Canada\\nNuméro de l'entreprise (NEQ)\\n3361958294\\nStatut de l'entreprise\\nImmatriculée\\nDate de mise à jour du statut\\n2004-01-08\\n3900-100 Adelaide St. W. EY Tower CP 1 Toronto Ontario M5H0B3 C ...\\nNuméro de l'entreprise (NEQ)\\n3361958294\\nStatut de l'entreprise\\nImmatriculée\\nDate de mise à jour du statut\\n2004-01-08\\nStatut du nom\\nEn vigueur\\nDate de début du nom\\n2008-09-16\\nDate de fin du nom\\nConsulter Consulter\\nConsulter Consulter\", 'address': '3900-100 Adelaide St. W. EY Tower CP 1 Toronto (Ontario) M5H0B3 Canada', 'neq': '3361958294', 'status': 'Société non constituée au Québec', 'date_of_incorporation': '2003-12-31', 'cae': '7041', 'activity': 'Sociétés de prêts hypothécaires recevant des dépôts', 'details': 'Comptabilité générale et services connexes', 'employees': 'Aucun'}\n",
      "{'search_company_name': 'Gestion Deloitte s.e.c.', 'card_info': \"GESTION DELOITTE S.E.C\\n500-1190 AV. des Canadiens-de-Montréal Montréal Québec H3B0M7 Canada\\nNuméro de l'entreprise (NEQ)\\n3364165525\\nStatut de l'entreprise\\nImmatriculée\\nDate de mise à jour du statut\\n2007-01-10\\n500-1190 AV. des Canadiens-de-Montréal Montréal Québec H3B0M7 C ...\\nNuméro de l'entreprise (NEQ)\\n3364165525\\nStatut de l'entreprise\\nImmatriculée\\nDate de mise à jour du statut\\n2007-01-10\\nStatut du nom\\nEn vigueur\\nDate de début du nom\\n2007-05-15\\nDate de fin du nom\\nConsulter Consulter\\nConsulter Consulter\", 'address': '500-1190 AV. des Canadiens-de-Montréal  Montréal (Québec) H3B0M7 Canada', 'neq': '3364165525', 'status': 'Société non constituée au Québec', 'date_of_incorporation': '2007-01-10', 'cae': '7771', 'activity': 'Bureaux de conseillers en gestion', 'details': 'MANAGEMENT SERVICES', 'employees': 'De 250 à 499'}\n",
      "{'search_company_name': 'Gestion Deloitte s.e.c.', 'card_info': \"CONSEILLERS EN GESTION DELOITTE TOUCHE TOHMATSU S.E.C.\\n200-8 ST Adelaide W Toronto Ontario M5H0A9 Canada\\nNuméro de l'entreprise (NEQ)\\n3349579725\\nStatut de l'entreprise\\nImmatriculée\\nDate de mise à jour du statut\\n2000-09-15\\n200-8 ST Adelaide W Toronto Ontario M5H0A9 Canada\\nNuméro de l'entreprise (NEQ)\\n3349579725\\nStatut de l'entreprise\\nImmatriculée\\nDate de mise à jour du statut\\n2000-09-15\\nStatut du nom\\nEn vigueur\\nDate de début du nom\\n2020-07-03\\nDate de fin du nom\\nConsulter Consulter\\nConsulter Consulter\", 'address': '200-8 ST Adelaide W  Toronto (Ontario) M5H0A9 Canada', 'neq': '3349579725', 'status': 'Société non constituée au Québec', 'date_of_incorporation': '1999-08-01', 'cae': '7771', 'activity': 'Bureaux de conseillers en gestion', 'details': 'MANAGEMENT CONSULTING SERVICES', 'employees': 'Aucun'}\n",
      "{'search_company_name': 'Google Cloud Canada Corporation', 'card_info': \"Google Cloud Canada Corporation\\n600-1741 Lower Water Street, Halifax, Nova Scotia, B3J0J2 Canada\\nNuméro de l'entreprise (NEQ)\\n1172238306\\nStatut de l'entreprise\\nImmatriculée\\nDate de mise à jour du statut\\n2016-10-24\\n600-1741 Lower Water Street, Halifax, Nova Scotia, B3J0J2 Canad ...\\nNuméro de l'entreprise (NEQ)\\n1172238306\\nStatut de l'entreprise\\nImmatriculée\\nDate de mise à jour du statut\\n2016-10-24\\nStatut du nom\\nEn vigueur\\nDate de début du nom\\n2016-10-24\\nDate de fin du nom\\nConsulter Consulter\\nConsulter Consulter\", 'address': '600-1741 Lower Water Street,  Halifax, (Nova Scotia,) B3J0J2 Canada', 'neq': '1172238306', 'status': 'Société par actions ou compagnie', 'date_of_incorporation': '2016-07-20 Constitution', 'cae': '7721', 'activity': \"Services d'informatique\", 'details': 'Service de cloud computing', 'employees': 'De 6 à 10'}\n",
      "{'search_company_name': 'Groupe Banque TD', 'card_info': 'No results found for company: Groupe Banque TD'}\n",
      "{'search_company_name': 'Groupe Montoni (1995) Division Construction Inc', 'card_info': \"Le Groupe Montoni (1995) Division Construction\\n200-600 RUE Lucien-Paiement Laval Québec H7N0H7 Canada\\nNuméro de l'entreprise (NEQ)\\n1144802445\\nStatut de l'entreprise\\nImmatriculée\\nDate de mise à jour du statut\\n1995-06-26\\n200-600 RUE Lucien-Paiement Laval Québec H7N0H7 Canada\\nNuméro de l'entreprise (NEQ)\\n1144802445\\nStatut de l'entreprise\\nImmatriculée\\nDate de mise à jour du statut\\n1995-06-26\\nStatut du nom\\nEn vigueur\\nDate de début du nom\\n2014-02-03\\nDate de fin du nom\\nConsulter Consulter\\nConsulter Consulter\", 'address': '200-600 RUE Lucien-Paiement  Laval (Québec) H7N0H7 Canada', 'neq': '1144802445', 'status': 'Société par actions ou compagnie', 'date_of_incorporation': '1995-06-07 Constitution', 'cae': '4021', 'activity': 'Bâtiments industriels légers et manufactures', 'details': \"Promotion et construction de bâtiments non résidentiels \\n4021 Bâtiments industriels \\n4022 Bâtiments commerciaux \\n4023 Bâtiments d'institutions \\n4024 Rénovation de bâtiments non résidentiels\", 'employees': 'De 50 à 99'}\n",
      "{'search_company_name': 'Groupe Montoni (1995) Division Construction Inc', 'card_info': \"GROUPE MONTONI (1995) DIVISION CONSTRUCTION INC.\\n200-600 RUE Lucien-Paiement Laval Québec H7N0H7 Canada\\nNuméro de l'entreprise (NEQ)\\n1144802445\\nStatut de l'entreprise\\nImmatriculée\\nDate de mise à jour du statut\\n1995-06-26\\n200-600 RUE Lucien-Paiement Laval Québec H7N0H7 Canada\\nNuméro de l'entreprise (NEQ)\\n1144802445\\nStatut de l'entreprise\\nImmatriculée\\nDate de mise à jour du statut\\n1995-06-26\\nStatut du nom\\nEn vigueur\\nDate de début du nom\\n1995-10-31\\nDate de fin du nom\\nConsulter Consulter\\nConsulter Consulter\", 'address': '200-600 RUE Lucien-Paiement  Laval (Québec) H7N0H7 Canada', 'neq': '1144802445', 'status': 'Société par actions ou compagnie', 'date_of_incorporation': '1995-06-07 Constitution', 'cae': '4021', 'activity': 'Bâtiments industriels légers et manufactures', 'details': \"Promotion et construction de bâtiments non résidentiels \\n4021 Bâtiments industriels \\n4022 Bâtiments commerciaux \\n4023 Bâtiments d'institutions \\n4024 Rénovation de bâtiments non résidentiels\", 'employees': 'De 50 à 99'}\n"
     ]
    }
   ],
   "source": [
    "\n",
    "\n",
    "\n",
    "processed_data = []\n",
    "for cmp in data:\n",
    "    entity = {}\n",
    "\n",
    "    if \"No results found\" in cmp[\"card_info\"]:\n",
    "        entity[\"Company Name\"] = cmp[\"search_company_name\"]\n",
    "        entity[\"Info\"] = cmp[\"card_info\"]\n",
    "    else:\n",
    "        entity[\"Company Name\"] = cmp[\"search_company_name\"]\n",
    "        entity[\"Info\"] = cmp[\"card_info\"]\n",
    "        entity[\"address\"] = cmp[\"address\"]\n",
    "        entity[\"neq\"] = cmp[\"neq\"]\n",
    "        entity[\"status\"] = cmp[\"status\"]\n",
    "        entity[\"date_of_incorporation\"] = cmp[\"date_of_incorporation\"]\n",
    "        entity[\"cae\"] = cmp[\"cae\"]\n",
    "        entity[\"activity\"] = cmp[\"activity\"]\n",
    "        entity[\"details\"] = cmp[\"details\"]\n",
    "        entity[\"employees\"] = cmp[\"employees\"]\n",
    "        \n",
    "\n",
    "    print(entity)"
   ]
  },
  {
   "cell_type": "code",
   "execution_count": 4,
   "metadata": {},
   "outputs": [
    {
     "name": "stdout",
     "output_type": "stream",
     "text": [
      "\n"
     ]
    }
   ],
   "source": [
    "import pandas as pd\n",
    "\n",
    "df = pd.json_normalize(data)\n",
    "df.to_excel(\"gov_companies.xlsx\")\n",
    "print()"
   ]
  },
  {
   "cell_type": "code",
   "execution_count": null,
   "metadata": {},
   "outputs": [],
   "source": []
  }
 ],
 "metadata": {
  "kernelspec": {
   "display_name": "tf_env",
   "language": "python",
   "name": "python3"
  },
  "language_info": {
   "codemirror_mode": {
    "name": "ipython",
    "version": 3
   },
   "file_extension": ".py",
   "mimetype": "text/x-python",
   "name": "python",
   "nbconvert_exporter": "python",
   "pygments_lexer": "ipython3",
   "version": "3.8.20"
  }
 },
 "nbformat": 4,
 "nbformat_minor": 2
}
