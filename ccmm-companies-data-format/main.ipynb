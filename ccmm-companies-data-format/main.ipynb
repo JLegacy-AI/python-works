{
 "cells": [
  {
   "cell_type": "markdown",
   "metadata": {},
   "source": [
    "# CCMM - Data Format"
   ]
  },
  {
   "cell_type": "code",
   "execution_count": 12,
   "metadata": {},
   "outputs": [
    {
     "name": "stdout",
     "output_type": "stream",
     "text": [
      "2465\n"
     ]
    }
   ],
   "source": [
    "# LOADING JSON DATA\n",
    "import json\n",
    "\n",
    "file_path = \"D:\\\\Python\\\\python-works\\\\ccmm-companies-data-format\\\\ccmm-company-details.json\"\n",
    "with open(file_path,\"r\", encoding='utf-8') as file:\n",
    "    data = json.load(file)\n",
    "\n",
    "print(len(data))"
   ]
  },
  {
   "cell_type": "markdown",
   "metadata": {},
   "source": [
    "There are `2465` companies data.\n",
    "```js\n",
    "// SAMPLE DATA JSON\n",
    "{\n",
    "    name: \"\",\n",
    "    link: \"\",\n",
    "    SCIAN: \"\",\n",
    "    address_info: [],\n",
    "    main_delegate: [\n",
    "        {\n",
    "            name: \"\",\n",
    "            url: \"\",\n",
    "            position: \"\",\n",
    "            social_medias: [\"\"]\n",
    "        }\n",
    "    ],\n",
    "    secondary_delegate: [\n",
    "        {\n",
    "            name: \"\",\n",
    "            url: \"\",\n",
    "            position: \"\",\n",
    "            social_medias: [\"\"]\n",
    "        }\n",
    "    ]\n",
    "}\n",
    "\n",
    "```"
   ]
  },
  {
   "cell_type": "code",
   "execution_count": 4,
   "metadata": {},
   "outputs": [
    {
     "name": "stdout",
     "output_type": "stream",
     "text": [
      "{'Address': '74 Avenue du Dauphiné Candiac', 'Telephone': '+14504662275', 'Website': ''}\n"
     ]
    }
   ],
   "source": [
    "# FUNCTION TO RECOGNIZE WEBSITE, ADDRESS, TELEPHONE\n",
    "# FROM THE address_info LIST\n",
    "import re\n",
    "\n",
    "def extract_address_info(address_info):\n",
    "    result = {\n",
    "        \"Address\": \"\",\n",
    "        \"Telephone\": \"\",\n",
    "        \"Website\": \"\"\n",
    "    }\n",
    "    \n",
    "    for item in address_info:\n",
    "        if item.startswith('tel:'):\n",
    "            result['Telephone'] = item.replace('tel:', '')\n",
    "        elif item.startswith('http://') or item.startswith('https://'):\n",
    "            result['Website'] = item\n",
    "        else:\n",
    "            result['Address'] = item\n",
    "    \n",
    "    return result\n"
   ]
  },
  {
   "cell_type": "code",
   "execution_count": 19,
   "metadata": {},
   "outputs": [
    {
     "name": "stdout",
     "output_type": "stream",
     "text": [
      "{0, 1, 2, 3}\n"
     ]
    }
   ],
   "source": [
    "# THIS CODE ONLY TO SEPARATE THE MULTIPLE\n",
    "# SCIAN's WHICH ARE COMBINED IN SCIAN KEY\n",
    "\n",
    "scian_set = set()\n",
    "\n",
    "for com in data:\n",
    "    if \"SCIAN\" in com:\n",
    "        scian_set.add(len(com[\"SCIAN\"]))\n",
    "    else:\n",
    "        print(com)\n",
    "        break;\n",
    "\n",
    "print(scian_set)\n"
   ]
  },
  {
   "cell_type": "code",
   "execution_count": 16,
   "metadata": {},
   "outputs": [],
   "source": [
    "# CODE TO SPLIT THE SCIAN CODES\n",
    "import re\n",
    "\n",
    "def split_scian_codes(scian_string):\n",
    "    scian_codes = re.split(r'(?<!\\d)(\\d+) - ', scian_string)\n",
    "    \n",
    "    if scian_codes[0] == '':\n",
    "        scian_codes.pop(0)\n",
    "    \n",
    "    scian_codes = [f'{code} - {desc}' for code, desc in zip(scian_codes[0::2], scian_codes[1::2])]\n",
    "    \n",
    "    return scian_codes\n"
   ]
  },
  {
   "cell_type": "code",
   "execution_count": 17,
   "metadata": {},
   "outputs": [
    {
     "name": "stdout",
     "output_type": "stream",
     "text": [
      "{1, 2, 3}\n"
     ]
    }
   ],
   "source": [
    "# THIS CODE ONLY TO COUNT THE MULTIPLE\n",
    "# SCIAN's WHICH ARE COMBINED IN SCIAN KEY\n",
    "\n",
    "scian_set = set()\n",
    "\n",
    "for com in data:\n",
    "    if \"SCIAN\" in com :\n",
    "        scian_set.add(len(split_scian_codes(com[\"SCIAN\"])))\n",
    "    else:\n",
    "        print(com)\n",
    "        break;\n",
    "\n",
    "print(scian_set)"
   ]
  },
  {
   "cell_type": "code",
   "execution_count": 18,
   "metadata": {},
   "outputs": [
    {
     "name": "stdout",
     "output_type": "stream",
     "text": [
      "{'name': 'Accenture', 'link': 'https://www.ccmm.ca/fr/entreprises/accenture/', 'SCIAN': ['54161 - Services de conseils en gestion'], 'address_info': ['5 Place Ville-Marie suite 1520 Montréal', 'tel:+15148474027', 'http://www.accenture.com'], 'main_delegate': [{'name': 'Martine Lapointe', 'url': '#/', 'position': 'Directrice du Bureau de Montréal', 'social_medias': ['mailto:martine.lapointe@accenture.com']}], 'secondary_delegate': [{'name': 'Grace Ayoub', 'url': '/fr/membres/grace-ayoub/', 'position': 'Managing Director', 'social_medias': ['mailto:grace.ayoub@accenture.com']}, {'name': 'Kallia Mansour', 'url': '#/', 'position': 'Integrated Marketing Manager', 'social_medias': ['mailto:kallia.mansour@accenture.com']}, {'name': 'Souad Miloudi', 'url': '/fr/membres/souad-miloudi/', 'position': 'Assistante à la directoin', 'social_medias': ['mailto:souad.miloudi@accenture.com']}, {'name': 'Hadi Skalli', 'url': '/fr/membres/hadi-skalli/', 'position': 'Digital Business Intergrational Senior Manager', 'social_medias': ['mailto:HADI.SKALLI@ACCENTURE.COM']}, {'name': 'François Ste-Marie', 'url': '/fr/membres/francois-ste-marie/', 'position': 'Montreal Market Lead', 'social_medias': ['mailto:francois.ste-marie@accenture.com']}]}\n"
     ]
    }
   ],
   "source": [
    "# SPLITTING & VERIFYING MODIFICAITON\n",
    "for com in data:\n",
    "    if \"SCIAN\" in com and len(com[\"SCIAN\"]) > 0:\n",
    "        com[\"SCIAN\"] = split_scian_codes(com[\"SCIAN\"][0])\n"
   ]
  },
  {
   "cell_type": "code",
   "execution_count": 24,
   "metadata": {},
   "outputs": [],
   "source": [
    "# SEPARATE COMPANY DETAILS\n",
    "company_data = []\n",
    "\n",
    "for com  in data:\n",
    "    \n",
    "    address_info_results = extract_address_info(com[\"address_info\"])\n",
    "\n",
    "    company_data.append({\n",
    "        \"Name\": com[\"name\"],\n",
    "        \"Webpage\": com[\"link\"],\n",
    "        \"Address\": address_info_results[\"Address\"],\n",
    "        \"Telephone\": address_info_results[\"Telephone\"],\n",
    "        \"Website\": address_info_results[\"Website\"],\n",
    "        \"SCIAN Code 1\": com[\"SCIAN\"][0] if len(com[\"SCIAN\"]) > 0 else '',\n",
    "        \"SCIAN Code 2\": com[\"SCIAN\"][1] if len(com[\"SCIAN\"]) > 1 else '',\n",
    "        \"SCIAN Code 3\": com[\"SCIAN\"][2] if len(com[\"SCIAN\"]) > 2 else ''\n",
    "    })\n"
   ]
  },
  {
   "cell_type": "code",
   "execution_count": 27,
   "metadata": {},
   "outputs": [
    {
     "name": "stdout",
     "output_type": "stream",
     "text": [
      "                                             Name  \\\n",
      "0                                       Accenture   \n",
      "1                       ALLIED PROPERTIES MGT LTD   \n",
      "2                    Alstom Transport Canada Inc.   \n",
      "3  Association de la construction du Québec - ACQ   \n",
      "4                 Autorité des marchés financiers   \n",
      "\n",
      "                                             Webpage  \\\n",
      "0      https://www.ccmm.ca/fr/entreprises/accenture/   \n",
      "1  https://www.ccmm.ca/fr/entreprises/allied-prop...   \n",
      "2  https://www.ccmm.ca/fr/entreprises/alstom-tran...   \n",
      "3  https://www.ccmm.ca/fr/entreprises/association...   \n",
      "4  https://www.ccmm.ca/fr/entreprises/autorite-de...   \n",
      "\n",
      "                                             Address     Telephone  \\\n",
      "0            5 Place Ville-Marie suite 1520 Montréal  +15148474027   \n",
      "1  7000-111 Boul Robert-Bourassa Bureau 100 Montréal  +15148689002   \n",
      "2             1101, rue Parent 18e étage Saint-Bruno  +15147641725   \n",
      "3             9200, boul. Métropolitain Est Montréal  +15143540609   \n",
      "4                2640, boul. Laurier 8e étage Québec  +14185250337   \n",
      "\n",
      "                                      Website  \\\n",
      "0                    http://www.accenture.com   \n",
      "1                   http://www.alliedreit.com   \n",
      "2  https://www.alstom.com/fr/alstom-au-canada   \n",
      "3                        https://www.acq.org/   \n",
      "4        https://lautorite.qc.ca/grand-public   \n",
      "\n",
      "                                        SCIAN Code 1  \\\n",
      "0            54161 - Services de conseils en gestion   \n",
      "1  52311 - Services bancaires d'investissement et...   \n",
      "2  3359 - Fabrication d'autres types de matériel ...   \n",
      "3                        81399 - Autres associations   \n",
      "4                         52 - Finance et assurances   \n",
      "\n",
      "                                        SCIAN Code 2 SCIAN Code 3  \n",
      "0                                                                  \n",
      "1                                                                  \n",
      "2  3365 - Fabrication de matériel ferroviaire rou...               \n",
      "3                                                                  \n",
      "4                                                                  \n"
     ]
    }
   ],
   "source": [
    "# CONVERT JSON LIST TO DATAFRAME\n",
    "# ADD SAVE INTO EXCEL\n",
    "import pandas as pd\n",
    "\n",
    "companies_df = pd.json_normalize(company_data)\n",
    "companies_df.to_excel(\"company_details.xlsx\",sheet_name=\"Company Detail\",)\n",
    "\n",
    "print(companies_df.head())"
   ]
  },
  {
   "cell_type": "code",
   "execution_count": null,
   "metadata": {},
   "outputs": [],
   "source": []
  }
 ],
 "metadata": {
  "kernelspec": {
   "display_name": "tf_env",
   "language": "python",
   "name": "python3"
  },
  "language_info": {
   "codemirror_mode": {
    "name": "ipython",
    "version": 3
   },
   "file_extension": ".py",
   "mimetype": "text/x-python",
   "name": "python",
   "nbconvert_exporter": "python",
   "pygments_lexer": "ipython3",
   "version": "3.8.20"
  }
 },
 "nbformat": 4,
 "nbformat_minor": 2
}
