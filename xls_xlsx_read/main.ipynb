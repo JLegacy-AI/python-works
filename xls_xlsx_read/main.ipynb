{
 "cells": [
  {
   "cell_type": "code",
   "execution_count": null,
   "metadata": {},
   "outputs": [],
   "source": [
    "# \n",
    "# \n",
    "# Its Mandatory to have xlrd and openpyxl engines\n",
    "# \n",
    "# \n",
    "import pandas as pd\n",
    "\n",
    "def read_and_print_head(file_path):\n",
    "    try:\n",
    "        # Open the file\n",
    "        with open(file_path, 'rb') as file:\n",
    "            # Check if the file content appears to be HTML\n",
    "            file_content = file.read().decode(\"utf-8\", errors=\"ignore\")\n",
    "            file.seek(0)  # Reset the file pointer for future operations if needed\n",
    "\n",
    "            if \"<html\" in file_content.lower():  # Detect HTML content\n",
    "                # Read HTML-styled Excel content\n",
    "                tables = pd.read_html(file)\n",
    "                \n",
    "                # Find the maximum number of columns across all tables\n",
    "                max_columns = max(len(table.columns) for table in tables)\n",
    "                \n",
    "                # Standardize the column count for each table\n",
    "                standardized_tables = []\n",
    "                for table in tables:\n",
    "                    # Add empty columns if table has fewer than max_columns\n",
    "                    if len(table.columns) < max_columns:\n",
    "                        for i in range(len(table.columns), max_columns):\n",
    "                            table[f'Unnamed: {i}'] = pd.NA\n",
    "                    standardized_tables.append(table)\n",
    "\n",
    "                # Concatenate all tables vertically\n",
    "                df = pd.concat(standardized_tables, ignore_index=True)\n",
    "            else:\n",
    "                # Read regular Excel content based on file extension\n",
    "                df = pd.read_excel(file, engine=\"xlrd\" if file_path.endswith(\".xls\") else \"openpyxl\")\n",
    "\n",
    "        # Print the head of the DataFrame\n",
    "        print(df.head())\n",
    "\n",
    "    except Exception as e:\n",
    "        print(f\"An error occurred: {e}\")\n",
    "\n",
    "# Example usage:\n",
    "# read_and_print_head(\"path_to_your_file.xls\")\n"
   ]
  },
  {
   "cell_type": "code",
   "execution_count": null,
   "metadata": {},
   "outputs": [],
   "source": []
  }
 ],
 "metadata": {
  "kernelspec": {
   "display_name": "tf_env",
   "language": "python",
   "name": "python3"
  },
  "language_info": {
   "name": "python",
   "version": "3.8.20"
  }
 },
 "nbformat": 4,
 "nbformat_minor": 2
}
