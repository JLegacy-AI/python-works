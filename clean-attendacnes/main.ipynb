{
 "cells": [
  {
   "cell_type": "code",
   "execution_count": 3,
   "metadata": {},
   "outputs": [
    {
     "name": "stdout",
     "output_type": "stream",
     "text": [
      "25\n",
      "25\n",
      "Attendance data cleaned and saved to 'cleaned_attendance.json'.\n"
     ]
    }
   ],
   "source": [
    "import json\n",
    "\n",
    "# Function to load data from a JSON file\n",
    "def load_data_from_file(file_path):\n",
    "    with open(file_path, 'r') as file:\n",
    "        return json.load(file)\n",
    "\n",
    "# Load the block data from the 'blocks.json' file\n",
    "blocks_data = load_data_from_file('D:\\\\Python\\\\python-works\\\\clean-attendacnes\\\\saludb.blocks.json')\n",
    "\n",
    "# Load the attendance data from the 'attendance.json' file\n",
    "attendance_data = load_data_from_file('D:\\\\Python\\\\python-works\\\\clean-attendacnes\\\\saludb.attendaces.json')\n",
    "\n",
    "# Collect all attendance IDs from the blocks\n",
    "attendance_ids_in_blocks = set()\n",
    "for block in blocks_data:\n",
    "    print(len(block['attendance']))\n",
    "    for attendance in block['attendance']:\n",
    "        attendance_ids_in_blocks.add(attendance['$oid'])\n",
    "\n",
    "# Filter the attendance data to remove those not in the blocks\n",
    "cleaned_attendance_data = [\n",
    "    attendance for attendance in attendance_data\n",
    "    if attendance['_id']['$oid'] in attendance_ids_in_blocks\n",
    "]\n",
    "\n",
    "# Write the cleaned attendance data into a new file 'cleaned_attendance.json'\n",
    "with open('cleaned_attendance.json', 'w') as outfile:\n",
    "    json.dump(cleaned_attendance_data, outfile, indent=4)\n",
    "\n",
    "print(\"Attendance data cleaned and saved to 'cleaned_attendance.json'.\")\n"
   ]
  },
  {
   "cell_type": "code",
   "execution_count": null,
   "metadata": {},
   "outputs": [],
   "source": []
  }
 ],
 "metadata": {
  "kernelspec": {
   "display_name": "steel_profile",
   "language": "python",
   "name": "python3"
  },
  "language_info": {
   "codemirror_mode": {
    "name": "ipython",
    "version": 3
   },
   "file_extension": ".py",
   "mimetype": "text/x-python",
   "name": "python",
   "nbconvert_exporter": "python",
   "pygments_lexer": "ipython3",
   "version": "3.12.7"
  }
 },
 "nbformat": 4,
 "nbformat_minor": 2
}
